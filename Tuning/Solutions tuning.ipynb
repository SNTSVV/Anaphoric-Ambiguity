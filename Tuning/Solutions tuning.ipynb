{
 "cells": [
  {
   "cell_type": "markdown",
   "metadata": {},
   "source": [
    "# Imports"
   ]
  },
  {
   "cell_type": "code",
   "execution_count": 1,
   "metadata": {
    "ExecuteTime": {
     "end_time": "2021-08-30T14:08:17.281900Z",
     "start_time": "2021-08-30T14:08:09.334602Z"
    },
    "scrolled": true
   },
   "outputs": [
    {
     "name": "stderr",
     "output_type": "stream",
     "text": [
      "[nltk_data] Downloading package wordnet to\n",
      "[nltk_data]     C:\\Users\\moi\\AppData\\Roaming\\nltk_data...\n",
      "[nltk_data]   Package wordnet is already up-to-date!\n",
      "[nltk_data] Downloading package benepar_en3 to\n",
      "[nltk_data]     C:\\Users\\moi\\AppData\\Roaming\\nltk_data...\n",
      "[nltk_data]   Package benepar_en3 is already up-to-date!\n",
      "Downloading https://raw.githubusercontent.com/stanfordnlp/stanza-resources/master/resources_1.2.0.json: 128kB [00:00, 42.6MB/s]\n",
      "2021-09-03 14:29:57 INFO: Downloading default packages for language: en (English)...\n",
      "2021-09-03 14:29:58 INFO: File exists: C:\\Users\\moi\\stanza_resources\\en\\default.zip.\n",
      "2021-09-03 14:30:02 INFO: Finished downloading models and saved to C:\\Users\\moi\\stanza_resources.\n",
      "[nltk_data] Downloading package verbnet to\n",
      "[nltk_data]     C:\\Users\\moi\\AppData\\Roaming\\nltk_data...\n",
      "[nltk_data]   Package verbnet is already up-to-date!\n",
      "[nltk_data] Downloading package wordnet to\n",
      "[nltk_data]     C:\\Users\\moi\\AppData\\Roaming\\nltk_data...\n",
      "[nltk_data]   Package wordnet is already up-to-date!\n",
      "[nltk_data] Downloading package benepar_en3 to\n",
      "[nltk_data]     C:\\Users\\moi\\AppData\\Roaming\\nltk_data...\n",
      "[nltk_data]   Package benepar_en3 is already up-to-date!\n",
      "Downloading https://raw.githubusercontent.com/stanfordnlp/stanza-resources/master/resources_1.2.0.json: 128kB [00:00, 42.6MB/s]\n",
      "2021-09-03 14:30:02 INFO: Downloading default packages for language: en (English)...\n",
      "2021-09-03 14:30:03 INFO: File exists: C:\\Users\\moi\\stanza_resources\\en\\default.zip.\n",
      "2021-09-03 14:30:07 INFO: Finished downloading models and saved to C:\\Users\\moi\\stanza_resources.\n",
      "[nltk_data] Downloading package verbnet to\n",
      "[nltk_data]     C:\\Users\\moi\\AppData\\Roaming\\nltk_data...\n",
      "[nltk_data]   Package verbnet is already up-to-date!\n"
     ]
    }
   ],
   "source": [
    "import utils, importlib, sys\n",
    "importlib.reload(sys.modules['utils'])\n",
    "from utils import *"
   ]
  },
  {
   "cell_type": "code",
   "execution_count": 3,
   "metadata": {
    "ExecuteTime": {
     "end_time": "2021-08-30T16:15:21.684376Z",
     "start_time": "2021-08-30T16:15:21.675376Z"
    }
   },
   "outputs": [],
   "source": [
    "models={\n",
    "    'dt' : DecisionTreeClassifier(random_state=0),\n",
    "    'mlp': MLPClassifier(max_iter=100,random_state=0),\n",
    "    'knn': KNeighborsClassifier(),\n",
    "    'lr' : LogisticRegression(penalty='l2', random_state=0),\n",
    "    'gnb': GaussianNB(),\n",
    "    'rf' : RandomForestClassifier(random_state=0),\n",
    "    'svm': SVC(random_state=0,probability=True)\n",
    "    }"
   ]
  },
  {
   "cell_type": "code",
   "execution_count": 2,
   "metadata": {
    "ExecuteTime": {
     "end_time": "2021-08-30T16:15:34.746059Z",
     "start_time": "2021-08-30T16:15:33.948061Z"
    }
   },
   "outputs": [],
   "source": [
    "nlp = spacy.load(\"en_core_web_sm\")"
   ]
  },
  {
   "cell_type": "code",
   "execution_count": 3,
   "metadata": {
    "ExecuteTime": {
     "end_time": "2021-08-30T16:19:45.825162Z",
     "start_time": "2021-08-30T16:19:44.117167Z"
    }
   },
   "outputs": [],
   "source": [
    "nlp.add_pipe(benepar.BeneparComponent(\"benepar_en3\"))"
   ]
  },
  {
   "cell_type": "code",
   "execution_count": 4,
   "metadata": {
    "ExecuteTime": {
     "end_time": "2021-08-30T16:26:39.966202Z",
     "start_time": "2021-08-30T16:26:38.977146Z"
    }
   },
   "outputs": [
    {
     "name": "stderr",
     "output_type": "stream",
     "text": [
      "2021-09-03 14:30:13 INFO: Loading these models for language: en (English):\n",
      "=========================\n",
      "| Processor | Package   |\n",
      "-------------------------\n",
      "| tokenize  | combined  |\n",
      "| pos       | combined  |\n",
      "| lemma     | combined  |\n",
      "| depparse  | combined  |\n",
      "| sentiment | sstplus   |\n",
      "| ner       | ontonotes |\n",
      "=========================\n",
      "\n",
      "2021-09-03 14:30:13 INFO: Use device: cpu\n",
      "2021-09-03 14:30:13 INFO: Loading: tokenize\n",
      "2021-09-03 14:30:13 INFO: Loading: pos\n",
      "2021-09-03 14:30:13 INFO: Loading: lemma\n",
      "2021-09-03 14:30:14 INFO: Loading: depparse\n",
      "2021-09-03 14:30:14 INFO: Loading: sentiment\n",
      "2021-09-03 14:30:15 INFO: Loading: ner\n",
      "2021-09-03 14:30:16 INFO: Done loading processors!\n"
     ]
    }
   ],
   "source": [
    "nlp1 = stanza.Pipeline('en')"
   ]
  },
  {
   "cell_type": "markdown",
   "metadata": {},
   "source": [
    "# Linguistic features"
   ]
  },
  {
   "cell_type": "code",
   "execution_count": 5,
   "metadata": {
    "ExecuteTime": {
     "end_time": "2021-07-23T12:02:30.396147Z",
     "start_time": "2021-07-23T12:02:30.315515Z"
    }
   },
   "outputs": [],
   "source": [
    "reduced=pd.read_csv(\"3C-data.csv\",sep=\";\",index_col=0)"
   ]
  },
  {
   "cell_type": "code",
   "execution_count": 6,
   "metadata": {},
   "outputs": [
    {
     "data": {
      "application/vnd.jupyter.widget-view+json": {
       "model_id": "7c7b3bd846f545d3a96155bb1a955514",
       "version_major": 2,
       "version_minor": 0
      },
      "text/plain": [
       "  0%|          | 0/6666 [00:00<?, ?it/s]"
      ]
     },
     "metadata": {},
     "output_type": "display_data"
    }
   ],
   "source": [
    "reduced.Context=reduced.Context.progress_apply(lambda x: applynlp(x,nlp))"
   ]
  },
  {
   "cell_type": "code",
   "execution_count": 11,
   "metadata": {},
   "outputs": [
    {
     "data": {
      "text/plain": [
       "[1, 2]"
      ]
     },
     "execution_count": 11,
     "metadata": {},
     "output_type": "execute_result"
    }
   ],
   "source": [
    "ast.literal_eval(reduced[\"Candidate Antecedent\"][0])"
   ]
  },
  {
   "cell_type": "code",
   "execution_count": 12,
   "metadata": {
    "ExecuteTime": {
     "end_time": "2021-08-30T16:49:08.265515Z",
     "start_time": "2021-08-30T16:49:08.087518Z"
    }
   },
   "outputs": [],
   "source": [
    "reduced[\"Pronoun\"]=reduced.apply(lambda x: x[\"Context\"][int(x[\"Position\"])],axis=1)\n",
    "reduced[\"Candidate Antecedent\"]=reduced.apply(lambda x: x[\"Context\"][ast.literal_eval(x[\"Candidate Antecedent\"])[0]:ast.literal_eval(x[\"Candidate Antecedent\"])[1]],axis=1)"
   ]
  },
  {
   "cell_type": "code",
   "execution_count": 13,
   "metadata": {
    "ExecuteTime": {
     "end_time": "2021-08-30T16:49:18.519169Z",
     "start_time": "2021-08-30T16:49:18.512170Z"
    }
   },
   "outputs": [],
   "source": [
    "gt3=reduced.copy()"
   ]
  },
  {
   "cell_type": "code",
   "execution_count": null,
   "metadata": {
    "ExecuteTime": {
     "end_time": "2021-08-30T17:00:59.863151Z",
     "start_time": "2021-08-30T16:49:19.848214Z"
    }
   },
   "outputs": [],
   "source": [
    "gt3=extract_LF(gt3,nlp1)"
   ]
  },
  {
   "cell_type": "markdown",
   "metadata": {},
   "source": [
    "# InterRater agreement"
   ]
  },
  {
   "cell_type": "code",
   "execution_count": null,
   "metadata": {},
   "outputs": [],
   "source": [
    "reduced2=pd.read_csv(\"GT3_v21.8.23\",sep=\";\",index_col=0)"
   ]
  },
  {
   "cell_type": "code",
   "execution_count": null,
   "metadata": {
    "ExecuteTime": {
     "end_time": "2021-08-26T16:01:13.770220Z",
     "start_time": "2021-08-26T16:01:13.764220Z"
    }
   },
   "outputs": [],
   "source": [
    "reduced2.Annotator1=reduced2.Annotator1.apply(lambda x: int(x[0]))\n",
    "reduced2.Annotator2=reduced2.Annotator2.apply(lambda x: int(x[0]))"
   ]
  },
  {
   "cell_type": "code",
   "execution_count": null,
   "metadata": {
    "ExecuteTime": {
     "end_time": "2021-08-26T16:06:29.471891Z",
     "start_time": "2021-08-26T16:06:29.456891Z"
    }
   },
   "outputs": [],
   "source": [
    "reduced2.Annotator1.value_counts()"
   ]
  },
  {
   "cell_type": "code",
   "execution_count": null,
   "metadata": {
    "ExecuteTime": {
     "end_time": "2021-08-26T16:01:56.983632Z",
     "start_time": "2021-08-26T16:01:56.966630Z"
    },
    "scrolled": true
   },
   "outputs": [],
   "source": [
    "cohen_kappa_score(reduced2.Annotator1,reduced2.Annotator2)"
   ]
  },
  {
   "cell_type": "code",
   "execution_count": null,
   "metadata": {
    "ExecuteTime": {
     "end_time": "2021-08-26T16:07:38.388547Z",
     "start_time": "2021-08-26T16:07:38.353548Z"
    }
   },
   "outputs": [],
   "source": [
    "cohen_kappa_score(reduced2.Annotator1,reduced2.Annotator2,labels=[1,2,3])"
   ]
  },
  {
   "cell_type": "markdown",
   "metadata": {},
   "source": [
    "## Ambiguous"
   ]
  },
  {
   "cell_type": "code",
   "execution_count": 747,
   "metadata": {
    "ExecuteTime": {
     "end_time": "2021-08-26T16:03:32.320755Z",
     "start_time": "2021-08-26T16:03:32.305282Z"
    }
   },
   "outputs": [
    {
     "data": {
      "text/plain": [
       "0.13478095750868901"
      ]
     },
     "execution_count": 747,
     "metadata": {},
     "output_type": "execute_result"
    }
   ],
   "source": [
    "cohen_kappa_score(reduced2.Annotator1.replace({2:1}),reduced2.Annotator2.replace({2:1}))"
   ]
  },
  {
   "cell_type": "markdown",
   "metadata": {},
   "source": [
    "## Yes"
   ]
  },
  {
   "cell_type": "code",
   "execution_count": 748,
   "metadata": {
    "ExecuteTime": {
     "end_time": "2021-08-26T16:03:51.330391Z",
     "start_time": "2021-08-26T16:03:51.311370Z"
    }
   },
   "outputs": [
    {
     "data": {
      "text/plain": [
       "0.5526485852339384"
      ]
     },
     "execution_count": 748,
     "metadata": {},
     "output_type": "execute_result"
    }
   ],
   "source": [
    "cohen_kappa_score(reduced2.Annotator1.replace({2:3}),reduced2.Annotator2.replace({2:3}))"
   ]
  },
  {
   "cell_type": "markdown",
   "metadata": {},
   "source": [
    "## No"
   ]
  },
  {
   "cell_type": "code",
   "execution_count": 749,
   "metadata": {
    "ExecuteTime": {
     "end_time": "2021-08-26T16:04:04.169868Z",
     "start_time": "2021-08-26T16:04:04.151869Z"
    }
   },
   "outputs": [
    {
     "data": {
      "text/plain": [
       "0.5576755953782466"
      ]
     },
     "execution_count": 749,
     "metadata": {},
     "output_type": "execute_result"
    }
   ],
   "source": [
    "cohen_kappa_score(reduced2.Annotator1.replace({1:3}),reduced2.Annotator2.replace({1:3}))"
   ]
  },
  {
   "cell_type": "markdown",
   "metadata": {},
   "source": [
    "# Embeddings"
   ]
  },
  {
   "cell_type": "code",
   "execution_count": 67,
   "metadata": {
    "ExecuteTime": {
     "end_time": "2021-08-30T22:07:21.315223Z",
     "start_time": "2021-08-30T22:07:05.974182Z"
    }
   },
   "outputs": [],
   "source": [
    "tokenizer = transformers.BertTokenizer.from_pretrained('bert-base-cased')"
   ]
  },
  {
   "cell_type": "code",
   "execution_count": 68,
   "metadata": {
    "ExecuteTime": {
     "end_time": "2021-08-30T22:07:22.873483Z",
     "start_time": "2021-08-30T22:07:21.316224Z"
    },
    "scrolled": true
   },
   "outputs": [
    {
     "name": "stderr",
     "output_type": "stream",
     "text": [
      "Some weights of the model checkpoint at bert-base-cased were not used when initializing BertModel: ['cls.seq_relationship.weight', 'cls.predictions.bias', 'cls.predictions.transform.dense.weight', 'cls.predictions.transform.LayerNorm.bias', 'cls.seq_relationship.bias', 'cls.predictions.decoder.weight', 'cls.predictions.transform.dense.bias', 'cls.predictions.transform.LayerNorm.weight']\n",
      "- This IS expected if you are initializing BertModel from the checkpoint of a model trained on another task or with another architecture (e.g. initializing a BertForSequenceClassification model from a BertForPreTraining model).\n",
      "- This IS NOT expected if you are initializing BertModel from the checkpoint of a model that you expect to be exactly identical (initializing a BertForSequenceClassification model from a BertForSequenceClassification model).\n"
     ]
    }
   ],
   "source": [
    "model = transformers.BertModel.from_pretrained('bert-base-cased',output_hidden_states = True,)"
   ]
  },
  {
   "cell_type": "code",
   "execution_count": 69,
   "metadata": {
    "ExecuteTime": {
     "end_time": "2021-08-30T22:07:22.888484Z",
     "start_time": "2021-08-30T22:07:22.874483Z"
    }
   },
   "outputs": [
    {
     "data": {
      "text/plain": [
       "BertModel(\n",
       "  (embeddings): BertEmbeddings(\n",
       "    (word_embeddings): Embedding(28996, 768, padding_idx=0)\n",
       "    (position_embeddings): Embedding(512, 768)\n",
       "    (token_type_embeddings): Embedding(2, 768)\n",
       "    (LayerNorm): LayerNorm((768,), eps=1e-12, elementwise_affine=True)\n",
       "    (dropout): Dropout(p=0.1, inplace=False)\n",
       "  )\n",
       "  (encoder): BertEncoder(\n",
       "    (layer): ModuleList(\n",
       "      (0): BertLayer(\n",
       "        (attention): BertAttention(\n",
       "          (self): BertSelfAttention(\n",
       "            (query): Linear(in_features=768, out_features=768, bias=True)\n",
       "            (key): Linear(in_features=768, out_features=768, bias=True)\n",
       "            (value): Linear(in_features=768, out_features=768, bias=True)\n",
       "            (dropout): Dropout(p=0.1, inplace=False)\n",
       "          )\n",
       "          (output): BertSelfOutput(\n",
       "            (dense): Linear(in_features=768, out_features=768, bias=True)\n",
       "            (LayerNorm): LayerNorm((768,), eps=1e-12, elementwise_affine=True)\n",
       "            (dropout): Dropout(p=0.1, inplace=False)\n",
       "          )\n",
       "        )\n",
       "        (intermediate): BertIntermediate(\n",
       "          (dense): Linear(in_features=768, out_features=3072, bias=True)\n",
       "        )\n",
       "        (output): BertOutput(\n",
       "          (dense): Linear(in_features=3072, out_features=768, bias=True)\n",
       "          (LayerNorm): LayerNorm((768,), eps=1e-12, elementwise_affine=True)\n",
       "          (dropout): Dropout(p=0.1, inplace=False)\n",
       "        )\n",
       "      )\n",
       "      (1): BertLayer(\n",
       "        (attention): BertAttention(\n",
       "          (self): BertSelfAttention(\n",
       "            (query): Linear(in_features=768, out_features=768, bias=True)\n",
       "            (key): Linear(in_features=768, out_features=768, bias=True)\n",
       "            (value): Linear(in_features=768, out_features=768, bias=True)\n",
       "            (dropout): Dropout(p=0.1, inplace=False)\n",
       "          )\n",
       "          (output): BertSelfOutput(\n",
       "            (dense): Linear(in_features=768, out_features=768, bias=True)\n",
       "            (LayerNorm): LayerNorm((768,), eps=1e-12, elementwise_affine=True)\n",
       "            (dropout): Dropout(p=0.1, inplace=False)\n",
       "          )\n",
       "        )\n",
       "        (intermediate): BertIntermediate(\n",
       "          (dense): Linear(in_features=768, out_features=3072, bias=True)\n",
       "        )\n",
       "        (output): BertOutput(\n",
       "          (dense): Linear(in_features=3072, out_features=768, bias=True)\n",
       "          (LayerNorm): LayerNorm((768,), eps=1e-12, elementwise_affine=True)\n",
       "          (dropout): Dropout(p=0.1, inplace=False)\n",
       "        )\n",
       "      )\n",
       "      (2): BertLayer(\n",
       "        (attention): BertAttention(\n",
       "          (self): BertSelfAttention(\n",
       "            (query): Linear(in_features=768, out_features=768, bias=True)\n",
       "            (key): Linear(in_features=768, out_features=768, bias=True)\n",
       "            (value): Linear(in_features=768, out_features=768, bias=True)\n",
       "            (dropout): Dropout(p=0.1, inplace=False)\n",
       "          )\n",
       "          (output): BertSelfOutput(\n",
       "            (dense): Linear(in_features=768, out_features=768, bias=True)\n",
       "            (LayerNorm): LayerNorm((768,), eps=1e-12, elementwise_affine=True)\n",
       "            (dropout): Dropout(p=0.1, inplace=False)\n",
       "          )\n",
       "        )\n",
       "        (intermediate): BertIntermediate(\n",
       "          (dense): Linear(in_features=768, out_features=3072, bias=True)\n",
       "        )\n",
       "        (output): BertOutput(\n",
       "          (dense): Linear(in_features=3072, out_features=768, bias=True)\n",
       "          (LayerNorm): LayerNorm((768,), eps=1e-12, elementwise_affine=True)\n",
       "          (dropout): Dropout(p=0.1, inplace=False)\n",
       "        )\n",
       "      )\n",
       "      (3): BertLayer(\n",
       "        (attention): BertAttention(\n",
       "          (self): BertSelfAttention(\n",
       "            (query): Linear(in_features=768, out_features=768, bias=True)\n",
       "            (key): Linear(in_features=768, out_features=768, bias=True)\n",
       "            (value): Linear(in_features=768, out_features=768, bias=True)\n",
       "            (dropout): Dropout(p=0.1, inplace=False)\n",
       "          )\n",
       "          (output): BertSelfOutput(\n",
       "            (dense): Linear(in_features=768, out_features=768, bias=True)\n",
       "            (LayerNorm): LayerNorm((768,), eps=1e-12, elementwise_affine=True)\n",
       "            (dropout): Dropout(p=0.1, inplace=False)\n",
       "          )\n",
       "        )\n",
       "        (intermediate): BertIntermediate(\n",
       "          (dense): Linear(in_features=768, out_features=3072, bias=True)\n",
       "        )\n",
       "        (output): BertOutput(\n",
       "          (dense): Linear(in_features=3072, out_features=768, bias=True)\n",
       "          (LayerNorm): LayerNorm((768,), eps=1e-12, elementwise_affine=True)\n",
       "          (dropout): Dropout(p=0.1, inplace=False)\n",
       "        )\n",
       "      )\n",
       "      (4): BertLayer(\n",
       "        (attention): BertAttention(\n",
       "          (self): BertSelfAttention(\n",
       "            (query): Linear(in_features=768, out_features=768, bias=True)\n",
       "            (key): Linear(in_features=768, out_features=768, bias=True)\n",
       "            (value): Linear(in_features=768, out_features=768, bias=True)\n",
       "            (dropout): Dropout(p=0.1, inplace=False)\n",
       "          )\n",
       "          (output): BertSelfOutput(\n",
       "            (dense): Linear(in_features=768, out_features=768, bias=True)\n",
       "            (LayerNorm): LayerNorm((768,), eps=1e-12, elementwise_affine=True)\n",
       "            (dropout): Dropout(p=0.1, inplace=False)\n",
       "          )\n",
       "        )\n",
       "        (intermediate): BertIntermediate(\n",
       "          (dense): Linear(in_features=768, out_features=3072, bias=True)\n",
       "        )\n",
       "        (output): BertOutput(\n",
       "          (dense): Linear(in_features=3072, out_features=768, bias=True)\n",
       "          (LayerNorm): LayerNorm((768,), eps=1e-12, elementwise_affine=True)\n",
       "          (dropout): Dropout(p=0.1, inplace=False)\n",
       "        )\n",
       "      )\n",
       "      (5): BertLayer(\n",
       "        (attention): BertAttention(\n",
       "          (self): BertSelfAttention(\n",
       "            (query): Linear(in_features=768, out_features=768, bias=True)\n",
       "            (key): Linear(in_features=768, out_features=768, bias=True)\n",
       "            (value): Linear(in_features=768, out_features=768, bias=True)\n",
       "            (dropout): Dropout(p=0.1, inplace=False)\n",
       "          )\n",
       "          (output): BertSelfOutput(\n",
       "            (dense): Linear(in_features=768, out_features=768, bias=True)\n",
       "            (LayerNorm): LayerNorm((768,), eps=1e-12, elementwise_affine=True)\n",
       "            (dropout): Dropout(p=0.1, inplace=False)\n",
       "          )\n",
       "        )\n",
       "        (intermediate): BertIntermediate(\n",
       "          (dense): Linear(in_features=768, out_features=3072, bias=True)\n",
       "        )\n",
       "        (output): BertOutput(\n",
       "          (dense): Linear(in_features=3072, out_features=768, bias=True)\n",
       "          (LayerNorm): LayerNorm((768,), eps=1e-12, elementwise_affine=True)\n",
       "          (dropout): Dropout(p=0.1, inplace=False)\n",
       "        )\n",
       "      )\n",
       "      (6): BertLayer(\n",
       "        (attention): BertAttention(\n",
       "          (self): BertSelfAttention(\n",
       "            (query): Linear(in_features=768, out_features=768, bias=True)\n",
       "            (key): Linear(in_features=768, out_features=768, bias=True)\n",
       "            (value): Linear(in_features=768, out_features=768, bias=True)\n",
       "            (dropout): Dropout(p=0.1, inplace=False)\n",
       "          )\n",
       "          (output): BertSelfOutput(\n",
       "            (dense): Linear(in_features=768, out_features=768, bias=True)\n",
       "            (LayerNorm): LayerNorm((768,), eps=1e-12, elementwise_affine=True)\n",
       "            (dropout): Dropout(p=0.1, inplace=False)\n",
       "          )\n",
       "        )\n",
       "        (intermediate): BertIntermediate(\n",
       "          (dense): Linear(in_features=768, out_features=3072, bias=True)\n",
       "        )\n",
       "        (output): BertOutput(\n",
       "          (dense): Linear(in_features=3072, out_features=768, bias=True)\n",
       "          (LayerNorm): LayerNorm((768,), eps=1e-12, elementwise_affine=True)\n",
       "          (dropout): Dropout(p=0.1, inplace=False)\n",
       "        )\n",
       "      )\n",
       "      (7): BertLayer(\n",
       "        (attention): BertAttention(\n",
       "          (self): BertSelfAttention(\n",
       "            (query): Linear(in_features=768, out_features=768, bias=True)\n",
       "            (key): Linear(in_features=768, out_features=768, bias=True)\n",
       "            (value): Linear(in_features=768, out_features=768, bias=True)\n",
       "            (dropout): Dropout(p=0.1, inplace=False)\n",
       "          )\n",
       "          (output): BertSelfOutput(\n",
       "            (dense): Linear(in_features=768, out_features=768, bias=True)\n",
       "            (LayerNorm): LayerNorm((768,), eps=1e-12, elementwise_affine=True)\n",
       "            (dropout): Dropout(p=0.1, inplace=False)\n",
       "          )\n",
       "        )\n",
       "        (intermediate): BertIntermediate(\n",
       "          (dense): Linear(in_features=768, out_features=3072, bias=True)\n",
       "        )\n",
       "        (output): BertOutput(\n",
       "          (dense): Linear(in_features=3072, out_features=768, bias=True)\n",
       "          (LayerNorm): LayerNorm((768,), eps=1e-12, elementwise_affine=True)\n",
       "          (dropout): Dropout(p=0.1, inplace=False)\n",
       "        )\n",
       "      )\n",
       "      (8): BertLayer(\n",
       "        (attention): BertAttention(\n",
       "          (self): BertSelfAttention(\n",
       "            (query): Linear(in_features=768, out_features=768, bias=True)\n",
       "            (key): Linear(in_features=768, out_features=768, bias=True)\n",
       "            (value): Linear(in_features=768, out_features=768, bias=True)\n",
       "            (dropout): Dropout(p=0.1, inplace=False)\n",
       "          )\n",
       "          (output): BertSelfOutput(\n",
       "            (dense): Linear(in_features=768, out_features=768, bias=True)\n",
       "            (LayerNorm): LayerNorm((768,), eps=1e-12, elementwise_affine=True)\n",
       "            (dropout): Dropout(p=0.1, inplace=False)\n",
       "          )\n",
       "        )\n",
       "        (intermediate): BertIntermediate(\n",
       "          (dense): Linear(in_features=768, out_features=3072, bias=True)\n",
       "        )\n",
       "        (output): BertOutput(\n",
       "          (dense): Linear(in_features=3072, out_features=768, bias=True)\n",
       "          (LayerNorm): LayerNorm((768,), eps=1e-12, elementwise_affine=True)\n",
       "          (dropout): Dropout(p=0.1, inplace=False)\n",
       "        )\n",
       "      )\n",
       "      (9): BertLayer(\n",
       "        (attention): BertAttention(\n",
       "          (self): BertSelfAttention(\n",
       "            (query): Linear(in_features=768, out_features=768, bias=True)\n",
       "            (key): Linear(in_features=768, out_features=768, bias=True)\n",
       "            (value): Linear(in_features=768, out_features=768, bias=True)\n",
       "            (dropout): Dropout(p=0.1, inplace=False)\n",
       "          )\n",
       "          (output): BertSelfOutput(\n",
       "            (dense): Linear(in_features=768, out_features=768, bias=True)\n",
       "            (LayerNorm): LayerNorm((768,), eps=1e-12, elementwise_affine=True)\n",
       "            (dropout): Dropout(p=0.1, inplace=False)\n",
       "          )\n",
       "        )\n",
       "        (intermediate): BertIntermediate(\n",
       "          (dense): Linear(in_features=768, out_features=3072, bias=True)\n",
       "        )\n",
       "        (output): BertOutput(\n",
       "          (dense): Linear(in_features=3072, out_features=768, bias=True)\n",
       "          (LayerNorm): LayerNorm((768,), eps=1e-12, elementwise_affine=True)\n",
       "          (dropout): Dropout(p=0.1, inplace=False)\n",
       "        )\n",
       "      )\n",
       "      (10): BertLayer(\n",
       "        (attention): BertAttention(\n",
       "          (self): BertSelfAttention(\n",
       "            (query): Linear(in_features=768, out_features=768, bias=True)\n",
       "            (key): Linear(in_features=768, out_features=768, bias=True)\n",
       "            (value): Linear(in_features=768, out_features=768, bias=True)\n",
       "            (dropout): Dropout(p=0.1, inplace=False)\n",
       "          )\n",
       "          (output): BertSelfOutput(\n",
       "            (dense): Linear(in_features=768, out_features=768, bias=True)\n",
       "            (LayerNorm): LayerNorm((768,), eps=1e-12, elementwise_affine=True)\n",
       "            (dropout): Dropout(p=0.1, inplace=False)\n",
       "          )\n",
       "        )\n",
       "        (intermediate): BertIntermediate(\n",
       "          (dense): Linear(in_features=768, out_features=3072, bias=True)\n",
       "        )\n",
       "        (output): BertOutput(\n",
       "          (dense): Linear(in_features=3072, out_features=768, bias=True)\n",
       "          (LayerNorm): LayerNorm((768,), eps=1e-12, elementwise_affine=True)\n",
       "          (dropout): Dropout(p=0.1, inplace=False)\n",
       "        )\n",
       "      )\n",
       "      (11): BertLayer(\n",
       "        (attention): BertAttention(\n",
       "          (self): BertSelfAttention(\n",
       "            (query): Linear(in_features=768, out_features=768, bias=True)\n",
       "            (key): Linear(in_features=768, out_features=768, bias=True)\n",
       "            (value): Linear(in_features=768, out_features=768, bias=True)\n",
       "            (dropout): Dropout(p=0.1, inplace=False)\n",
       "          )\n",
       "          (output): BertSelfOutput(\n",
       "            (dense): Linear(in_features=768, out_features=768, bias=True)\n",
       "            (LayerNorm): LayerNorm((768,), eps=1e-12, elementwise_affine=True)\n",
       "            (dropout): Dropout(p=0.1, inplace=False)\n",
       "          )\n",
       "        )\n",
       "        (intermediate): BertIntermediate(\n",
       "          (dense): Linear(in_features=768, out_features=3072, bias=True)\n",
       "        )\n",
       "        (output): BertOutput(\n",
       "          (dense): Linear(in_features=3072, out_features=768, bias=True)\n",
       "          (LayerNorm): LayerNorm((768,), eps=1e-12, elementwise_affine=True)\n",
       "          (dropout): Dropout(p=0.1, inplace=False)\n",
       "        )\n",
       "      )\n",
       "    )\n",
       "  )\n",
       "  (pooler): BertPooler(\n",
       "    (dense): Linear(in_features=768, out_features=768, bias=True)\n",
       "    (activation): Tanh()\n",
       "  )\n",
       ")"
      ]
     },
     "execution_count": 69,
     "metadata": {},
     "output_type": "execute_result"
    }
   ],
   "source": [
    "model.eval()"
   ]
  },
  {
   "cell_type": "code",
   "execution_count": 70,
   "metadata": {
    "ExecuteTime": {
     "end_time": "2021-08-30T22:07:22.904484Z",
     "start_time": "2021-08-30T22:07:22.889484Z"
    }
   },
   "outputs": [],
   "source": [
    "def bert_text_preparation(text, tokenizer):\n",
    "    marked_text = \"[CLS] \" + text + \" [SEP]\"\n",
    "    tokenized_text = tokenizer.tokenize(marked_text)\n",
    "    indexed_tokens = tokenizer.convert_tokens_to_ids(tokenized_text)\n",
    "    segments_ids = [1]*len(indexed_tokens)\n",
    "    # Convert inputs to PyTorch tensors\n",
    "    tokens_tensor = torch.tensor([indexed_tokens])\n",
    "    segments_tensors = torch.tensor([segments_ids])\n",
    "    return tokenized_text, tokens_tensor, segments_tensors\n",
    "    \n",
    "def get_hidden_states(tokens_tensor, segments_tensors, model):    \n",
    "    with torch.no_grad():\n",
    "        outputs = model(tokens_tensor, segments_tensors)\n",
    "        # Removing the first hidden state\n",
    "        # The first state is the input state\n",
    "        hidden_states = outputs[2][1:]\n",
    "    \n",
    "    return hidden_states\n",
    "def get_token_embeddings(hidden_states):\n",
    "    token_embeddings = torch.stack(hidden_states, dim=0)\n",
    "    token_embeddings = torch.squeeze(token_embeddings, dim=1)\n",
    "    token_embeddings = token_embeddings.permute(1,0,2)\n",
    "    return token_embeddings"
   ]
  },
  {
   "cell_type": "code",
   "execution_count": 71,
   "metadata": {
    "ExecuteTime": {
     "end_time": "2021-08-30T22:07:22.919489Z",
     "start_time": "2021-08-30T22:07:22.905484Z"
    }
   },
   "outputs": [],
   "source": [
    "def get_word_emb(text,tokenizer=tokenizer,model=model):\n",
    "    tokenized_text, tokens_tensor, segments_tensors = bert_text_preparation(text,tokenizer)\n",
    "    hidden_states = get_hidden_states(tokens_tensor, segments_tensors, model)\n",
    "    token_embeddings = hidden_states[-1]\n",
    "    # Collapsing the tensor into 1-dimension\n",
    "    token_embeddings = torch.squeeze(token_embeddings, dim=0)\n",
    "    # Converting torchtensors to lists\n",
    "    list_token_embeddings = [token_embed.tolist() for token_embed in token_embeddings]\n",
    "    return list_token_embeddings"
   ]
  },
  {
   "cell_type": "code",
   "execution_count": 72,
   "metadata": {
    "ExecuteTime": {
     "end_time": "2021-08-30T22:07:22.935485Z",
     "start_time": "2021-08-30T22:07:22.920485Z"
    }
   },
   "outputs": [],
   "source": [
    "def get_word_emb_ml(text,tokenizer=tokenizer,model=model,mode=\"concate\"):\n",
    "    tokenized_text, tokens_tensor, segments_tensors = bert_text_preparation(text,tokenizer)\n",
    "    hidden_states = get_hidden_states(tokens_tensor, segments_tensors, model)\n",
    "    token_embeddings = get_token_embeddings(hidden_states)\n",
    "    if mode == \"concate\":\n",
    "        return concat4(token_embeddings)\n",
    "    elif mode == \"sum\":\n",
    "        return sum4(token_embeddings)\n",
    "    else:\n",
    "        print(\"invalid mode option\")"
   ]
  },
  {
   "cell_type": "code",
   "execution_count": 73,
   "metadata": {
    "ExecuteTime": {
     "end_time": "2021-08-30T22:07:22.950492Z",
     "start_time": "2021-08-30T22:07:22.936484Z"
    }
   },
   "outputs": [],
   "source": [
    "def get_sent_emb(text, tokenizer=tokenizer, model=model):\n",
    "    tokenized_text, tokens_tensor, segments_tensors = bert_text_preparation(\n",
    "        text, tokenizer)\n",
    "    hidden_states = get_hidden_states(tokens_tensor, segments_tensors, model)\n",
    "    token_vecs = hidden_states[-2][0]\n",
    "    # Calculate the average of all token vectors.\n",
    "    sentence_embedding = torch.mean(token_vecs, dim=0)\n",
    "    return sentence_embedding"
   ]
  },
  {
   "cell_type": "code",
   "execution_count": 74,
   "metadata": {
    "ExecuteTime": {
     "end_time": "2021-08-30T22:07:22.966484Z",
     "start_time": "2021-08-30T22:07:22.952485Z"
    }
   },
   "outputs": [],
   "source": [
    "def concat4(token_embeddings):\n",
    "    token_vecs_cat = []\n",
    "    # `token_embeddings` is a [22 x 12 x 768] tensor.\n",
    "    for token in token_embeddings:\n",
    "        # `token` is a [12 x 768] tensor\n",
    "        # Concatenate the vectors (that is, append them together) from the last\n",
    "        # four layers.\n",
    "        # Each layer vector is 768 values, so `cat_vec` is length 3,072.\n",
    "        cat_vec = torch.cat((token[-1], token[-2], token[-3], token[-4]),\n",
    "                            dim=0)\n",
    "\n",
    "        # Use `cat_vec` to represent `token`.\n",
    "        token_vecs_cat.append(cat_vec)\n",
    "    #     print ('Shape is: %d x %d' % (len(token_vecs_cat), len(token_vecs_cat[0])))\n",
    "    return token_vecs_cat"
   ]
  },
  {
   "cell_type": "code",
   "execution_count": 75,
   "metadata": {
    "ExecuteTime": {
     "end_time": "2021-08-30T22:07:22.981484Z",
     "start_time": "2021-08-30T22:07:22.967485Z"
    }
   },
   "outputs": [],
   "source": [
    "def sum4(token_embeddings):\n",
    "    token_vecs_sum = []\n",
    "    for token in token_embeddings:\n",
    "        sum_vec = torch.sum(token[-4:], dim=0)\n",
    "        token_vecs_sum.append(sum_vec)\n",
    "    return token_vecs_sum"
   ]
  },
  {
   "cell_type": "code",
   "execution_count": 76,
   "metadata": {
    "ExecuteTime": {
     "end_time": "2021-08-30T22:07:22.997486Z",
     "start_time": "2021-08-30T22:07:22.982484Z"
    }
   },
   "outputs": [],
   "source": [
    "def get_4layers_emb(text, tokenizer=tokenizer, model=model,concat=True):\n",
    "    tokenized_text, tokens_tensor, segments_tensors = bert_text_preparation(\n",
    "        text, tokenizer)\n",
    "    hidden_states = get_hidden_states(tokens_tensor, segments_tensors, model)\n",
    "    token_embeddings = get_token_embeddings(hidden_states)\n",
    "    token_vecs=np.nan\n",
    "    if concat:\n",
    "        token_vecs=concat4(token_embeddings)\n",
    "    else:\n",
    "        token_vecs=sum4(token_embeddings)\n",
    "    # Calculate the average of all token vectors.\n",
    "    sentence_embedding = torch.mean(torch.stack(token_vecs), dim=0)\n",
    "    return sentence_embedding"
   ]
  },
  {
   "cell_type": "code",
   "execution_count": 77,
   "metadata": {
    "ExecuteTime": {
     "end_time": "2021-08-30T22:07:23.013484Z",
     "start_time": "2021-08-30T22:07:22.999486Z"
    }
   },
   "outputs": [],
   "source": [
    "def prepare_data_to_save(dataframe):\n",
    "\n",
    "    dataframe['Pronoun'] = dataframe.apply(lambda x: x['Pronoun'].i, axis=1)\n",
    "\n",
    "    dataframe['Candidate Antecedent'] = dataframe.apply(\n",
    "        lambda x:\n",
    "        [x['Candidate Antecedent'].start, x['Candidate Antecedent'].end],\n",
    "        axis=1)\n",
    "\n",
    "    return dataframe"
   ]
  },
  {
   "cell_type": "code",
   "execution_count": 78,
   "metadata": {
    "ExecuteTime": {
     "end_time": "2021-08-30T22:07:23.028484Z",
     "start_time": "2021-08-30T22:07:23.014485Z"
    }
   },
   "outputs": [],
   "source": [
    "def loadSavedData(dataframe):\n",
    "\n",
    "    dataframe['Pronoun']=dataframe.apply(lambda x: x['Context'][x['Pronoun']], axis=1)\n",
    "\n",
    "    dataframe['Candidate Antecedent']=dataframe.apply(lambda x: x['Context'][x['Candidate Antecedent'][0]:x['Candidate Antecedent'][1]], axis=1)\n",
    "\n",
    "    return dataframe"
   ]
  },
  {
   "cell_type": "code",
   "execution_count": 62,
   "metadata": {
    "ExecuteTime": {
     "end_time": "2021-08-23T08:57:58.855609Z",
     "start_time": "2021-08-23T08:57:58.835786Z"
    }
   },
   "outputs": [],
   "source": [
    "gt3_backup=gt3.copy()"
   ]
  },
  {
   "cell_type": "code",
   "execution_count": 79,
   "metadata": {
    "ExecuteTime": {
     "end_time": "2021-08-30T22:08:53.896623Z",
     "start_time": "2021-08-30T22:08:53.889623Z"
    }
   },
   "outputs": [
    {
     "data": {
      "text/plain": [
       "2    5745\n",
       "0     747\n",
       "1     526\n",
       "Name: Answer, dtype: int64"
      ]
     },
     "execution_count": 79,
     "metadata": {},
     "output_type": "execute_result"
    }
   ],
   "source": [
    "gt3.Answer.value_counts()"
   ]
  },
  {
   "cell_type": "code",
   "execution_count": 85,
   "metadata": {
    "ExecuteTime": {
     "end_time": "2021-08-30T22:25:42.887915Z",
     "start_time": "2021-08-30T22:25:42.881914Z"
    }
   },
   "outputs": [],
   "source": [
    "def hashsent1(c,p):\n",
    "    return c[:p.i].text+\" \"+p.text+\"#1 \"+c[p.i+1:].text\n",
    "def hashsent2(c,p):\n",
    "    return c[:p.i].text+\" \"+p.text+\"#2 \"+c[p.i+1:].text\n",
    "def hashdouble(c,p,ca):\n",
    "    if p.i>ca.start:\n",
    "        return c[:ca.start].text+\" \"+ca.text+\"#2 \"+c[ca.end:p.i].text+\" \"+p.text+\"#1 \"+c[p.i+1:].text\n",
    "    if p.i<ca.start:\n",
    "        return c[:p.i].text+\" \"+p.text+\"#1 \"+c[p.i+1:ca.start].text+\" \"+ca.text+\"#2 \"+c[ca.end:].text\n",
    "    print(p, 'in', ca)"
   ]
  },
  {
   "cell_type": "markdown",
   "metadata": {},
   "source": [
    "## Second-to-last layer"
   ]
  },
  {
   "cell_type": "code",
   "execution_count": 88,
   "metadata": {
    "ExecuteTime": {
     "end_time": "2021-08-30T23:00:02.386445Z",
     "start_time": "2021-08-30T22:49:26.368981Z"
    }
   },
   "outputs": [],
   "source": [
    "Hs2v=gt3.apply(\n",
    "    lambda x: get_sent_emb(hashdouble(x['Context'],x['Pronoun'],x['Candidate Antecedent']).strip() + \" [SEP] \" + x['Pronoun'].text +\n",
    "                           \"#1 [SEP] \" + x['Candidate Antecedent'].text+\"#2\"),\n",
    "    axis=1)\n",
    "Hs2=Hs2v.apply(lambda s: pd.Series(\n",
    "    {i: float(s[i])\n",
    "     for i in range(0, len(Hs2v[Hs2v.index[0]]))}))"
   ]
  },
  {
   "cell_type": "markdown",
   "metadata": {},
   "source": [
    "## Concat Last Four Hidden Layers"
   ]
  },
  {
   "cell_type": "code",
   "execution_count": 86,
   "metadata": {
    "ExecuteTime": {
     "end_time": "2021-08-30T22:38:40.520101Z",
     "start_time": "2021-08-30T22:27:23.246262Z"
    }
   },
   "outputs": [],
   "source": [
    "Hc4v = gt3.apply(\n",
    "    lambda x: get_4layers_emb(hashdouble(x['Context'],x['Pronoun'],x['Candidate Antecedent']).strip() + \" [SEP] \" + x['Pronoun'].text +\n",
    "                           \"#1 [SEP] \" + x['Candidate Antecedent'].text+\"#2\"),\n",
    "    axis=1)\n",
    "Hc4=Hc4v.apply(lambda s: pd.Series(\n",
    "    {i: float(s[i])\n",
    "     for i in range(0, len(Hc4v[Hc4v.index[0]]))}))"
   ]
  },
  {
   "cell_type": "markdown",
   "metadata": {},
   "source": [
    "## Weighted Sum Last Four Hidden Layers"
   ]
  },
  {
   "cell_type": "code",
   "execution_count": 87,
   "metadata": {
    "ExecuteTime": {
     "end_time": "2021-08-30T22:49:26.366980Z",
     "start_time": "2021-08-30T22:38:40.521100Z"
    }
   },
   "outputs": [],
   "source": [
    "Hs4v = gt3.apply(\n",
    "    lambda x: get_4layers_emb(hashdouble(x['Context'],x['Pronoun'],x['Candidate Antecedent']).strip() + \" [SEP] \" + x['Pronoun'].text +\n",
    "                           \"#1 [SEP] \" + x['Candidate Antecedent'].text+\"#2\",concat=False),\n",
    "    axis=1)\n",
    "Hs4=Hs4v.apply(lambda s: pd.Series(\n",
    "    {i: float(s[i])\n",
    "     for i in range(0, len(Hs4v[Hs4v.index[0]]))}))"
   ]
  },
  {
   "cell_type": "code",
   "execution_count": 80,
   "metadata": {
    "ExecuteTime": {
     "end_time": "2021-08-23T09:33:29.306633Z",
     "start_time": "2021-08-23T09:33:29.286551Z"
    }
   },
   "outputs": [],
   "source": [
    "y=gt3.Answer"
   ]
  },
  {
   "cell_type": "code",
   "execution_count": 81,
   "metadata": {
    "ExecuteTime": {
     "end_time": "2021-08-23T09:33:29.326705Z",
     "start_time": "2021-08-23T09:33:29.306633Z"
    }
   },
   "outputs": [],
   "source": [
    "y=y.apply(lambda x: int(x))"
   ]
  },
  {
   "cell_type": "markdown",
   "metadata": {},
   "source": [
    "## SBert"
   ]
  },
  {
   "cell_type": "code",
   "execution_count": 166,
   "metadata": {
    "ExecuteTime": {
     "end_time": "2021-08-31T09:01:08.495404Z",
     "start_time": "2021-08-31T09:01:07.768393Z"
    }
   },
   "outputs": [],
   "source": [
    "sb=pd.read_csv(\"Sbert.csv\",sep=\";\",index_col=0)"
   ]
  },
  {
   "cell_type": "code",
   "execution_count": 168,
   "metadata": {
    "ExecuteTime": {
     "end_time": "2021-08-31T09:01:12.788174Z",
     "start_time": "2021-08-31T09:01:12.700173Z"
    }
   },
   "outputs": [],
   "source": [
    "e2sb=pd.read_csv(\"E2_Sbert\",sep=\";\",index_col=0)"
   ]
  },
  {
   "cell_type": "code",
   "execution_count": 169,
   "metadata": {
    "ExecuteTime": {
     "end_time": "2021-08-31T09:01:13.530185Z",
     "start_time": "2021-08-31T09:01:13.506188Z"
    }
   },
   "outputs": [
    {
     "data": {
      "text/html": [
       "<div>\n",
       "<style scoped>\n",
       "    .dataframe tbody tr th:only-of-type {\n",
       "        vertical-align: middle;\n",
       "    }\n",
       "\n",
       "    .dataframe tbody tr th {\n",
       "        vertical-align: top;\n",
       "    }\n",
       "\n",
       "    .dataframe thead th {\n",
       "        text-align: right;\n",
       "    }\n",
       "</style>\n",
       "<table border=\"1\" class=\"dataframe\">\n",
       "  <thead>\n",
       "    <tr style=\"text-align: right;\">\n",
       "      <th></th>\n",
       "      <th>0</th>\n",
       "      <th>1</th>\n",
       "      <th>2</th>\n",
       "      <th>3</th>\n",
       "      <th>4</th>\n",
       "      <th>5</th>\n",
       "      <th>6</th>\n",
       "      <th>7</th>\n",
       "      <th>8</th>\n",
       "      <th>9</th>\n",
       "      <th>...</th>\n",
       "      <th>758</th>\n",
       "      <th>759</th>\n",
       "      <th>760</th>\n",
       "      <th>761</th>\n",
       "      <th>762</th>\n",
       "      <th>763</th>\n",
       "      <th>764</th>\n",
       "      <th>765</th>\n",
       "      <th>766</th>\n",
       "      <th>767</th>\n",
       "    </tr>\n",
       "  </thead>\n",
       "  <tbody>\n",
       "    <tr>\n",
       "      <th>0</th>\n",
       "      <td>0.098836</td>\n",
       "      <td>-0.034070</td>\n",
       "      <td>-0.097639</td>\n",
       "      <td>0.061659</td>\n",
       "      <td>0.102550</td>\n",
       "      <td>0.032165</td>\n",
       "      <td>-0.084558</td>\n",
       "      <td>0.151422</td>\n",
       "      <td>0.104008</td>\n",
       "      <td>0.076060</td>\n",
       "      <td>...</td>\n",
       "      <td>-0.089872</td>\n",
       "      <td>0.079016</td>\n",
       "      <td>0.112327</td>\n",
       "      <td>0.133312</td>\n",
       "      <td>-0.023776</td>\n",
       "      <td>-0.044428</td>\n",
       "      <td>0.092579</td>\n",
       "      <td>-0.043635</td>\n",
       "      <td>-0.129403</td>\n",
       "      <td>-0.091527</td>\n",
       "    </tr>\n",
       "    <tr>\n",
       "      <th>1</th>\n",
       "      <td>0.113104</td>\n",
       "      <td>-0.071522</td>\n",
       "      <td>-0.050519</td>\n",
       "      <td>0.003001</td>\n",
       "      <td>0.057471</td>\n",
       "      <td>0.027816</td>\n",
       "      <td>-0.020002</td>\n",
       "      <td>0.108500</td>\n",
       "      <td>0.120959</td>\n",
       "      <td>0.101816</td>\n",
       "      <td>...</td>\n",
       "      <td>-0.066357</td>\n",
       "      <td>0.089366</td>\n",
       "      <td>0.057860</td>\n",
       "      <td>0.135067</td>\n",
       "      <td>-0.036175</td>\n",
       "      <td>-0.046824</td>\n",
       "      <td>0.089482</td>\n",
       "      <td>-0.001744</td>\n",
       "      <td>-0.109935</td>\n",
       "      <td>-0.065041</td>\n",
       "    </tr>\n",
       "    <tr>\n",
       "      <th>2</th>\n",
       "      <td>0.103032</td>\n",
       "      <td>-0.052044</td>\n",
       "      <td>-0.089228</td>\n",
       "      <td>0.047880</td>\n",
       "      <td>0.087766</td>\n",
       "      <td>0.042110</td>\n",
       "      <td>-0.050626</td>\n",
       "      <td>0.133466</td>\n",
       "      <td>0.119851</td>\n",
       "      <td>0.069993</td>\n",
       "      <td>...</td>\n",
       "      <td>-0.071466</td>\n",
       "      <td>0.069520</td>\n",
       "      <td>0.092058</td>\n",
       "      <td>0.141068</td>\n",
       "      <td>-0.016481</td>\n",
       "      <td>-0.020127</td>\n",
       "      <td>0.109146</td>\n",
       "      <td>-0.034173</td>\n",
       "      <td>-0.120903</td>\n",
       "      <td>-0.067266</td>\n",
       "    </tr>\n",
       "    <tr>\n",
       "      <th>3</th>\n",
       "      <td>0.175229</td>\n",
       "      <td>0.130393</td>\n",
       "      <td>-0.076083</td>\n",
       "      <td>-0.025140</td>\n",
       "      <td>-0.024879</td>\n",
       "      <td>0.156555</td>\n",
       "      <td>0.152766</td>\n",
       "      <td>0.095512</td>\n",
       "      <td>-0.042621</td>\n",
       "      <td>-0.153471</td>\n",
       "      <td>...</td>\n",
       "      <td>0.010930</td>\n",
       "      <td>0.014729</td>\n",
       "      <td>0.065912</td>\n",
       "      <td>-0.074227</td>\n",
       "      <td>-0.065778</td>\n",
       "      <td>-0.164393</td>\n",
       "      <td>0.059183</td>\n",
       "      <td>-0.014788</td>\n",
       "      <td>-0.042896</td>\n",
       "      <td>-0.033001</td>\n",
       "    </tr>\n",
       "    <tr>\n",
       "      <th>4</th>\n",
       "      <td>0.157831</td>\n",
       "      <td>0.053361</td>\n",
       "      <td>-0.057349</td>\n",
       "      <td>-0.029612</td>\n",
       "      <td>-0.006451</td>\n",
       "      <td>0.138998</td>\n",
       "      <td>0.156122</td>\n",
       "      <td>0.107582</td>\n",
       "      <td>-0.098198</td>\n",
       "      <td>-0.185145</td>\n",
       "      <td>...</td>\n",
       "      <td>-0.029284</td>\n",
       "      <td>0.019010</td>\n",
       "      <td>0.074145</td>\n",
       "      <td>-0.118780</td>\n",
       "      <td>-0.076750</td>\n",
       "      <td>-0.141577</td>\n",
       "      <td>0.065602</td>\n",
       "      <td>-0.003140</td>\n",
       "      <td>-0.073971</td>\n",
       "      <td>-0.003994</td>\n",
       "    </tr>\n",
       "    <tr>\n",
       "      <th>...</th>\n",
       "      <td>...</td>\n",
       "      <td>...</td>\n",
       "      <td>...</td>\n",
       "      <td>...</td>\n",
       "      <td>...</td>\n",
       "      <td>...</td>\n",
       "      <td>...</td>\n",
       "      <td>...</td>\n",
       "      <td>...</td>\n",
       "      <td>...</td>\n",
       "      <td>...</td>\n",
       "      <td>...</td>\n",
       "      <td>...</td>\n",
       "      <td>...</td>\n",
       "      <td>...</td>\n",
       "      <td>...</td>\n",
       "      <td>...</td>\n",
       "      <td>...</td>\n",
       "      <td>...</td>\n",
       "      <td>...</td>\n",
       "      <td>...</td>\n",
       "    </tr>\n",
       "    <tr>\n",
       "      <th>461</th>\n",
       "      <td>0.031356</td>\n",
       "      <td>-0.180729</td>\n",
       "      <td>-0.083762</td>\n",
       "      <td>-0.139116</td>\n",
       "      <td>0.001115</td>\n",
       "      <td>0.002384</td>\n",
       "      <td>0.011571</td>\n",
       "      <td>-0.041821</td>\n",
       "      <td>-0.124344</td>\n",
       "      <td>-0.045927</td>\n",
       "      <td>...</td>\n",
       "      <td>-0.049907</td>\n",
       "      <td>0.169860</td>\n",
       "      <td>0.023706</td>\n",
       "      <td>0.133420</td>\n",
       "      <td>-0.060225</td>\n",
       "      <td>-0.042851</td>\n",
       "      <td>0.105605</td>\n",
       "      <td>-0.042384</td>\n",
       "      <td>0.001513</td>\n",
       "      <td>-0.043737</td>\n",
       "    </tr>\n",
       "    <tr>\n",
       "      <th>462</th>\n",
       "      <td>-0.018403</td>\n",
       "      <td>-0.198877</td>\n",
       "      <td>-0.088098</td>\n",
       "      <td>-0.129980</td>\n",
       "      <td>0.033815</td>\n",
       "      <td>-0.019654</td>\n",
       "      <td>-0.012218</td>\n",
       "      <td>-0.039931</td>\n",
       "      <td>-0.094763</td>\n",
       "      <td>-0.008892</td>\n",
       "      <td>...</td>\n",
       "      <td>-0.015595</td>\n",
       "      <td>0.166933</td>\n",
       "      <td>0.014916</td>\n",
       "      <td>0.141364</td>\n",
       "      <td>-0.086510</td>\n",
       "      <td>-0.088442</td>\n",
       "      <td>0.113176</td>\n",
       "      <td>-0.017413</td>\n",
       "      <td>0.000763</td>\n",
       "      <td>-0.056675</td>\n",
       "    </tr>\n",
       "    <tr>\n",
       "      <th>463</th>\n",
       "      <td>0.022829</td>\n",
       "      <td>-0.189229</td>\n",
       "      <td>-0.069376</td>\n",
       "      <td>-0.154263</td>\n",
       "      <td>0.004649</td>\n",
       "      <td>0.008077</td>\n",
       "      <td>-0.008061</td>\n",
       "      <td>-0.036032</td>\n",
       "      <td>-0.171544</td>\n",
       "      <td>0.007881</td>\n",
       "      <td>...</td>\n",
       "      <td>-0.010617</td>\n",
       "      <td>0.142205</td>\n",
       "      <td>0.041048</td>\n",
       "      <td>0.099297</td>\n",
       "      <td>-0.063883</td>\n",
       "      <td>-0.007534</td>\n",
       "      <td>0.084413</td>\n",
       "      <td>-0.050950</td>\n",
       "      <td>-0.014620</td>\n",
       "      <td>-0.092045</td>\n",
       "    </tr>\n",
       "    <tr>\n",
       "      <th>464</th>\n",
       "      <td>0.004589</td>\n",
       "      <td>-0.152306</td>\n",
       "      <td>-0.096401</td>\n",
       "      <td>-0.140081</td>\n",
       "      <td>0.007004</td>\n",
       "      <td>0.021807</td>\n",
       "      <td>0.033049</td>\n",
       "      <td>-0.031986</td>\n",
       "      <td>-0.122380</td>\n",
       "      <td>-0.029709</td>\n",
       "      <td>...</td>\n",
       "      <td>-0.054144</td>\n",
       "      <td>0.175820</td>\n",
       "      <td>0.033444</td>\n",
       "      <td>0.143270</td>\n",
       "      <td>-0.048012</td>\n",
       "      <td>-0.078000</td>\n",
       "      <td>0.098245</td>\n",
       "      <td>-0.060529</td>\n",
       "      <td>-0.024583</td>\n",
       "      <td>-0.057923</td>\n",
       "    </tr>\n",
       "    <tr>\n",
       "      <th>465</th>\n",
       "      <td>0.148365</td>\n",
       "      <td>-0.111607</td>\n",
       "      <td>-0.073329</td>\n",
       "      <td>-0.037154</td>\n",
       "      <td>-0.070586</td>\n",
       "      <td>0.066124</td>\n",
       "      <td>0.035757</td>\n",
       "      <td>0.131097</td>\n",
       "      <td>-0.020406</td>\n",
       "      <td>-0.035717</td>\n",
       "      <td>...</td>\n",
       "      <td>-0.035686</td>\n",
       "      <td>-0.035232</td>\n",
       "      <td>0.107785</td>\n",
       "      <td>0.096954</td>\n",
       "      <td>-0.006025</td>\n",
       "      <td>-0.182365</td>\n",
       "      <td>0.168666</td>\n",
       "      <td>-0.048158</td>\n",
       "      <td>0.001349</td>\n",
       "      <td>-0.001611</td>\n",
       "    </tr>\n",
       "  </tbody>\n",
       "</table>\n",
       "<p>466 rows × 768 columns</p>\n",
       "</div>"
      ],
      "text/plain": [
       "            0         1         2         3         4         5         6  \\\n",
       "0    0.098836 -0.034070 -0.097639  0.061659  0.102550  0.032165 -0.084558   \n",
       "1    0.113104 -0.071522 -0.050519  0.003001  0.057471  0.027816 -0.020002   \n",
       "2    0.103032 -0.052044 -0.089228  0.047880  0.087766  0.042110 -0.050626   \n",
       "3    0.175229  0.130393 -0.076083 -0.025140 -0.024879  0.156555  0.152766   \n",
       "4    0.157831  0.053361 -0.057349 -0.029612 -0.006451  0.138998  0.156122   \n",
       "..        ...       ...       ...       ...       ...       ...       ...   \n",
       "461  0.031356 -0.180729 -0.083762 -0.139116  0.001115  0.002384  0.011571   \n",
       "462 -0.018403 -0.198877 -0.088098 -0.129980  0.033815 -0.019654 -0.012218   \n",
       "463  0.022829 -0.189229 -0.069376 -0.154263  0.004649  0.008077 -0.008061   \n",
       "464  0.004589 -0.152306 -0.096401 -0.140081  0.007004  0.021807  0.033049   \n",
       "465  0.148365 -0.111607 -0.073329 -0.037154 -0.070586  0.066124  0.035757   \n",
       "\n",
       "            7         8         9  ...       758       759       760  \\\n",
       "0    0.151422  0.104008  0.076060  ... -0.089872  0.079016  0.112327   \n",
       "1    0.108500  0.120959  0.101816  ... -0.066357  0.089366  0.057860   \n",
       "2    0.133466  0.119851  0.069993  ... -0.071466  0.069520  0.092058   \n",
       "3    0.095512 -0.042621 -0.153471  ...  0.010930  0.014729  0.065912   \n",
       "4    0.107582 -0.098198 -0.185145  ... -0.029284  0.019010  0.074145   \n",
       "..        ...       ...       ...  ...       ...       ...       ...   \n",
       "461 -0.041821 -0.124344 -0.045927  ... -0.049907  0.169860  0.023706   \n",
       "462 -0.039931 -0.094763 -0.008892  ... -0.015595  0.166933  0.014916   \n",
       "463 -0.036032 -0.171544  0.007881  ... -0.010617  0.142205  0.041048   \n",
       "464 -0.031986 -0.122380 -0.029709  ... -0.054144  0.175820  0.033444   \n",
       "465  0.131097 -0.020406 -0.035717  ... -0.035686 -0.035232  0.107785   \n",
       "\n",
       "          761       762       763       764       765       766       767  \n",
       "0    0.133312 -0.023776 -0.044428  0.092579 -0.043635 -0.129403 -0.091527  \n",
       "1    0.135067 -0.036175 -0.046824  0.089482 -0.001744 -0.109935 -0.065041  \n",
       "2    0.141068 -0.016481 -0.020127  0.109146 -0.034173 -0.120903 -0.067266  \n",
       "3   -0.074227 -0.065778 -0.164393  0.059183 -0.014788 -0.042896 -0.033001  \n",
       "4   -0.118780 -0.076750 -0.141577  0.065602 -0.003140 -0.073971 -0.003994  \n",
       "..        ...       ...       ...       ...       ...       ...       ...  \n",
       "461  0.133420 -0.060225 -0.042851  0.105605 -0.042384  0.001513 -0.043737  \n",
       "462  0.141364 -0.086510 -0.088442  0.113176 -0.017413  0.000763 -0.056675  \n",
       "463  0.099297 -0.063883 -0.007534  0.084413 -0.050950 -0.014620 -0.092045  \n",
       "464  0.143270 -0.048012 -0.078000  0.098245 -0.060529 -0.024583 -0.057923  \n",
       "465  0.096954 -0.006025 -0.182365  0.168666 -0.048158  0.001349 -0.001611  \n",
       "\n",
       "[466 rows x 768 columns]"
      ]
     },
     "execution_count": 169,
     "metadata": {},
     "output_type": "execute_result"
    }
   ],
   "source": [
    "e2sb"
   ]
  },
  {
   "cell_type": "markdown",
   "metadata": {},
   "source": [
    "# Train test split"
   ]
  },
  {
   "cell_type": "code",
   "execution_count": 131,
   "metadata": {
    "ExecuteTime": {
     "end_time": "2021-08-31T08:57:37.751501Z",
     "start_time": "2021-08-31T08:57:37.736501Z"
    }
   },
   "outputs": [],
   "source": [
    "X=gt3.drop(['Answer','Context','Pronoun','Candidate Antecedent','Answer'],axis=1)"
   ]
  },
  {
   "cell_type": "code",
   "execution_count": 132,
   "metadata": {
    "ExecuteTime": {
     "end_time": "2021-08-31T08:57:38.464599Z",
     "start_time": "2021-08-31T08:57:38.456599Z"
    }
   },
   "outputs": [],
   "source": [
    "y=gt3.Answer"
   ]
  },
  {
   "cell_type": "code",
   "execution_count": 133,
   "metadata": {
    "ExecuteTime": {
     "end_time": "2021-08-31T08:57:39.660621Z",
     "start_time": "2021-08-31T08:57:39.656621Z"
    }
   },
   "outputs": [],
   "source": [
    "X.isNextVerbAnimate=X.isNextVerbAnimate.astype(bool)"
   ]
  },
  {
   "cell_type": "code",
   "execution_count": 135,
   "metadata": {
    "ExecuteTime": {
     "end_time": "2021-08-31T08:57:45.699726Z",
     "start_time": "2021-08-31T08:57:45.450210Z"
    }
   },
   "outputs": [],
   "source": [
    "E2=loadObj(\"E2_S.obj\")"
   ]
  },
  {
   "cell_type": "code",
   "execution_count": 136,
   "metadata": {
    "ExecuteTime": {
     "end_time": "2021-08-31T08:57:46.266735Z",
     "start_time": "2021-08-31T08:57:46.254736Z"
    }
   },
   "outputs": [
    {
     "data": {
      "text/plain": [
       "466"
      ]
     },
     "execution_count": 136,
     "metadata": {},
     "output_type": "execute_result"
    }
   ],
   "source": [
    "len(E2)"
   ]
  },
  {
   "cell_type": "code",
   "execution_count": 137,
   "metadata": {
    "ExecuteTime": {
     "end_time": "2021-08-31T08:57:54.275892Z",
     "start_time": "2021-08-31T08:57:54.261892Z"
    }
   },
   "outputs": [],
   "source": [
    "X_2=E2.drop([\"Id\",\"Context\",\"Pronoun\",\"Candidate Antecedent\",\"Answer\",\"GT\"],axis=1)"
   ]
  },
  {
   "cell_type": "code",
   "execution_count": null,
   "metadata": {},
   "outputs": [],
   "source": [
    "X_2=X_2.loc[E2[~E2.Id.isin([\"railway#41\",\"railway#42\",\"railway#43-b\",\"railway#44\",\"railway#45\",\"railway#46-b\",\"railway#47\"])].index]"
   ]
  },
  {
   "cell_type": "code",
   "execution_count": 138,
   "metadata": {
    "ExecuteTime": {
     "end_time": "2021-08-31T08:57:55.034951Z",
     "start_time": "2021-08-31T08:57:55.016952Z"
    }
   },
   "outputs": [],
   "source": [
    "X_2.isNextVerbAnimate=X_2.isNextVerbAnimate.astype(bool)"
   ]
  },
  {
   "cell_type": "code",
   "execution_count": 139,
   "metadata": {
    "ExecuteTime": {
     "end_time": "2021-08-31T08:57:55.828965Z",
     "start_time": "2021-08-31T08:57:55.814965Z"
    }
   },
   "outputs": [],
   "source": [
    "y_2=E2.Answer"
   ]
  },
  {
   "cell_type": "code",
   "execution_count": 140,
   "metadata": {
    "ExecuteTime": {
     "end_time": "2021-08-31T08:57:59.790317Z",
     "start_time": "2021-08-31T08:57:59.784319Z"
    }
   },
   "outputs": [],
   "source": [
    "object_cols = []\n",
    "to_remove=[]\n",
    "for col, types in zip(\n",
    "        X_2.dtypes.index,\n",
    "        X_2.dtypes):\n",
    "    if types == object:\n",
    "        if len(X_2[col].unique())<30:\n",
    "            object_cols.append(col)\n",
    "        else:\n",
    "            to_remove.append(col)"
   ]
  },
  {
   "cell_type": "code",
   "execution_count": 141,
   "metadata": {
    "ExecuteTime": {
     "end_time": "2021-08-31T08:58:00.717333Z",
     "start_time": "2021-08-31T08:58:00.699334Z"
    }
   },
   "outputs": [],
   "source": [
    "X_2=X_2.drop(to_remove,axis=1)"
   ]
  },
  {
   "cell_type": "code",
   "execution_count": 142,
   "metadata": {
    "ExecuteTime": {
     "end_time": "2021-08-31T08:58:01.617631Z",
     "start_time": "2021-08-31T08:58:01.601632Z"
    }
   },
   "outputs": [],
   "source": [
    "X_2=pd.get_dummies(X_2,columns=object_cols)"
   ]
  },
  {
   "cell_type": "code",
   "execution_count": 143,
   "metadata": {
    "ExecuteTime": {
     "end_time": "2021-08-31T08:58:02.264642Z",
     "start_time": "2021-08-31T08:58:02.249643Z"
    }
   },
   "outputs": [
    {
     "name": "stdout",
     "output_type": "stream",
     "text": [
      "numWordsB4Comp 435\n",
      "numWordsB4Inf 320\n",
      "numWordsB4Prep 207\n",
      "numWordsB4Ing 388\n"
     ]
    }
   ],
   "source": [
    "for i,j in zip(X_2.isna().sum().index,X_2.isna().sum()):\n",
    "    if j>0:\n",
    "        print(i,j)"
   ]
  },
  {
   "cell_type": "code",
   "execution_count": 144,
   "metadata": {
    "ExecuteTime": {
     "end_time": "2021-08-31T08:58:05.532109Z",
     "start_time": "2021-08-31T08:58:05.520110Z"
    }
   },
   "outputs": [],
   "source": [
    "X_2=X_2.fillna(value=0)\n"
   ]
  },
  {
   "cell_type": "code",
   "execution_count": 155,
   "metadata": {
    "ExecuteTime": {
     "end_time": "2021-08-31T08:58:58.625864Z",
     "start_time": "2021-08-31T08:58:58.614866Z"
    }
   },
   "outputs": [],
   "source": [
    "for c2 in list(X_2.columns):\n",
    "    if c2 not in list(X.columns):\n",
    "        X_2.drop(c2,axis=1,inplace=True)"
   ]
  },
  {
   "cell_type": "code",
   "execution_count": 156,
   "metadata": {
    "ExecuteTime": {
     "end_time": "2021-08-31T08:59:00.624951Z",
     "start_time": "2021-08-31T08:59:00.609952Z"
    },
    "scrolled": true
   },
   "outputs": [
    {
     "name": "stdout",
     "output_type": "stream",
     "text": [
      "Id\n",
      "position_first\n",
      "position_last\n",
      "nextPOS_DET\n",
      "nextPOS_NUM\n",
      "nextPOS_PRON\n",
      "nextPOS_SCONJ\n",
      "headPOS_ADJ\n",
      "headPOS_PRON\n",
      "headPOS_PROPN\n",
      "headPOS_SCONJ\n",
      "precedingPOS_ADJ\n",
      "precedingPOS_AUX\n",
      "precedingPOS_PART\n",
      "precedingPOS_PRON\n",
      "precedingPOS_PROPN\n",
      "precedingPOS_X\n"
     ]
    }
   ],
   "source": [
    "for c1 in X.columns:\n",
    "    if c1 not in X_2.columns:\n",
    "        print(c1)\n",
    "        X_2[c1]=0"
   ]
  },
  {
   "cell_type": "code",
   "execution_count": 157,
   "metadata": {
    "ExecuteTime": {
     "end_time": "2021-08-31T08:59:02.434983Z",
     "start_time": "2021-08-31T08:59:02.429982Z"
    }
   },
   "outputs": [],
   "source": [
    "X_2.Id=E2.Id"
   ]
  },
  {
   "cell_type": "code",
   "execution_count": 145,
   "metadata": {
    "ExecuteTime": {
     "end_time": "2021-08-31T08:58:17.933809Z",
     "start_time": "2021-08-31T08:58:17.916809Z"
    },
    "scrolled": false
   },
   "outputs": [],
   "source": [
    "object_cols = []\n",
    "to_remove=[]\n",
    "for col, types in zip(\n",
    "        X.dtypes.index,\n",
    "        X.dtypes):\n",
    "    if types == object:\n",
    "        if len(X[col].unique())<30:\n",
    "            object_cols.append(col)\n",
    "        else:\n",
    "            to_remove.append(col)"
   ]
  },
  {
   "cell_type": "code",
   "execution_count": 146,
   "metadata": {
    "ExecuteTime": {
     "end_time": "2021-08-31T08:58:18.488818Z",
     "start_time": "2021-08-31T08:58:18.480818Z"
    }
   },
   "outputs": [
    {
     "data": {
      "text/plain": [
       "'Id'"
      ]
     },
     "execution_count": 146,
     "metadata": {},
     "output_type": "execute_result"
    }
   ],
   "source": [
    "to_remove.pop(0)"
   ]
  },
  {
   "cell_type": "code",
   "execution_count": 147,
   "metadata": {
    "ExecuteTime": {
     "end_time": "2021-08-31T08:58:19.905113Z",
     "start_time": "2021-08-31T08:58:19.894113Z"
    }
   },
   "outputs": [],
   "source": [
    "X=X.drop(to_remove,axis=1)"
   ]
  },
  {
   "cell_type": "code",
   "execution_count": 214,
   "metadata": {
    "ExecuteTime": {
     "end_time": "2021-09-02T09:18:26.158189Z",
     "start_time": "2021-09-02T09:18:26.149189Z"
    }
   },
   "outputs": [],
   "source": [
    "saveObj(X.columns,\"trainingCols.list\")"
   ]
  },
  {
   "cell_type": "code",
   "execution_count": 149,
   "metadata": {
    "ExecuteTime": {
     "end_time": "2021-08-31T08:58:23.656442Z",
     "start_time": "2021-08-31T08:58:23.647442Z"
    }
   },
   "outputs": [],
   "source": [
    "X=pd.get_dummies(X,columns=object_cols)"
   ]
  },
  {
   "cell_type": "code",
   "execution_count": 150,
   "metadata": {
    "ExecuteTime": {
     "end_time": "2021-08-31T08:58:25.908481Z",
     "start_time": "2021-08-31T08:58:25.894478Z"
    }
   },
   "outputs": [
    {
     "name": "stdout",
     "output_type": "stream",
     "text": [
      "numWordsB4Comp 6209\n",
      "numWordsB4Inf 4831\n",
      "numWordsB4Prep 3060\n",
      "numWordsB4Ing 5846\n"
     ]
    }
   ],
   "source": [
    "for i,j in zip(X.isna().sum().index,X.isna().sum()):\n",
    "    if j>0:\n",
    "        print(i,j)"
   ]
  },
  {
   "cell_type": "code",
   "execution_count": 151,
   "metadata": {
    "ExecuteTime": {
     "end_time": "2021-08-31T08:58:29.605220Z",
     "start_time": "2021-08-31T08:58:29.593542Z"
    }
   },
   "outputs": [],
   "source": [
    "X=X.fillna(value=0)\n"
   ]
  },
  {
   "cell_type": "code",
   "execution_count": 158,
   "metadata": {
    "ExecuteTime": {
     "end_time": "2021-08-31T08:59:28.199413Z",
     "start_time": "2021-08-31T08:59:28.187413Z"
    }
   },
   "outputs": [],
   "source": [
    "Train_Ids=loadObj(\"T_Ids.obj\")"
   ]
  },
  {
   "cell_type": "code",
   "execution_count": 159,
   "metadata": {
    "ExecuteTime": {
     "end_time": "2021-08-31T08:59:34.460369Z",
     "start_time": "2021-08-31T08:59:34.439369Z"
    }
   },
   "outputs": [],
   "source": [
    "X_train,X_test=X[X.Id.isin(Train_Ids)],X[~X.Id.isin(Train_Ids)]\n",
    "y_test = y.iloc[X_test.index].astype('int')\n",
    "y_train = y.iloc[X_train.index].astype('int')"
   ]
  },
  {
   "cell_type": "markdown",
   "metadata": {},
   "source": [
    "# Balance"
   ]
  },
  {
   "cell_type": "markdown",
   "metadata": {},
   "source": [
    "## OverSampling"
   ]
  },
  {
   "cell_type": "code",
   "execution_count": 1234,
   "metadata": {
    "ExecuteTime": {
     "end_time": "2021-08-04T10:51:23.014757Z",
     "start_time": "2021-08-04T10:51:22.922757Z"
    },
    "scrolled": true
   },
   "outputs": [],
   "source": [
    "X_SOS,y_SOS=SMOTE(sampling_strategy='auto', random_state=0).fit_resample(X_train.drop(\"Id\",axis=1),y_train)"
   ]
  },
  {
   "cell_type": "markdown",
   "metadata": {},
   "source": [
    "## Undersampling"
   ]
  },
  {
   "cell_type": "code",
   "execution_count": 87,
   "metadata": {
    "ExecuteTime": {
     "end_time": "2021-04-21T10:49:46.417922Z",
     "start_time": "2021-04-21T10:49:44.845530Z"
    }
   },
   "outputs": [],
   "source": [
    "X_RUS,y_RUS=RandomUnderSampler(sampling_strategy='auto', random_state=0).fit_resample(X_train,y_train)"
   ]
  },
  {
   "cell_type": "markdown",
   "metadata": {},
   "source": [
    "# Training - evaluation"
   ]
  },
  {
   "cell_type": "markdown",
   "metadata": {},
   "source": [
    "# Baseline"
   ]
  },
  {
   "cell_type": "markdown",
   "metadata": {},
   "source": [
    "## E1"
   ]
  },
  {
   "cell_type": "markdown",
   "metadata": {},
   "source": [
    "### Context"
   ]
  },
  {
   "cell_type": "code",
   "execution_count": 477,
   "metadata": {
    "ExecuteTime": {
     "end_time": "2021-08-24T12:52:14.124914Z",
     "start_time": "2021-08-24T12:52:13.524579Z"
    }
   },
   "outputs": [],
   "source": [
    "yT_pred=[]\n",
    "for i in X_test.index:\n",
    "    Id=X_test.Id[i]\n",
    "    if len(X_test[X_test.Id==Id])!=1:\n",
    "        yT_pred.append(0)\n",
    "    else:\n",
    "        yT_pred.append(random.choice([1,2]))"
   ]
  },
  {
   "cell_type": "code",
   "execution_count": 484,
   "metadata": {
    "ExecuteTime": {
     "end_time": "2021-08-24T12:57:19.370923Z",
     "start_time": "2021-08-24T12:57:19.355298Z"
    }
   },
   "outputs": [
    {
     "name": "stdout",
     "output_type": "stream",
     "text": [
      "precision 0.5743889479277364\n",
      "recall 1.0\n",
      "f2 0.8709313567515307\n"
     ]
    }
   ],
   "source": [
    "p=classification_report(y_test,yT_pred,output_dict=True)['0']['precision']\n",
    "r=classification_report(y_test,yT_pred,output_dict=True)['0']['recall']\n",
    "f2=fbeta_score(y_test,yT_pred,beta=2,average=None)[0]\n",
    "print(\"precision\",p)\n",
    "print(\"recall\",r)\n",
    "print(\"f2\",f2)"
   ]
  },
  {
   "cell_type": "markdown",
   "metadata": {},
   "source": [
    "### One sentence"
   ]
  },
  {
   "cell_type": "code",
   "execution_count": 485,
   "metadata": {
    "ExecuteTime": {
     "end_time": "2021-08-24T12:59:16.410560Z",
     "start_time": "2021-08-24T12:59:16.214919Z"
    }
   },
   "outputs": [],
   "source": [
    "yT_pred=[]\n",
    "for i in X_test.index:\n",
    "    Id=X_test.Id[i]\n",
    "    c=gt3.Context[i]\n",
    "    sents=sent_tokenize(c.text)\n",
    "    CA=gt3[\"Candidate Antecedent\"][i]\n",
    "    if ' '.join(sents[1:]).count(CA.text)!=1:\n",
    "        yT_pred.append(0)\n",
    "    else:\n",
    "        yT_pred.append(random.choice([1,2]))"
   ]
  },
  {
   "cell_type": "code",
   "execution_count": 486,
   "metadata": {
    "ExecuteTime": {
     "end_time": "2021-08-24T12:59:16.661999Z",
     "start_time": "2021-08-24T12:59:16.630766Z"
    }
   },
   "outputs": [
    {
     "name": "stdout",
     "output_type": "stream",
     "text": [
      "precision 0.5124223602484472\n",
      "recall 0.45790934320074006\n",
      "f2 0.46786389413988655\n"
     ]
    }
   ],
   "source": [
    "p=classification_report(y_test,yT_pred,output_dict=True)['0']['precision']\n",
    "r=classification_report(y_test,yT_pred,output_dict=True)['0']['recall']\n",
    "f2=fbeta_score(y_test,yT_pred,beta=2,average=None)[0]\n",
    "print(\"precision\",p)\n",
    "print(\"recall\",r)\n",
    "print(\"f2\",f2)"
   ]
  },
  {
   "cell_type": "markdown",
   "metadata": {},
   "source": [
    "## E2"
   ]
  },
  {
   "cell_type": "code",
   "execution_count": 498,
   "metadata": {
    "ExecuteTime": {
     "end_time": "2021-08-24T14:09:57.786023Z",
     "start_time": "2021-08-24T14:09:57.777023Z"
    }
   },
   "outputs": [],
   "source": [
    "gt3c=pd.read_csv(\"ReqEval-GT_V21.7.19.csv\",sep=\";\")"
   ]
  },
  {
   "cell_type": "code",
   "execution_count": 513,
   "metadata": {
    "ExecuteTime": {
     "end_time": "2021-08-24T14:41:02.764542Z",
     "start_time": "2021-08-24T14:41:02.750542Z"
    }
   },
   "outputs": [],
   "source": [
    "gt3c=gt3c[gt3c.sent_Id.isin(E2.Id.unique())]"
   ]
  },
  {
   "cell_type": "markdown",
   "metadata": {},
   "source": [
    "### Context"
   ]
  },
  {
   "cell_type": "code",
   "execution_count": 521,
   "metadata": {
    "ExecuteTime": {
     "end_time": "2021-08-24T14:42:09.798923Z",
     "start_time": "2021-08-24T14:42:09.697919Z"
    }
   },
   "outputs": [],
   "source": [
    "yT_pred=[]\n",
    "for i in gt3c.index:\n",
    "    Id=gt3c.sent_Id[i]\n",
    "    if len(gt3c[gt3c.sent_Id==Id])!=1:\n",
    "        yT_pred.append(0)\n",
    "    else:\n",
    "        yT_pred.append(random.choice([1,2]))"
   ]
  },
  {
   "cell_type": "code",
   "execution_count": 515,
   "metadata": {
    "ExecuteTime": {
     "end_time": "2021-08-24T14:41:13.620520Z",
     "start_time": "2021-08-24T14:41:13.613520Z"
    }
   },
   "outputs": [],
   "source": [
    "gt3c.Answer=gt3c.Answer.replace({'Maybe': 0, 'No': 2, 'Yes': 1})"
   ]
  },
  {
   "cell_type": "code",
   "execution_count": 522,
   "metadata": {
    "ExecuteTime": {
     "end_time": "2021-08-24T14:42:11.253514Z",
     "start_time": "2021-08-24T14:42:11.242513Z"
    }
   },
   "outputs": [
    {
     "name": "stdout",
     "output_type": "stream",
     "text": [
      "precision 0.6148796498905909\n",
      "recall 0.9894366197183099\n",
      "f2 0.8819836785938481\n"
     ]
    }
   ],
   "source": [
    "p=classification_report(gt3c.Answer,yT_pred,output_dict=True)['0']['precision']\n",
    "r=classification_report(gt3c.Answer,yT_pred,output_dict=True)['0']['recall']\n",
    "f2=fbeta_score(gt3c.Answer,yT_pred,beta=2,average=None)[0]\n",
    "print(\"precision\",p)\n",
    "print(\"recall\",r)\n",
    "print(\"f2\",f2)"
   ]
  },
  {
   "cell_type": "code",
   "execution_count": 523,
   "metadata": {
    "ExecuteTime": {
     "end_time": "2021-08-24T14:42:12.104545Z",
     "start_time": "2021-08-24T14:42:12.096545Z"
    }
   },
   "outputs": [
    {
     "data": {
      "text/plain": [
       "{'precision': 0.6148796498905909,\n",
       " 'recall': 0.9894366197183099,\n",
       " 'f1-score': 0.7584345479082321,\n",
       " 'support': 284}"
      ]
     },
     "execution_count": 523,
     "metadata": {},
     "output_type": "execute_result"
    }
   ],
   "source": [
    "classification_report(gt3c.Answer,yT_pred,output_dict=True)['0']"
   ]
  },
  {
   "cell_type": "markdown",
   "metadata": {},
   "source": [
    "### One sentence"
   ]
  },
  {
   "cell_type": "code",
   "execution_count": 517,
   "metadata": {
    "ExecuteTime": {
     "end_time": "2021-08-24T14:41:28.240075Z",
     "start_time": "2021-08-24T14:41:28.225076Z"
    }
   },
   "outputs": [
    {
     "data": {
      "text/html": [
       "<div>\n",
       "<style scoped>\n",
       "    .dataframe tbody tr th:only-of-type {\n",
       "        vertical-align: middle;\n",
       "    }\n",
       "\n",
       "    .dataframe tbody tr th {\n",
       "        vertical-align: top;\n",
       "    }\n",
       "\n",
       "    .dataframe thead th {\n",
       "        text-align: right;\n",
       "    }\n",
       "</style>\n",
       "<table border=\"1\" class=\"dataframe\">\n",
       "  <thead>\n",
       "    <tr style=\"text-align: right;\">\n",
       "      <th></th>\n",
       "      <th>sent_Id</th>\n",
       "      <th>context</th>\n",
       "      <th>pronoun</th>\n",
       "      <th>CA</th>\n",
       "      <th>Answer</th>\n",
       "      <th>GT</th>\n",
       "    </tr>\n",
       "  </thead>\n",
       "  <tbody>\n",
       "    <tr>\n",
       "      <th>0</th>\n",
       "      <td>library#01</td>\n",
       "      <td>All material that is stored in the repository ...</td>\n",
       "      <td>it</td>\n",
       "      <td>All material</td>\n",
       "      <td>0</td>\n",
       "      <td>AMBIGUOUS</td>\n",
       "    </tr>\n",
       "    <tr>\n",
       "      <th>1</th>\n",
       "      <td>library#01</td>\n",
       "      <td>All material that is stored in the repository ...</td>\n",
       "      <td>it</td>\n",
       "      <td>the repository</td>\n",
       "      <td>0</td>\n",
       "      <td>AMBIGUOUS</td>\n",
       "    </tr>\n",
       "    <tr>\n",
       "      <th>2</th>\n",
       "      <td>library#01</td>\n",
       "      <td>All material that is stored in the repository ...</td>\n",
       "      <td>it</td>\n",
       "      <td>material</td>\n",
       "      <td>0</td>\n",
       "      <td>AMBIGUOUS</td>\n",
       "    </tr>\n",
       "    <tr>\n",
       "      <th>3</th>\n",
       "      <td>library#02</td>\n",
       "      <td>The library may want to accept important digit...</td>\n",
       "      <td>them</td>\n",
       "      <td>The library</td>\n",
       "      <td>2</td>\n",
       "      <td>digital materials</td>\n",
       "    </tr>\n",
       "    <tr>\n",
       "      <th>4</th>\n",
       "      <td>library#02</td>\n",
       "      <td>The library may want to accept important digit...</td>\n",
       "      <td>them</td>\n",
       "      <td>important digital materials</td>\n",
       "      <td>1</td>\n",
       "      <td>digital materials</td>\n",
       "    </tr>\n",
       "  </tbody>\n",
       "</table>\n",
       "</div>"
      ],
      "text/plain": [
       "      sent_Id                                            context pronoun  \\\n",
       "0  library#01  All material that is stored in the repository ...      it   \n",
       "1  library#01  All material that is stored in the repository ...      it   \n",
       "2  library#01  All material that is stored in the repository ...      it   \n",
       "3  library#02  The library may want to accept important digit...    them   \n",
       "4  library#02  The library may want to accept important digit...    them   \n",
       "\n",
       "                            CA  Answer                 GT  \n",
       "0                 All material       0          AMBIGUOUS  \n",
       "1               the repository       0          AMBIGUOUS  \n",
       "2                     material       0          AMBIGUOUS  \n",
       "3                  The library       2  digital materials  \n",
       "4  important digital materials       1  digital materials  "
      ]
     },
     "execution_count": 517,
     "metadata": {},
     "output_type": "execute_result"
    }
   ],
   "source": [
    "gt3c.head()"
   ]
  },
  {
   "cell_type": "code",
   "execution_count": 518,
   "metadata": {
    "ExecuteTime": {
     "end_time": "2021-08-24T14:41:30.439350Z",
     "start_time": "2021-08-24T14:41:30.415350Z"
    }
   },
   "outputs": [],
   "source": [
    "yT_pred=[]\n",
    "for i in gt3c.index:\n",
    "    c=gt3c.context[i]\n",
    "    sents=sent_tokenize(c)\n",
    "    CA=gt3c.CA[i]\n",
    "    if ' '.join(sents[1:]).count(CA)!=1:\n",
    "        yT_pred.append(0)\n",
    "    else:\n",
    "        yT_pred.append(random.choice([1,2]))"
   ]
  },
  {
   "cell_type": "code",
   "execution_count": 519,
   "metadata": {
    "ExecuteTime": {
     "end_time": "2021-08-24T14:41:30.986370Z",
     "start_time": "2021-08-24T14:41:30.971370Z"
    }
   },
   "outputs": [
    {
     "name": "stdout",
     "output_type": "stream",
     "text": [
      "precision 0.6094420600858369\n",
      "recall 1.0\n",
      "f2 0.8863920099875156\n"
     ]
    }
   ],
   "source": [
    "p=classification_report(gt3c.Answer,yT_pred,output_dict=True)['0']['precision']\n",
    "r=classification_report(gt3c.Answer,yT_pred,output_dict=True)['0']['recall']\n",
    "f2=fbeta_score(gt3c.Answer,yT_pred,beta=2,average=None)[0]\n",
    "print(\"precision\",p)\n",
    "print(\"recall\",r)\n",
    "print(\"f2\",f2)"
   ]
  },
  {
   "cell_type": "markdown",
   "metadata": {},
   "source": [
    "# Model selection"
   ]
  },
  {
   "cell_type": "markdown",
   "metadata": {},
   "source": [
    "## TrainSet "
   ]
  },
  {
   "cell_type": "markdown",
   "metadata": {},
   "source": [
    "### LF"
   ]
  },
  {
   "cell_type": "code",
   "execution_count": 1408,
   "metadata": {
    "ExecuteTime": {
     "end_time": "2021-08-09T21:56:20.393310Z",
     "start_time": "2021-08-09T21:39:24.101741Z"
    }
   },
   "outputs": [
    {
     "name": "stdout",
     "output_type": "stream",
     "text": [
      "dt ==========\n",
      "[0.509, 0.94, 0.803]\n",
      "mlp ==========\n",
      "[0.502, 0.962, 0.812]\n",
      "knn ==========\n",
      "[0.503, 0.91, 0.783]\n",
      "lr ==========\n",
      "[0.495, 0.89, 0.766]\n",
      "gnb ==========\n",
      "[0.504, 0.997, 0.833]\n",
      "rf ==========\n",
      "[0.499, 0.943, 0.8]\n",
      "svm ==========\n",
      "[0.5, 0.944, 0.801]\n",
      "avg== 0.793\n"
     ]
    }
   ],
   "source": [
    "avg=0\n",
    "skf = StratifiedKFold(n_splits=10, shuffle=True)\n",
    "Xids=X_train.Id.unique()\n",
    "for n in models:\n",
    "    m=models[n]\n",
    "    cv_score = [0.,0.,0.]\n",
    "    print(n, \"==========\")\n",
    "    for train_idx, test_idx in skf.split(X_train.Id.unique(),Yids(X_train,y_train)):\n",
    "        clf=clone(m)\n",
    "        train_idx, test_idx=X_train[X_train.Id.isin(Xids[train_idx])].index, X_train[X_train.Id.isin(Xids[test_idx])].index\n",
    "        xfold_train, yfold_train = X_train.drop(\"Id\",axis=1).loc[train_idx],y_train.loc[train_idx]\n",
    "        clf.fit(xfold_train, yfold_train)\n",
    "        y_pred=clf.predict_proba(X_train.drop(\"Id\",axis=1).loc[test_idx])\n",
    "        test_scores=getpredictionScores(y_train.loc[test_idx].index,y_pred,X_train.loc[test_idx].Id,0.5,0.5,Class='0',B=2)\n",
    "        cv_score[0] += test_scores[0]\n",
    "        cv_score[1] += test_scores[1]\n",
    "        cv_score[2] += test_scores[2]\n",
    "    print([float(\"{:.3f}\".format(s/10)) for s in cv_score])\n",
    "    avg+=scores[2]#[2]\n",
    "print(\"avg==\",avg/len(models))"
   ]
  },
  {
   "cell_type": "markdown",
   "metadata": {},
   "source": [
    "### EF"
   ]
  },
  {
   "cell_type": "markdown",
   "metadata": {},
   "source": [
    "#### Sbert"
   ]
  },
  {
   "cell_type": "code",
   "execution_count": 1416,
   "metadata": {
    "ExecuteTime": {
     "end_time": "2021-08-10T08:56:12.594305Z",
     "start_time": "2021-08-10T08:56:12.558304Z"
    }
   },
   "outputs": [],
   "source": [
    "sbtrain=sb.loc[X_train.index]\n",
    "sbtrain[\"Id\"]=X_train[\"Id\"]"
   ]
  },
  {
   "cell_type": "code",
   "execution_count": 1468,
   "metadata": {
    "ExecuteTime": {
     "end_time": "2021-08-12T15:09:10.041978Z",
     "start_time": "2021-08-12T14:26:48.859196Z"
    }
   },
   "outputs": [
    {
     "name": "stdout",
     "output_type": "stream",
     "text": [
      "dt ==========\n",
      "[0.51, 0.863, 0.757]\n",
      "mlp ==========\n",
      "[0.516, 0.992, 0.836]\n",
      "knn ==========\n",
      "[0.502, 0.982, 0.824]\n",
      "lr ==========\n",
      "[0.503, 0.953, 0.806]\n",
      "gnb ==========\n",
      "[0.508, 0.983, 0.828]\n",
      "rf ==========\n",
      "[0.503, 0.945, 0.803]\n",
      "svm ==========\n",
      "[0.5, 0.972, 0.817]\n",
      "avg== 0.673\n"
     ]
    }
   ],
   "source": [
    "avg=0\n",
    "skf = StratifiedKFold(n_splits=10, shuffle=True)\n",
    "Xids=sbtrain.Id.unique()\n",
    "for n in models:\n",
    "    m=models[n]\n",
    "    cv_score = [0.,0.,0.]\n",
    "    print(n, \"==========\")\n",
    "    for train_idx, test_idx in skf.split(sbtrain.Id.unique(),Yids(sbtrain,y_train)):\n",
    "        clf=clone(m)\n",
    "        train_idx, test_idx=sbtrain[sbtrain.Id.isin(Xids[train_idx])].index, sbtrain[sbtrain.Id.isin(Xids[test_idx])].index\n",
    "        xfold_train, yfold_train = sbtrain.drop(\"Id\",axis=1).loc[train_idx],y_train.loc[train_idx]\n",
    "        clf.fit(xfold_train, yfold_train)\n",
    "        y_pred=clf.predict_proba(sbtrain.drop(\"Id\",axis=1).loc[test_idx])\n",
    "        test_scores=getpredictionScores(y_train.loc[test_idx].index,y_pred,sbtrain.loc[test_idx].Id,0.5,0.5,Class='0',B=2)\n",
    "        cv_score[0] += test_scores[0]\n",
    "        cv_score[1] += test_scores[1]\n",
    "        cv_score[2] += test_scores[2]\n",
    "    print([float(\"{:.3f}\".format(s/10)) for s in cv_score])\n",
    "    avg+=scores[2]#[2]\n",
    "print(\"avg==\",avg/len(models))"
   ]
  },
  {
   "cell_type": "markdown",
   "metadata": {},
   "source": [
    "#### Concat"
   ]
  },
  {
   "cell_type": "code",
   "execution_count": 1427,
   "metadata": {
    "ExecuteTime": {
     "end_time": "2021-08-10T10:04:40.104483Z",
     "start_time": "2021-08-10T10:04:40.027485Z"
    }
   },
   "outputs": [],
   "source": [
    "Hc4Train=Hc4.copy()\n",
    "Hc4Train[\"Id\"]=X_train[\"Id\"]"
   ]
  },
  {
   "cell_type": "code",
   "execution_count": 1466,
   "metadata": {
    "ExecuteTime": {
     "end_time": "2021-08-12T11:16:48.361635Z",
     "start_time": "2021-08-12T08:03:04.505939Z"
    }
   },
   "outputs": [
    {
     "name": "stdout",
     "output_type": "stream",
     "text": [
      "dt ==========\n",
      "[0.519, 0.89, 0.777]\n",
      "mlp ==========\n",
      "[0.499, 0.94, 0.798]\n",
      "knn ==========\n",
      "[0.502, 0.977, 0.821]\n",
      "lr ==========\n",
      "[0.512, 0.972, 0.823]\n",
      "gnb ==========\n",
      "[0.506, 0.987, 0.829]\n",
      "rf ==========\n",
      "[0.506, 0.955, 0.809]\n",
      "svm ==========\n",
      "[0.504, 0.977, 0.822]\n",
      "avg== 0.673\n"
     ]
    }
   ],
   "source": [
    "avg=0\n",
    "skf = StratifiedKFold(n_splits=10, shuffle=True)\n",
    "Xids=Hc4Train.Id.unique()\n",
    "for n in models:\n",
    "    m=models[n]\n",
    "    cv_score = [0.,0.,0.]\n",
    "    print(n, \"==========\")\n",
    "    for train_idx, test_idx in skf.split(Hc4Train.Id.unique(),Yids(Hc4Train,y_train)):\n",
    "        clf=clone(m)\n",
    "        train_idx, test_idx=Hc4Train[Hc4Train.Id.isin(Xids[train_idx])].index, Hc4Train[Hc4Train.Id.isin(Xids[test_idx])].index\n",
    "        xfold_train, yfold_train = Hc4Train.drop(\"Id\",axis=1).loc[train_idx],y_train.loc[train_idx]\n",
    "        clf.fit(xfold_train, yfold_train)\n",
    "        y_pred=clf.predict_proba(Hc4Train.drop(\"Id\",axis=1).loc[test_idx])\n",
    "        test_scores=getpredictionScores(y_train.loc[test_idx].index,y_pred,Hc4Train.loc[test_idx].Id,0.5,0.5,Class='0',B=2)\n",
    "        cv_score[0] += test_scores[0]\n",
    "        cv_score[1] += test_scores[1]\n",
    "        cv_score[2] += test_scores[2]\n",
    "    print([float(\"{:.3f}\".format(s/10)) for s in cv_score])\n",
    "    avg+=scores[2]#[2]\n",
    "print(\"avg==\",avg/len(models))"
   ]
  },
  {
   "cell_type": "markdown",
   "metadata": {},
   "source": [
    "#### Sum"
   ]
  },
  {
   "cell_type": "code",
   "execution_count": 1430,
   "metadata": {
    "ExecuteTime": {
     "end_time": "2021-08-10T12:52:44.970843Z",
     "start_time": "2021-08-10T12:52:44.944843Z"
    }
   },
   "outputs": [],
   "source": [
    "Hs4Train=Hs4.copy()\n",
    "Hs4Train[\"Id\"]=X_train[\"Id\"]"
   ]
  },
  {
   "cell_type": "code",
   "execution_count": 1465,
   "metadata": {
    "ExecuteTime": {
     "end_time": "2021-08-11T20:09:16.044988Z",
     "start_time": "2021-08-11T19:24:08.360125Z"
    }
   },
   "outputs": [
    {
     "name": "stdout",
     "output_type": "stream",
     "text": [
      "dt ==========\n",
      "[0.569, 0.873, 0.775]\n",
      "mlp ==========\n",
      "[0.555, 0.969, 0.836]\n",
      "knn ==========\n",
      "[0.557, 0.983, 0.847]\n",
      "lr ==========\n",
      "[0.525, 0.904, 0.783]\n",
      "gnb ==========\n",
      "[0.55, 0.953, 0.828]\n",
      "rf ==========\n",
      "[0.577, 1.0, 0.859]\n",
      "svm ==========\n",
      "[0.56, 0.926, 0.803]\n",
      "avg== 0.673\n"
     ]
    }
   ],
   "source": [
    "avg=0\n",
    "skf = StratifiedKFold(n_splits=10, shuffle=True)\n",
    "Xids=Hs4Train.Id.unique()\n",
    "for n in models:\n",
    "    m=models[n]\n",
    "    cv_score = [0.,0.,0.]\n",
    "    print(n, \"==========\")\n",
    "    for train_idx, test_idx in skf.split(Hs4Train.Id.unique(),Yids(Hs4Train,y_train)):\n",
    "        clf=clone(m)\n",
    "        train_idx, test_idx=Hs4Train[Hs4Train.Id.isin(Xids[train_idx])].index, Hs4Train[Hs4Train.Id.isin(Xids[test_idx])].index\n",
    "        xfold_train, yfold_train = Hs4Train.drop(\"Id\",axis=1).loc[train_idx],y_train.loc[train_idx]\n",
    "        clf.fit(xfold_train, yfold_train)\n",
    "        y_pred=clf.predict_proba(Hs4Train.drop(\"Id\",axis=1).loc[test_idx])\n",
    "        test_scores=getpredictionScores(y_train.loc[test_idx].index,y_pred,Hs4Train.loc[test_idx].Id,0.5,0.5,Class='0',B=2)\n",
    "        cv_score[0] += test_scores[0]\n",
    "        cv_score[1] += test_scores[1]\n",
    "        cv_score[2] += test_scores[2]\n",
    "    print([float(\"{:.3f}\".format(s/10)) for s in cv_score])\n",
    "    avg+=scores[2]#[2]\n",
    "print(\"avg==\",avg/len(models))"
   ]
  },
  {
   "cell_type": "markdown",
   "metadata": {},
   "source": [
    "#### s2l"
   ]
  },
  {
   "cell_type": "code",
   "execution_count": 1432,
   "metadata": {
    "ExecuteTime": {
     "end_time": "2021-08-10T13:32:10.685474Z",
     "start_time": "2021-08-10T13:32:10.660472Z"
    }
   },
   "outputs": [],
   "source": [
    "Hs2Train=Hs2.copy()\n",
    "Hs2Train[\"Id\"]=X_train[\"Id\"]"
   ]
  },
  {
   "cell_type": "code",
   "execution_count": 1467,
   "metadata": {
    "ExecuteTime": {
     "end_time": "2021-08-12T14:26:48.855195Z",
     "start_time": "2021-08-12T13:44:21.488174Z"
    }
   },
   "outputs": [
    {
     "name": "stdout",
     "output_type": "stream",
     "text": [
      "dt ==========\n",
      "[0.498, 0.89, 0.767]\n",
      "mlp ==========\n",
      "[0.511, 0.98, 0.827]\n",
      "knn ==========\n",
      "[0.498, 0.968, 0.814]\n",
      "lr ==========\n",
      "[0.504, 0.959, 0.812]\n",
      "gnb ==========\n",
      "[0.501, 0.969, 0.815]\n",
      "rf ==========\n",
      "[0.511, 0.967, 0.82]\n",
      "svm ==========\n",
      "[0.504, 0.977, 0.822]\n",
      "avg== 0.673\n"
     ]
    }
   ],
   "source": [
    "avg=0\n",
    "skf = StratifiedKFold(n_splits=10, shuffle=True)\n",
    "Xids=Hs2Train.Id.unique()\n",
    "for n in models:\n",
    "    m=models[n]\n",
    "    cv_score = [0.,0.,0.]\n",
    "    print(n, \"==========\")\n",
    "    for train_idx, test_idx in skf.split(Hs2Train.Id.unique(),Yids(Hs2Train,y_train)):\n",
    "        clf=clone(m)\n",
    "        train_idx, test_idx=Hs2Train[Hs2Train.Id.isin(Xids[train_idx])].index, Hs2Train[Hs2Train.Id.isin(Xids[test_idx])].index\n",
    "        xfold_train, yfold_train = Hs2Train.drop(\"Id\",axis=1).loc[train_idx],y_train.loc[train_idx]\n",
    "        clf.fit(xfold_train, yfold_train)\n",
    "        y_pred=clf.predict_proba(Hs2Train.drop(\"Id\",axis=1).loc[test_idx])\n",
    "        test_scores=getpredictionScores(y_train.loc[test_idx].index,y_pred,Hs2Train.loc[test_idx].Id,0.5,0.5,Class='0',B=2)\n",
    "        cv_score[0] += test_scores[0]\n",
    "        cv_score[1] += test_scores[1]\n",
    "        cv_score[2] += test_scores[2]\n",
    "    print([float(\"{:.3f}\".format(s/10)) for s in cv_score])\n",
    "    avg+=scores[2]#[2]\n",
    "print(\"avg==\",avg/len(models))"
   ]
  },
  {
   "cell_type": "markdown",
   "metadata": {},
   "source": [
    "# HyperParameter Tuning"
   ]
  },
  {
   "cell_type": "code",
   "execution_count": 175,
   "metadata": {
    "ExecuteTime": {
     "end_time": "2021-08-31T09:02:49.560810Z",
     "start_time": "2021-08-31T09:02:49.552812Z"
    }
   },
   "outputs": [],
   "source": [
    "lrg={'C':np.logspace(-4, 4, 50), \n",
    "     'solver' :['newton-cg', 'lbfgs', 'liblinear'],\n",
    "     'penalty' : ['l2']}\n",
    "#Decision Tree\n",
    "criterion = ['gini', 'entropy']\n",
    "max_depth = [2,4,6,8,10,12]\n",
    "dtg=dict(criterion=criterion, max_depth=max_depth)\n",
    "# dtg= dict(max_depth = list(range(1,34,4))+[None], \n",
    "#           criterion = ['gini', 'entropy'],\n",
    "#           min_samples_split = [0.1, 0.2, 0.4, 0.6, 0.8, 1.0],\n",
    "#           max_leaf_nodes= list(range(2, 100,10)),\n",
    "#           min_samples_leaf = np.linspace(0.1, 0.5, 5, endpoint=True),\n",
    "#           max_features = ['sqrt', 'log2',None])\n",
    "# rfg=dict(n_estimators = [100, 1000,10000],\n",
    "#           max_depth = list(np.linspace(1, 32, 5, endpoint=True))+[None], \n",
    "#           criterion = ['gini', 'entropy'],\n",
    "#           min_samples_split = np.linspace(0.1, 1.0, 3, endpoint=True),\n",
    "#           #max_leaf_nodes= list(range(2, 100,10)),\n",
    "#           min_samples_leaf = np.linspace(0.1, 0.5, 3, endpoint=True),\n",
    "#           max_features = ['sqrt', 'log2']+[None])\n",
    "#Random Forest\n",
    "n_estimators = [10, 100, 1000,10000]\n",
    "max_features = ['sqrt', 'log2']\n",
    "rfg = dict(n_estimators=n_estimators,max_features=max_features)\n",
    "etg={'n_estimators': [100, 1000,10000],\n",
    "    'max_features': ['sqrt', 'log2',None],\n",
    "    'min_samples_leaf': list(range(20,50,10))+[0.1,None],\n",
    "    'min_samples_split': list(range(15,36,5))+[None]}\n",
    "abg={'n_estimators': [100,200,300,500],\n",
    "    'learning_rate':[0.001,0.01,0.1,0.2,0.5]}\n",
    "svmg=dict(kernel = ['poly', 'rbf', 'sigmoid','linear'],\n",
    "    C = [50, 10, 1.0, 0.1, 0.01,0.001],\n",
    "    gamma = [0.001,0.01,0.1,1,'scale'])\n",
    "mlpg={\n",
    "    'hidden_layer_sizes': [(50,50,50), (50,100,50), (100,)],\n",
    "    'activation': ['tanh', 'relu'],\n",
    "    'solver': ['sgd', 'adam'],\n",
    "    'alpha': [0.0001, 0.05],\n",
    "    'learning_rate': ['constant','adaptive']}\n",
    "knng=dict(n_neighbors = range(1, 21, 2), weights = ['uniform', 'distance'], \n",
    "          metric = ['euclidean', 'manhattan', 'minkowski'])\n",
    "abg={'n_estimators': [100,200,300,500],\n",
    "    'learning_rate':[0.001,0.01,0.1,0.2,0.5]}\n",
    "xgbg={  'min_child_weight': [1, 5, 10],\n",
    "        'gamma': [0.5, 1, 1.5, 2, 5],\n",
    "        'subsample': [0.6, 0.8, 1.0],\n",
    "        'colsample_bytree': [0.6, 0.8, 1.0],\n",
    "        'max_depth': [3, 5, 7, 10],\n",
    "        'learning_rate': [0.01, 0.02, 0.05]}\n",
    "gnbg={'var_smoothing': np.logspace(0,-9, num=100)}"
   ]
  },
  {
   "cell_type": "code",
   "execution_count": 176,
   "metadata": {
    "ExecuteTime": {
     "end_time": "2021-08-31T09:02:50.222821Z",
     "start_time": "2021-08-31T09:02:50.204820Z"
    }
   },
   "outputs": [],
   "source": [
    "grids={ 'lr':lrg,\n",
    "        'dt':dtg,\n",
    "        'rf':rfg,\n",
    "        'et':etg,\n",
    "        'ab':abg,\n",
    "        'svm':svmg,\n",
    "        'mlp':mlpg,\n",
    "        'knn':knng,\n",
    "        #'xgb':xgbg,\n",
    "        'gnb':gnbg,\n",
    "        'bnb':None}"
   ]
  },
  {
   "cell_type": "markdown",
   "metadata": {},
   "source": [
    "## LF"
   ]
  },
  {
   "cell_type": "code",
   "execution_count": 198,
   "metadata": {
    "ExecuteTime": {
     "end_time": "2021-08-31T22:38:40.525846Z",
     "start_time": "2021-08-31T22:38:40.511848Z"
    }
   },
   "outputs": [],
   "source": [
    "from sklearn.metrics import fbeta_score, make_scorer\n",
    "ftwo_scorer = make_scorer(fbeta_score, beta=2)"
   ]
  },
  {
   "cell_type": "code",
   "execution_count": 199,
   "metadata": {
    "ExecuteTime": {
     "end_time": "2021-08-31T22:38:47.355965Z",
     "start_time": "2021-08-31T22:38:41.102870Z"
    }
   },
   "outputs": [
    {
     "name": "stdout",
     "output_type": "stream",
     "text": [
      "gnb  ==========\n",
      "{'var_smoothing': 1.0}\n",
      "(0.561, 1.0, 0.864)\n"
     ]
    }
   ],
   "source": [
    "m=models['gnb']\n",
    "cv=StratifiedKFold(n_splits=10)\n",
    "grid_search = GridSearchCV(estimator=m, \n",
    "              param_grid=grids['gnb'], n_jobs=-1, cv=cv,  \n",
    "              scoring=ftwo_scorer)\n",
    "print(\"gnb  ==========\")\n",
    "grid_search.fit(X_train.drop(\"Id\",axis=1),y_train)\n",
    "bp=grid_search.best_params_\n",
    "print(bp)\n",
    "y_pred=grid_search.best_estimator_.predict_proba(X_test.drop(\"Id\",axis=1))\n",
    "test_scores=getpredictionScores(y_test.index,y_pred,X_test.Id,0.5,0.5,Class='0',B=2)\n",
    "print(test_scores)"
   ]
  },
  {
   "cell_type": "markdown",
   "metadata": {},
   "source": [
    "### E2"
   ]
  },
  {
   "cell_type": "code",
   "execution_count": 792,
   "metadata": {
    "ExecuteTime": {
     "end_time": "2021-08-27T11:52:25.739856Z",
     "start_time": "2021-08-27T11:52:25.734855Z"
    }
   },
   "outputs": [],
   "source": [
    "X_2.Id=E2.Id"
   ]
  },
  {
   "cell_type": "code",
   "execution_count": 795,
   "metadata": {
    "ExecuteTime": {
     "end_time": "2021-08-27T11:52:57.344274Z",
     "start_time": "2021-08-27T11:52:57.326274Z"
    }
   },
   "outputs": [],
   "source": [
    "y_2=y_2[X_2.index]"
   ]
  },
  {
   "cell_type": "code",
   "execution_count": 796,
   "metadata": {
    "ExecuteTime": {
     "end_time": "2021-08-27T11:52:58.840388Z",
     "start_time": "2021-08-27T11:52:58.812387Z"
    }
   },
   "outputs": [
    {
     "name": "stdout",
     "output_type": "stream",
     "text": [
      "(0.618, 0.989, 0.883)\n"
     ]
    }
   ],
   "source": [
    "gn=GaussianNB().set_params(**{'var_smoothing': 1.0})\n",
    "gn.fit(X_train.drop(\"Id\",axis=1),y_train)\n",
    "y_pred=gn.predict_proba(X_2.drop(\"Id\",axis=1))\n",
    "test_scores=getpredictionScores(y_2.index,y_pred,X_2.Id,0.5,0.5,E2,Class='0',B=2)\n",
    "print(test_scores)"
   ]
  },
  {
   "cell_type": "code",
   "execution_count": 797,
   "metadata": {
    "ExecuteTime": {
     "end_time": "2021-08-27T11:53:09.099789Z",
     "start_time": "2021-08-27T11:53:09.070790Z"
    }
   },
   "outputs": [
    {
     "name": "stdout",
     "output_type": "stream",
     "text": [
      "(0.618, 0.989, 0.883)\n"
     ]
    }
   ],
   "source": [
    "gn=GaussianNB().set_params(**{'var_smoothing': 1.0})\n",
    "gn.fit(X_train.drop(\"Id\",axis=1),y_train)\n",
    "y_pred=gn.predict_proba(X_2.drop(\"Id\",axis=1))\n",
    "test_scores=getpredictionScores(y_2.index,y_pred,X_2.Id,0.5,0.5,E2,Class='0',B=2)\n",
    "print(test_scores)"
   ]
  },
  {
   "cell_type": "code",
   "execution_count": 205,
   "metadata": {
    "ExecuteTime": {
     "end_time": "2021-09-01T15:33:41.732326Z",
     "start_time": "2021-09-01T15:33:41.725326Z"
    }
   },
   "outputs": [],
   "source": [
    "saveObj(gn,\"ML_FL-detection.Anaphora\")"
   ]
  },
  {
   "cell_type": "markdown",
   "metadata": {},
   "source": [
    "## EF "
   ]
  },
  {
   "cell_type": "code",
   "execution_count": 603,
   "metadata": {
    "ExecuteTime": {
     "end_time": "2021-08-25T13:21:45.481363Z",
     "start_time": "2021-08-25T13:21:45.465362Z"
    }
   },
   "outputs": [
    {
     "data": {
      "text/plain": [
       "(6666, 768)"
      ]
     },
     "execution_count": 603,
     "metadata": {},
     "output_type": "execute_result"
    }
   ],
   "source": [
    "Hs4.shape"
   ]
  },
  {
   "cell_type": "code",
   "execution_count": 207,
   "metadata": {
    "ExecuteTime": {
     "end_time": "2021-09-01T15:34:13.812232Z",
     "start_time": "2021-09-01T15:34:13.780233Z"
    }
   },
   "outputs": [],
   "source": [
    "Hs4C=Hs4.copy()\n",
    "Hs4C[\"Id\"]=X[\"Id\"]\n",
    "Hs4_Train=Hs4C[Hs4C.Id.isin(X_train.Id.unique())]\n",
    "Hs4_Test=Hs4C[Hs4C.Id.isin(X_test.Id.unique())]"
   ]
  },
  {
   "cell_type": "code",
   "execution_count": 1464,
   "metadata": {
    "ExecuteTime": {
     "end_time": "2021-08-11T15:16:37.118112Z",
     "start_time": "2021-08-11T14:50:44.108422Z"
    }
   },
   "outputs": [
    {
     "name": "stdout",
     "output_type": "stream",
     "text": [
      "rf ==========\n",
      "{'max_features': 'sqrt', 'n_estimators': 10}\n",
      "(0.604, 0.917, 0.831)\n"
     ]
    }
   ],
   "source": [
    "m=models['rf']\n",
    "cv=StratifiedKFold(n_splits=10)\n",
    "grid_search = GridSearchCV(estimator=m, \n",
    "              param_grid=grids['rf'], n_jobs=-1, cv=cv,  \n",
    "              scoring=ftwo_scorer)\n",
    "print(\"rf ==========\")\n",
    "grid_search.fit(Hs4_Train.drop(\"Id\",axis=1),y_train)\n",
    "bp=grid_search.best_params_\n",
    "print(bp)\n",
    "y_pred=grid_search.best_estimator_.predict_proba(Hs4_Test.drop(\"Id\",axis=1))\n",
    "test_scores=getpredictionScores(y_test.index,y_pred,Hs4_Test.Id,0.5,0.5,Class='0',B=2)\n",
    "print(test_scores)"
   ]
  },
  {
   "cell_type": "code",
   "execution_count": 1675,
   "metadata": {
    "ExecuteTime": {
     "end_time": "2021-08-16T13:41:46.861199Z",
     "start_time": "2021-08-16T13:41:45.567171Z"
    }
   },
   "outputs": [
    {
     "name": "stdout",
     "output_type": "stream",
     "text": [
      "(0.576, 1.0, 0.872)\n"
     ]
    }
   ],
   "source": [
    "m=RandomForestClassifier(random_state=3194).set_params(**{'max_features': 'sqrt', 'n_estimators': 10})\n",
    "m.fit(Hs4_Train.drop(\"Id\",axis=1),y_train)\n",
    "y_pred=m.predict_proba(Hs4_Test.drop(\"Id\",axis=1))\n",
    "test_scores=getpredictionScores(y_test.index,y_pred,Hs4_Test.Id,0.5,0.5,gt4,Class='0',B=2)\n",
    "print(test_scores)"
   ]
  },
  {
   "cell_type": "markdown",
   "metadata": {},
   "source": [
    "### E2"
   ]
  },
  {
   "cell_type": "code",
   "execution_count": 1477,
   "metadata": {
    "ExecuteTime": {
     "end_time": "2021-08-13T10:22:28.931038Z",
     "start_time": "2021-08-13T10:22:28.502036Z"
    }
   },
   "outputs": [],
   "source": [
    "E2=loadObj(\"E2_S.obj\")"
   ]
  },
  {
   "cell_type": "code",
   "execution_count": 1479,
   "metadata": {
    "ExecuteTime": {
     "end_time": "2021-08-13T10:23:56.434556Z",
     "start_time": "2021-08-13T10:23:56.408556Z"
    }
   },
   "outputs": [],
   "source": [
    "E2.Pronoun=E2.apply(lambda x: x['Context'][x['Pronoun']],axis=1)"
   ]
  },
  {
   "cell_type": "code",
   "execution_count": 1480,
   "metadata": {
    "ExecuteTime": {
     "end_time": "2021-08-13T10:26:29.593157Z",
     "start_time": "2021-08-13T10:26:29.572153Z"
    }
   },
   "outputs": [],
   "source": [
    "E2['Candidate Antecedent']=E2.apply(lambda x: x['Context'][x['Candidate Antecedent'][0]:x['Candidate Antecedent'][1]],axis=1)"
   ]
  },
  {
   "cell_type": "code",
   "execution_count": 800,
   "metadata": {
    "ExecuteTime": {
     "end_time": "2021-08-27T11:54:59.558395Z",
     "start_time": "2021-08-27T11:54:31.831804Z"
    }
   },
   "outputs": [],
   "source": [
    "E2s4v = E2.apply(\n",
    "    lambda x: get_4layers_emb(hashdouble(x['Context'],x['Pronoun'],x['Candidate Antecedent']).strip() + \" [SEP] \" + x['Pronoun'].text +\n",
    "                           \"#1 [SEP] \" + x['Candidate Antecedent'].text+\"#2\",concat=False),\n",
    "    axis=1)\n",
    "E2s4=E2s4v.apply(lambda s: pd.Series(\n",
    "    {i: float(s[i])\n",
    "     for i in range(0, len(E2s4v[E2s4v.index[0]]))}))"
   ]
  },
  {
   "cell_type": "code",
   "execution_count": 801,
   "metadata": {
    "ExecuteTime": {
     "end_time": "2021-08-27T11:55:04.534570Z",
     "start_time": "2021-08-27T11:55:04.520569Z"
    }
   },
   "outputs": [],
   "source": [
    "E2s4[\"Id\"]=E2[\"Id\"]"
   ]
  },
  {
   "cell_type": "code",
   "execution_count": 803,
   "metadata": {
    "ExecuteTime": {
     "end_time": "2021-08-27T11:55:10.590811Z",
     "start_time": "2021-08-27T11:55:10.575811Z"
    }
   },
   "outputs": [],
   "source": [
    "E2s4=E2s4.loc[X_2.index]"
   ]
  },
  {
   "cell_type": "code",
   "execution_count": 807,
   "metadata": {
    "ExecuteTime": {
     "end_time": "2021-08-27T11:56:28.941825Z",
     "start_time": "2021-08-27T11:56:28.261815Z"
    }
   },
   "outputs": [
    {
     "name": "stdout",
     "output_type": "stream",
     "text": [
      "(0.622, 0.982, 0.88)\n"
     ]
    }
   ],
   "source": [
    "m=RandomForestClassifier(random_state=3178).set_params(**{'max_features': 'sqrt', 'n_estimators': 10})\n",
    "m.fit(Hs4_Train.drop(\"Id\",axis=1),y_train)\n",
    "y_pred=m.predict_proba(E2s4.drop(\"Id\",axis=1))\n",
    "test_scores=getpredictionScores(y_2.index,y_pred,E2s4.Id,0.5,0.5,E2,Class='0',B=2)\n",
    "print(test_scores)"
   ]
  },
  {
   "cell_type": "markdown",
   "metadata": {},
   "source": [
    "## Ensembling"
   ]
  },
  {
   "cell_type": "code",
   "execution_count": 1552,
   "metadata": {
    "ExecuteTime": {
     "end_time": "2021-08-13T14:33:23.391895Z",
     "start_time": "2021-08-13T14:33:23.371858Z"
    }
   },
   "outputs": [],
   "source": [
    "def biEnScoringFB(ypred, x, y,B=2):\n",
    "    tp,fp,tn,fn=0,0,0,0\n",
    "    ypredx=y.copy()\n",
    "    for p,i in zip(ypred,y.index):\n",
    "        ypredx[i]=p\n",
    "\n",
    "    for Id in x.Id.unique():\n",
    "        idx=x[x.Id==Id].index\n",
    "        if 0 in list(y[idx]):\n",
    "            if 0 in list(ypredx[idx]):\n",
    "                tp+=1\n",
    "            else:\n",
    "                fn+=1\n",
    "        else:\n",
    "            if 0 in list(ypredx[idx]):\n",
    "                fp+=1\n",
    "            else:\n",
    "                tn+=1\n",
    "\n",
    "    precision = tp/(tp+fp)\n",
    "    recall = tp/(tp+fn)\n",
    "    FB=((1+B*B)*tp)/((1+B*B)*tp+B*B*fn+fp)\n",
    "    return [float(\"{:.3f}\".format(precision)), float(\"{:.3f}\".format(recall)), float(\"{:.3f}\".format(FB))]\n"
   ]
  },
  {
   "cell_type": "code",
   "execution_count": 641,
   "metadata": {
    "ExecuteTime": {
     "end_time": "2021-08-25T14:25:34.031792Z",
     "start_time": "2021-08-25T14:25:34.020793Z"
    }
   },
   "outputs": [],
   "source": [
    "def ensembleprobaN(ypred1,ypred2,theta=0):\n",
    "    ypred=[]\n",
    "    for l1,l2 in zip(ypred1,ypred2):\n",
    "        m1=np.max(l1)\n",
    "        m2=np.max(l2)\n",
    "        d1=np.where(l1==m1)[0][0]\n",
    "        d2=np.where(l2==m2)[0][0]\n",
    "        if d1==0 or d2==0: \n",
    "            ypred.append([np.max([m1,m2]),0,0])\n",
    "            continue\n",
    "        elif theta!=0:\n",
    "            if d1!=d2 and abs(m1-m2)<theta:\n",
    "                ypred.append([np.max([m1,m2]),0,0])\n",
    "                continue\n",
    "        else:\n",
    "            e=[0,0,0]\n",
    "            e[d1]+=m1\n",
    "            e[d2]+=m2\n",
    "            ypred.append(e)\n",
    "    return np.array(ypred)"
   ]
  },
  {
   "cell_type": "markdown",
   "metadata": {},
   "source": [
    "\n",
    "### E1"
   ]
  },
  {
   "cell_type": "code",
   "execution_count": 1581,
   "metadata": {
    "ExecuteTime": {
     "end_time": "2021-08-13T15:02:57.082972Z",
     "start_time": "2021-08-13T15:02:55.792929Z"
    },
    "scrolled": true
   },
   "outputs": [
    {
     "name": "stdout",
     "output_type": "stream",
     "text": [
      "(0.58, 1.0, 0.873)\n"
     ]
    }
   ],
   "source": [
    "gn=GaussianNB().set_params(**{'var_smoothing': 1.0})\n",
    "gn.fit(X_train.drop(\"Id\",axis=1),y_train)\n",
    "y_pred1=gn.predict_proba(X_test.drop(\"Id\",axis=1))\n",
    "\n",
    "m=RandomForestClassifier(random_state=7).set_params(**{'max_features': 'sqrt', 'n_estimators': 10})\n",
    "m.fit(Hs4_Train.drop(\"Id\",axis=1),y_train)\n",
    "y_pred2=m.predict_proba(Hs4_Test.drop(\"Id\",axis=1))\n",
    "\n",
    "\n",
    "ypred=ensembleprobaN(y_pred1,y_pred2,theta=0.1)\n",
    "test_scores=getpredictionScores(y_test.index,ypred,X_test.Id,0.5,0.5,gt4,Class='0',B=2)\n",
    "print(theta, test_scores)"
   ]
  },
  {
   "cell_type": "markdown",
   "metadata": {},
   "source": [
    "### E2"
   ]
  },
  {
   "cell_type": "code",
   "execution_count": null,
   "metadata": {},
   "outputs": [],
   "source": [
    "gn=GaussianNB().set_params(**{'var_smoothing': 1.0})\n",
    "gn.fit(X_train.drop(\"Id\",axis=1),y_train)\n",
    "y_pred1=gn.predict_proba(X_2.drop(\"Id\",axis=1))\n",
    "\n",
    "m=RandomForestClassifier(random_state=3194).set_params(**{'max_features': 'sqrt', 'n_estimators': 10})\n",
    "m.fit(Hs4_Train.drop(\"Id\",axis=1),y_train)\n",
    "y_pred2=m.predict_proba(E2s4.drop(\"Id\",axis=1))\n",
    "\n",
    "\n",
    "ypred=ensembleprobaN(y_pred1,y_pred2,theta=0.1)\n",
    "test_scores=getpredictionScores(y_2.index,ypred,E2s4.Id,0.5,0.5,E2,Class='0',B=2)\n",
    "print(theta,test_scores)"
   ]
  },
  {
   "cell_type": "markdown",
   "metadata": {},
   "source": [
    "# Resolution"
   ]
  },
  {
   "cell_type": "code",
   "execution_count": 160,
   "metadata": {
    "ExecuteTime": {
     "end_time": "2021-08-31T08:59:49.830608Z",
     "start_time": "2021-08-31T08:59:49.819607Z"
    }
   },
   "outputs": [],
   "source": [
    "def proba2pred(proba):\n",
    "    pred=proba.copy()\n",
    "    for p,i in zip(proba,proba.index):\n",
    "        pred[i]=np.argmax(p)\n",
    "    return pred"
   ]
  },
  {
   "cell_type": "code",
   "execution_count": 161,
   "metadata": {
    "ExecuteTime": {
     "end_time": "2021-08-31T08:59:50.542667Z",
     "start_time": "2021-08-31T08:59:50.539666Z"
    }
   },
   "outputs": [],
   "source": [
    "def mindex(y_pred,y_test):\n",
    "    return pd.Series(y_pred.tolist(), index =y_test.index)"
   ]
  },
  {
   "cell_type": "code",
   "execution_count": 163,
   "metadata": {
    "ExecuteTime": {
     "end_time": "2021-08-31T09:00:02.217848Z",
     "start_time": "2021-08-31T09:00:01.928844Z"
    }
   },
   "outputs": [],
   "source": [
    "li=[]\n",
    "for Id in X_train.Id.unique():\n",
    "    if 0 not in y_train[X_train[X_train.Id==Id].index].unique():\n",
    "           li.append(Id)"
   ]
  },
  {
   "cell_type": "code",
   "execution_count": 164,
   "metadata": {
    "ExecuteTime": {
     "end_time": "2021-08-31T09:00:02.770858Z",
     "start_time": "2021-08-31T09:00:02.755858Z"
    }
   },
   "outputs": [
    {
     "data": {
      "text/html": [
       "<div>\n",
       "<style scoped>\n",
       "    .dataframe tbody tr th:only-of-type {\n",
       "        vertical-align: middle;\n",
       "    }\n",
       "\n",
       "    .dataframe tbody tr th {\n",
       "        vertical-align: top;\n",
       "    }\n",
       "\n",
       "    .dataframe thead th {\n",
       "        text-align: right;\n",
       "    }\n",
       "</style>\n",
       "<table border=\"1\" class=\"dataframe\">\n",
       "  <thead>\n",
       "    <tr style=\"text-align: right;\">\n",
       "      <th></th>\n",
       "      <th>Id</th>\n",
       "      <th>Position</th>\n",
       "      <th>Distance</th>\n",
       "      <th>sameGender</th>\n",
       "      <th>sameNumber</th>\n",
       "      <th>isPerson</th>\n",
       "      <th>isDefinite</th>\n",
       "      <th>isPrepositional</th>\n",
       "      <th>isSubject</th>\n",
       "      <th>isDirectObject</th>\n",
       "      <th>...</th>\n",
       "      <th>precedingPOS_CCONJ</th>\n",
       "      <th>precedingPOS_DET</th>\n",
       "      <th>precedingPOS_NOUN</th>\n",
       "      <th>precedingPOS_PART</th>\n",
       "      <th>precedingPOS_PRON</th>\n",
       "      <th>precedingPOS_PROPN</th>\n",
       "      <th>precedingPOS_PUNCT</th>\n",
       "      <th>precedingPOS_SCONJ</th>\n",
       "      <th>precedingPOS_VERB</th>\n",
       "      <th>precedingPOS_X</th>\n",
       "    </tr>\n",
       "  </thead>\n",
       "  <tbody>\n",
       "    <tr>\n",
       "      <th>0</th>\n",
       "      <td>2007-ertms#0</td>\n",
       "      <td>10.0</td>\n",
       "      <td>8</td>\n",
       "      <td>False</td>\n",
       "      <td>False</td>\n",
       "      <td>False</td>\n",
       "      <td>False</td>\n",
       "      <td>False</td>\n",
       "      <td>True</td>\n",
       "      <td>False</td>\n",
       "      <td>...</td>\n",
       "      <td>0</td>\n",
       "      <td>0</td>\n",
       "      <td>0</td>\n",
       "      <td>0</td>\n",
       "      <td>0</td>\n",
       "      <td>0</td>\n",
       "      <td>0</td>\n",
       "      <td>0</td>\n",
       "      <td>1</td>\n",
       "      <td>0</td>\n",
       "    </tr>\n",
       "    <tr>\n",
       "      <th>1</th>\n",
       "      <td>2007-ertms#0</td>\n",
       "      <td>10.0</td>\n",
       "      <td>4</td>\n",
       "      <td>False</td>\n",
       "      <td>True</td>\n",
       "      <td>False</td>\n",
       "      <td>True</td>\n",
       "      <td>False</td>\n",
       "      <td>False</td>\n",
       "      <td>True</td>\n",
       "      <td>...</td>\n",
       "      <td>0</td>\n",
       "      <td>0</td>\n",
       "      <td>0</td>\n",
       "      <td>0</td>\n",
       "      <td>0</td>\n",
       "      <td>0</td>\n",
       "      <td>0</td>\n",
       "      <td>0</td>\n",
       "      <td>1</td>\n",
       "      <td>0</td>\n",
       "    </tr>\n",
       "    <tr>\n",
       "      <th>2</th>\n",
       "      <td>2007-ertms#0</td>\n",
       "      <td>10.0</td>\n",
       "      <td>2</td>\n",
       "      <td>False</td>\n",
       "      <td>True</td>\n",
       "      <td>False</td>\n",
       "      <td>False</td>\n",
       "      <td>False</td>\n",
       "      <td>False</td>\n",
       "      <td>False</td>\n",
       "      <td>...</td>\n",
       "      <td>0</td>\n",
       "      <td>0</td>\n",
       "      <td>0</td>\n",
       "      <td>0</td>\n",
       "      <td>0</td>\n",
       "      <td>0</td>\n",
       "      <td>0</td>\n",
       "      <td>0</td>\n",
       "      <td>1</td>\n",
       "      <td>0</td>\n",
       "    </tr>\n",
       "    <tr>\n",
       "      <th>26</th>\n",
       "      <td>2007-ertms#5</td>\n",
       "      <td>58.0</td>\n",
       "      <td>13</td>\n",
       "      <td>True</td>\n",
       "      <td>False</td>\n",
       "      <td>False</td>\n",
       "      <td>False</td>\n",
       "      <td>False</td>\n",
       "      <td>True</td>\n",
       "      <td>False</td>\n",
       "      <td>...</td>\n",
       "      <td>0</td>\n",
       "      <td>1</td>\n",
       "      <td>0</td>\n",
       "      <td>0</td>\n",
       "      <td>0</td>\n",
       "      <td>0</td>\n",
       "      <td>0</td>\n",
       "      <td>0</td>\n",
       "      <td>0</td>\n",
       "      <td>0</td>\n",
       "    </tr>\n",
       "    <tr>\n",
       "      <th>27</th>\n",
       "      <td>2007-ertms#5</td>\n",
       "      <td>58.0</td>\n",
       "      <td>11</td>\n",
       "      <td>True</td>\n",
       "      <td>True</td>\n",
       "      <td>False</td>\n",
       "      <td>False</td>\n",
       "      <td>False</td>\n",
       "      <td>False</td>\n",
       "      <td>True</td>\n",
       "      <td>...</td>\n",
       "      <td>0</td>\n",
       "      <td>1</td>\n",
       "      <td>0</td>\n",
       "      <td>0</td>\n",
       "      <td>0</td>\n",
       "      <td>0</td>\n",
       "      <td>0</td>\n",
       "      <td>0</td>\n",
       "      <td>0</td>\n",
       "      <td>0</td>\n",
       "    </tr>\n",
       "    <tr>\n",
       "      <th>...</th>\n",
       "      <td>...</td>\n",
       "      <td>...</td>\n",
       "      <td>...</td>\n",
       "      <td>...</td>\n",
       "      <td>...</td>\n",
       "      <td>...</td>\n",
       "      <td>...</td>\n",
       "      <td>...</td>\n",
       "      <td>...</td>\n",
       "      <td>...</td>\n",
       "      <td>...</td>\n",
       "      <td>...</td>\n",
       "      <td>...</td>\n",
       "      <td>...</td>\n",
       "      <td>...</td>\n",
       "      <td>...</td>\n",
       "      <td>...</td>\n",
       "      <td>...</td>\n",
       "      <td>...</td>\n",
       "      <td>...</td>\n",
       "      <td>...</td>\n",
       "    </tr>\n",
       "    <tr>\n",
       "      <th>6660</th>\n",
       "      <td>EDRS_MOCReqs#711</td>\n",
       "      <td>29.0</td>\n",
       "      <td>16</td>\n",
       "      <td>True</td>\n",
       "      <td>False</td>\n",
       "      <td>False</td>\n",
       "      <td>False</td>\n",
       "      <td>False</td>\n",
       "      <td>False</td>\n",
       "      <td>False</td>\n",
       "      <td>...</td>\n",
       "      <td>0</td>\n",
       "      <td>0</td>\n",
       "      <td>0</td>\n",
       "      <td>0</td>\n",
       "      <td>0</td>\n",
       "      <td>0</td>\n",
       "      <td>0</td>\n",
       "      <td>0</td>\n",
       "      <td>0</td>\n",
       "      <td>0</td>\n",
       "    </tr>\n",
       "    <tr>\n",
       "      <th>6661</th>\n",
       "      <td>EDRS_MOCReqs#711</td>\n",
       "      <td>29.0</td>\n",
       "      <td>19</td>\n",
       "      <td>True</td>\n",
       "      <td>False</td>\n",
       "      <td>False</td>\n",
       "      <td>True</td>\n",
       "      <td>False</td>\n",
       "      <td>False</td>\n",
       "      <td>False</td>\n",
       "      <td>...</td>\n",
       "      <td>0</td>\n",
       "      <td>0</td>\n",
       "      <td>0</td>\n",
       "      <td>0</td>\n",
       "      <td>0</td>\n",
       "      <td>0</td>\n",
       "      <td>0</td>\n",
       "      <td>0</td>\n",
       "      <td>0</td>\n",
       "      <td>0</td>\n",
       "    </tr>\n",
       "    <tr>\n",
       "      <th>6662</th>\n",
       "      <td>EDRS_MOCReqs#711</td>\n",
       "      <td>29.0</td>\n",
       "      <td>13</td>\n",
       "      <td>True</td>\n",
       "      <td>False</td>\n",
       "      <td>False</td>\n",
       "      <td>True</td>\n",
       "      <td>False</td>\n",
       "      <td>True</td>\n",
       "      <td>False</td>\n",
       "      <td>...</td>\n",
       "      <td>0</td>\n",
       "      <td>0</td>\n",
       "      <td>0</td>\n",
       "      <td>0</td>\n",
       "      <td>0</td>\n",
       "      <td>0</td>\n",
       "      <td>0</td>\n",
       "      <td>0</td>\n",
       "      <td>0</td>\n",
       "      <td>0</td>\n",
       "    </tr>\n",
       "    <tr>\n",
       "      <th>6663</th>\n",
       "      <td>EDRS_MOCReqs#711</td>\n",
       "      <td>29.0</td>\n",
       "      <td>4</td>\n",
       "      <td>True</td>\n",
       "      <td>True</td>\n",
       "      <td>False</td>\n",
       "      <td>False</td>\n",
       "      <td>False</td>\n",
       "      <td>False</td>\n",
       "      <td>False</td>\n",
       "      <td>...</td>\n",
       "      <td>0</td>\n",
       "      <td>0</td>\n",
       "      <td>0</td>\n",
       "      <td>0</td>\n",
       "      <td>0</td>\n",
       "      <td>0</td>\n",
       "      <td>0</td>\n",
       "      <td>0</td>\n",
       "      <td>0</td>\n",
       "      <td>0</td>\n",
       "    </tr>\n",
       "    <tr>\n",
       "      <th>6664</th>\n",
       "      <td>EDRS_MOCReqs#711</td>\n",
       "      <td>29.0</td>\n",
       "      <td>1</td>\n",
       "      <td>True</td>\n",
       "      <td>False</td>\n",
       "      <td>False</td>\n",
       "      <td>True</td>\n",
       "      <td>False</td>\n",
       "      <td>False</td>\n",
       "      <td>False</td>\n",
       "      <td>...</td>\n",
       "      <td>0</td>\n",
       "      <td>0</td>\n",
       "      <td>0</td>\n",
       "      <td>0</td>\n",
       "      <td>0</td>\n",
       "      <td>0</td>\n",
       "      <td>0</td>\n",
       "      <td>0</td>\n",
       "      <td>0</td>\n",
       "      <td>0</td>\n",
       "    </tr>\n",
       "  </tbody>\n",
       "</table>\n",
       "<p>2389 rows × 75 columns</p>\n",
       "</div>"
      ],
      "text/plain": [
       "                    Id  Position  Distance  sameGender  sameNumber  isPerson  \\\n",
       "0         2007-ertms#0      10.0         8       False       False     False   \n",
       "1         2007-ertms#0      10.0         4       False        True     False   \n",
       "2         2007-ertms#0      10.0         2       False        True     False   \n",
       "26        2007-ertms#5      58.0        13        True       False     False   \n",
       "27        2007-ertms#5      58.0        11        True        True     False   \n",
       "...                ...       ...       ...         ...         ...       ...   \n",
       "6660  EDRS_MOCReqs#711      29.0        16        True       False     False   \n",
       "6661  EDRS_MOCReqs#711      29.0        19        True       False     False   \n",
       "6662  EDRS_MOCReqs#711      29.0        13        True       False     False   \n",
       "6663  EDRS_MOCReqs#711      29.0         4        True        True     False   \n",
       "6664  EDRS_MOCReqs#711      29.0         1        True       False     False   \n",
       "\n",
       "      isDefinite  isPrepositional  isSubject  isDirectObject  ...  \\\n",
       "0          False            False       True           False  ...   \n",
       "1           True            False      False            True  ...   \n",
       "2          False            False      False           False  ...   \n",
       "26         False            False       True           False  ...   \n",
       "27         False            False      False            True  ...   \n",
       "...          ...              ...        ...             ...  ...   \n",
       "6660       False            False      False           False  ...   \n",
       "6661        True            False      False           False  ...   \n",
       "6662        True            False       True           False  ...   \n",
       "6663       False            False      False           False  ...   \n",
       "6664        True            False      False           False  ...   \n",
       "\n",
       "      precedingPOS_CCONJ  precedingPOS_DET  precedingPOS_NOUN  \\\n",
       "0                      0                 0                  0   \n",
       "1                      0                 0                  0   \n",
       "2                      0                 0                  0   \n",
       "26                     0                 1                  0   \n",
       "27                     0                 1                  0   \n",
       "...                  ...               ...                ...   \n",
       "6660                   0                 0                  0   \n",
       "6661                   0                 0                  0   \n",
       "6662                   0                 0                  0   \n",
       "6663                   0                 0                  0   \n",
       "6664                   0                 0                  0   \n",
       "\n",
       "      precedingPOS_PART  precedingPOS_PRON  precedingPOS_PROPN  \\\n",
       "0                     0                  0                   0   \n",
       "1                     0                  0                   0   \n",
       "2                     0                  0                   0   \n",
       "26                    0                  0                   0   \n",
       "27                    0                  0                   0   \n",
       "...                 ...                ...                 ...   \n",
       "6660                  0                  0                   0   \n",
       "6661                  0                  0                   0   \n",
       "6662                  0                  0                   0   \n",
       "6663                  0                  0                   0   \n",
       "6664                  0                  0                   0   \n",
       "\n",
       "      precedingPOS_PUNCT  precedingPOS_SCONJ  precedingPOS_VERB  \\\n",
       "0                      0                   0                  1   \n",
       "1                      0                   0                  1   \n",
       "2                      0                   0                  1   \n",
       "26                     0                   0                  0   \n",
       "27                     0                   0                  0   \n",
       "...                  ...                 ...                ...   \n",
       "6660                   0                   0                  0   \n",
       "6661                   0                   0                  0   \n",
       "6662                   0                   0                  0   \n",
       "6663                   0                   0                  0   \n",
       "6664                   0                   0                  0   \n",
       "\n",
       "      precedingPOS_X  \n",
       "0                  0  \n",
       "1                  0  \n",
       "2                  0  \n",
       "26                 0  \n",
       "27                 0  \n",
       "...              ...  \n",
       "6660               0  \n",
       "6661               0  \n",
       "6662               0  \n",
       "6663               0  \n",
       "6664               0  \n",
       "\n",
       "[2389 rows x 75 columns]"
      ]
     },
     "execution_count": 164,
     "metadata": {},
     "output_type": "execute_result"
    }
   ],
   "source": [
    "X_train[X_train.Id.isin(li)]"
   ]
  },
  {
   "cell_type": "code",
   "execution_count": 165,
   "metadata": {
    "ExecuteTime": {
     "end_time": "2021-08-31T09:00:07.765447Z",
     "start_time": "2021-08-31T09:00:07.753447Z"
    }
   },
   "outputs": [],
   "source": [
    "def resolve(y_proba,X_test,y_test,gt3=gt3,theta=0.5):\n",
    "    ci=[0,0]\n",
    "    for Id in X_test.Id.unique():\n",
    "        if 0 not in y_test[X_test[X_test.Id==Id].index].unique():\n",
    "            preds=proba2pred(y_proba[X_test[X_test.Id==Id].index])\n",
    "            if 1 in preds.values:\n",
    "                if list(preds.values).count(1)==1:\n",
    "                    if y_test[preds[preds==1].index[0]]==1:\n",
    "                        ci[0]+=1\n",
    "                    else:\n",
    "                        ci[1]+=1\n",
    "                else:\n",
    "                    if theta!=0:\n",
    "                        above_theta=[]\n",
    "                        for i in preds[preds==1].index:\n",
    "                            #print(y_proba[i][1],preds[i],i)\n",
    "                            if y_proba[i][1]>=theta:\n",
    "                                above_theta.append(i)\n",
    "                        if len(above_theta)!=1:\n",
    "                            ci[1]+=1\n",
    "                        elif preds[above_theta[0]]==1:\n",
    "                            ci[0]+=1\n",
    "                        else:\n",
    "                            ci[1]+=1\n",
    "                    else:\n",
    "                        maxs=[]\n",
    "                        mx=y_proba[preds[preds==1].index].apply(lambda x: x[1]).max()\n",
    "                        for i,p in zip(preds[preds==1].index,y_proba[preds[preds==1].index]):\n",
    "                            if p[1]==mx:\n",
    "                                maxs.append(i)\n",
    "                        if len(maxs)>1:\n",
    "                            trm=[]\n",
    "                            for i in range(0,len(maxs)-1):\n",
    "                                for j in range(i+1,len(maxs)):\n",
    "                                    if gt3[\"Candidate Antecedent\"][maxs[i]]==gt3[\"Candidate Antecedent\"][maxs[j]]:\n",
    "                                        trm.append(i)\n",
    "                            maxs=np.delete(maxs,trm)\n",
    "                            if len(maxs)>1:\n",
    "                                ci[1]+=1\n",
    "                            elif preds[maxs[0]]==1:\n",
    "                                ci[0]+=1\n",
    "                            else:\n",
    "                                ci[1]+=1\n",
    "                        elif preds[maxs[0]]==1:\n",
    "                            ci[0]+=1\n",
    "                        else:\n",
    "                            ci[1]+=1\n",
    "            else:\n",
    "                ci[1]+=1\n",
    "    return ci[0]/(ci[0]+ci[1])"
   ]
  },
  {
   "cell_type": "code",
   "execution_count": 292,
   "metadata": {
    "ExecuteTime": {
     "end_time": "2021-08-23T12:53:36.461355Z",
     "start_time": "2021-08-23T12:53:36.380775Z"
    }
   },
   "outputs": [],
   "source": [
    "m=RandomForestClassifier().set_params(**{'max_features': 'sqrt', 'n_estimators': 10})\n",
    "m.fit(X_train.drop(\"Id\",axis=1),y_train)\n",
    "y_pred=m.predict_proba(X_test.drop(\"Id\",axis=1))\n",
    "y_pred=mindex(y_pred,y_test)"
   ]
  },
  {
   "cell_type": "code",
   "execution_count": 306,
   "metadata": {
    "ExecuteTime": {
     "end_time": "2021-08-23T13:06:19.771339Z",
     "start_time": "2021-08-23T13:06:19.624594Z"
    }
   },
   "outputs": [
    {
     "data": {
      "text/plain": [
       "0.15625"
      ]
     },
     "execution_count": 306,
     "metadata": {},
     "output_type": "execute_result"
    }
   ],
   "source": [
    "resolve(y_pred,X_test,y_test,theta=0.5)"
   ]
  },
  {
   "cell_type": "code",
   "execution_count": 307,
   "metadata": {
    "ExecuteTime": {
     "end_time": "2021-08-23T13:06:20.726629Z",
     "start_time": "2021-08-23T13:06:20.579832Z"
    }
   },
   "outputs": [
    {
     "data": {
      "text/plain": [
       "0.19791666666666666"
      ]
     },
     "execution_count": 307,
     "metadata": {},
     "output_type": "execute_result"
    }
   ],
   "source": [
    "resolve(y_pred,X_test,y_test,theta=0)"
   ]
  },
  {
   "cell_type": "markdown",
   "metadata": {},
   "source": [
    "## Model Selection"
   ]
  },
  {
   "cell_type": "markdown",
   "metadata": {},
   "source": [
    "### LF"
   ]
  },
  {
   "cell_type": "code",
   "execution_count": 365,
   "metadata": {
    "ExecuteTime": {
     "end_time": "2021-08-23T13:52:12.874676Z",
     "start_time": "2021-08-23T13:52:10.694585Z"
    }
   },
   "outputs": [
    {
     "name": "stdout",
     "output_type": "stream",
     "text": [
      "RUS +++++++++++++++++++++++++\n",
      "RUS dt ==========\n",
      "0.2542372881355932 0.5\n",
      "0.3220338983050847 0\n",
      "RUS mlp ==========\n",
      "0.3559322033898305 0.5\n",
      "0.8135593220338984 0\n",
      "RUS knn ==========\n",
      "0.288135593220339 0.5\n",
      "0.6101694915254238 0\n",
      "RUS lr ==========\n",
      "0.288135593220339 0.5\n",
      "0.864406779661017 0\n",
      "RUS gnb ==========\n",
      "0.05084745762711865 0.5\n",
      "0.1864406779661017 0\n",
      "RUS rf ==========\n",
      "0.3728813559322034 0.5\n",
      "0.711864406779661 0\n",
      "RUS svm ==========\n",
      "0.22033898305084745 0.5\n",
      "0.9152542372881356 0\n"
     ]
    }
   ],
   "source": [
    "models=reset()\n",
    "for stratname,sampler in [(\"RUS\",RandomUnderSampler(sampling_strategy='not minority', random_state=0))]:\n",
    "    print(stratname,\"+++++++++++++++++++++++++\")\n",
    "    avg=0\n",
    "    train_idx, test_idx = groupTTsplit(X_train, y_train,X_train[\"Id\"].unique(),ratio=0.2)\n",
    "    XS_train, XS_test, ys_train, ys_test = X_train.loc[train_idx].drop(\"Id\",axis=1),X_train.loc[test_idx], y_train.loc[train_idx], y_train.loc[test_idx]\n",
    "    XS_train, ys_train=sampler.fit_resample(XS_train, ys_train)\n",
    "    for n in models:\n",
    "        m=models[n]\n",
    "        print(stratname, n, \"==========\")\n",
    "        m.fit(XS_train,ys_train)\n",
    "        #scores=scoringF1(m, XS_test, ys_test,Class=0,MultiClass=False)\n",
    "        y_pred=m.predict_proba(XS_test.drop(\"Id\",axis=1))\n",
    "        y_pred=mindex(y_pred,ys_test)\n",
    "        print(resolve(y_pred,XS_test,ys_test,theta=0.5),0.5)\n",
    "        print(resolve(y_pred,XS_test,ys_test,theta=0),0)"
   ]
  },
  {
   "cell_type": "markdown",
   "metadata": {},
   "source": [
    "### SBERT"
   ]
  },
  {
   "cell_type": "code",
   "execution_count": 311,
   "metadata": {
    "ExecuteTime": {
     "end_time": "2021-08-23T13:25:16.092411Z",
     "start_time": "2021-08-23T13:25:16.071892Z"
    }
   },
   "outputs": [],
   "source": [
    "sbtrain=sb.loc[X_train.index]\n",
    "sbtrain[\"Id\"]=X_train[\"Id\"]"
   ]
  },
  {
   "cell_type": "code",
   "execution_count": 364,
   "metadata": {
    "ExecuteTime": {
     "end_time": "2021-08-23T13:51:47.239612Z",
     "start_time": "2021-08-23T13:51:43.725164Z"
    }
   },
   "outputs": [
    {
     "name": "stdout",
     "output_type": "stream",
     "text": [
      "RUS +++++++++++++++++++++++++\n",
      "RUS dt ==========\n",
      "0.06779661016949153 0\n",
      "RUS mlp ==========\n",
      "0.7457627118644068 0\n",
      "RUS knn ==========\n",
      "0.13559322033898305 0\n",
      "RUS lr ==========\n",
      "0.6610169491525424 0\n",
      "RUS gnb ==========\n",
      "0.6271186440677966 0\n",
      "RUS rf ==========\n",
      "0.6610169491525424 0\n",
      "RUS svm ==========\n",
      "0.6949152542372882 0\n"
     ]
    }
   ],
   "source": [
    "models=reset()\n",
    "for stratname,sampler in [(\"RUS\",RandomUnderSampler(sampling_strategy='not minority', random_state=0))]:\n",
    "    print(stratname,\"+++++++++++++++++++++++++\")\n",
    "    avg=0\n",
    "    train_idx, test_idx = groupTTsplit(sbtrain, y_train,sbtrain[\"Id\"].unique(),ratio=0.2)\n",
    "    XS_train, XS_test, ys_train, ys_test = sbtrain.loc[train_idx].drop(\"Id\",axis=1),sbtrain.loc[test_idx], y_train.loc[train_idx], y_train.loc[test_idx]\n",
    "    XS_train, ys_train=sampler.fit_resample(XS_train, ys_train)\n",
    "    for n in models:\n",
    "        m=models[n]\n",
    "        print(stratname, n, \"==========\")\n",
    "        m.fit(XS_train,ys_train)\n",
    "        #scores=scoringF1(m, XS_test, ys_test,Class=0,MultiClass=False)\n",
    "        y_pred=m.predict_proba(XS_test.drop(\"Id\",axis=1))\n",
    "        y_pred=mindex(y_pred,ys_test)\n",
    "        #print(resolve(y_pred,XS_test,ys_test,theta=0.5),0.5)\n",
    "        print(resolve(y_pred,XS_test,ys_test,theta=0),0)"
   ]
  },
  {
   "cell_type": "markdown",
   "metadata": {},
   "source": [
    "### Concat"
   ]
  },
  {
   "cell_type": "code",
   "execution_count": 317,
   "metadata": {
    "ExecuteTime": {
     "end_time": "2021-08-23T13:29:04.729861Z",
     "start_time": "2021-08-23T13:29:04.651720Z"
    }
   },
   "outputs": [],
   "source": [
    "Hc4Train=Hc4.copy()\n",
    "Hc4Train=Hc4Train.loc[X_train.index]\n",
    "Hc4Train[\"Id\"]=X_train[\"Id\"]"
   ]
  },
  {
   "cell_type": "code",
   "execution_count": 363,
   "metadata": {
    "ExecuteTime": {
     "end_time": "2021-08-23T13:51:43.725164Z",
     "start_time": "2021-08-23T13:51:32.056482Z"
    }
   },
   "outputs": [
    {
     "name": "stdout",
     "output_type": "stream",
     "text": [
      "RUS +++++++++++++++++++++++++\n",
      "RUS dt ==========\n",
      "0.0847457627118644 0\n",
      "RUS mlp ==========\n",
      "0.6101694915254238 0\n",
      "RUS knn ==========\n",
      "0.1694915254237288 0\n",
      "RUS lr ==========\n",
      "0.6610169491525424 0\n",
      "RUS gnb ==========\n",
      "0.1864406779661017 0\n",
      "RUS rf ==========\n",
      "0.6779661016949152 0\n",
      "RUS svm ==========\n",
      "0.6610169491525424 0\n"
     ]
    }
   ],
   "source": [
    "models=reset()\n",
    "for stratname,sampler in [(\"RUS\",RandomUnderSampler(sampling_strategy='not minority', random_state=0))]:\n",
    "    print(stratname,\"+++++++++++++++++++++++++\")\n",
    "    avg=0\n",
    "    train_idx, test_idx = groupTTsplit(Hc4Train, y_train,Hc4Train[\"Id\"].unique(),ratio=0.2)\n",
    "    XS_train, XS_test, ys_train, ys_test = Hc4Train.loc[train_idx].drop(\"Id\",axis=1),Hc4Train.loc[test_idx], y_train.loc[train_idx], y_train.loc[test_idx]\n",
    "    XS_train, ys_train=sampler.fit_resample(XS_train, ys_train)\n",
    "    for n in models:\n",
    "        m=models[n]\n",
    "        print(stratname, n, \"==========\")\n",
    "        m.fit(XS_train,ys_train)\n",
    "        #scores=scoringF1(m, XS_test, ys_test,Class=0,MultiClass=False)\n",
    "        y_pred=m.predict_proba(XS_test.drop(\"Id\",axis=1))\n",
    "        y_pred=mindex(y_pred,ys_test)\n",
    "        #print(resolve(y_pred,XS_test,ys_test,theta=0.5),0.5)\n",
    "        print(resolve(y_pred,XS_test,ys_test,theta=0),0)"
   ]
  },
  {
   "cell_type": "markdown",
   "metadata": {},
   "source": [
    "### Sum"
   ]
  },
  {
   "cell_type": "code",
   "execution_count": 319,
   "metadata": {
    "ExecuteTime": {
     "end_time": "2021-08-23T13:30:26.465511Z",
     "start_time": "2021-08-23T13:30:26.439872Z"
    }
   },
   "outputs": [],
   "source": [
    "Hs4Train=Hs4.copy()\n",
    "Hs4Train=Hs4Train.loc[X_train.index]\n",
    "Hs4Train[\"Id\"]=X_train[\"Id\"]"
   ]
  },
  {
   "cell_type": "code",
   "execution_count": 362,
   "metadata": {
    "ExecuteTime": {
     "end_time": "2021-08-23T13:51:26.208323Z",
     "start_time": "2021-08-23T13:51:22.714064Z"
    }
   },
   "outputs": [
    {
     "name": "stdout",
     "output_type": "stream",
     "text": [
      "RUS +++++++++++++++++++++++++\n",
      "RUS dt ==========\n",
      "0.06779661016949153 0\n",
      "RUS mlp ==========\n",
      "0.576271186440678 0\n",
      "RUS knn ==========\n",
      "0.15254237288135594 0\n",
      "RUS lr ==========\n",
      "0.6271186440677966 0\n",
      "RUS gnb ==========\n",
      "0.5254237288135594 0\n",
      "RUS rf ==========\n",
      "0.576271186440678 0\n",
      "RUS svm ==========\n",
      "0.6610169491525424 0\n"
     ]
    }
   ],
   "source": [
    "models=reset()\n",
    "for stratname,sampler in [(\"RUS\",RandomUnderSampler(sampling_strategy='not minority', random_state=0))]:\n",
    "    print(stratname,\"+++++++++++++++++++++++++\")\n",
    "    avg=0\n",
    "    train_idx, test_idx = groupTTsplit(Hs4Train, y_train,Hs4Train[\"Id\"].unique(),ratio=0.2)\n",
    "    XS_train, XS_test, ys_train, ys_test = Hs4Train.loc[train_idx].drop(\"Id\",axis=1),Hs4Train.loc[test_idx], y_train.loc[train_idx], y_train.loc[test_idx]\n",
    "    XS_train, ys_train=sampler.fit_resample(XS_train, ys_train)\n",
    "    for n in models:\n",
    "        m=models[n]\n",
    "        print(stratname, n, \"==========\")\n",
    "        m.fit(XS_train,ys_train)\n",
    "        #scores=scoringF1(m, XS_test, ys_test,Class=0,MultiClass=False)\n",
    "        y_pred=m.predict_proba(XS_test.drop(\"Id\",axis=1))\n",
    "        y_pred=mindex(y_pred,ys_test)\n",
    "        #print(resolve(y_pred,XS_test,ys_test,theta=0.5),0.5)\n",
    "        print(resolve(y_pred,XS_test,ys_test,theta=0),0)"
   ]
  },
  {
   "cell_type": "markdown",
   "metadata": {},
   "source": [
    "### S2L"
   ]
  },
  {
   "cell_type": "code",
   "execution_count": 321,
   "metadata": {
    "ExecuteTime": {
     "end_time": "2021-08-23T13:30:48.174234Z",
     "start_time": "2021-08-23T13:30:48.152423Z"
    }
   },
   "outputs": [],
   "source": [
    "Hs2Train=Hs2.copy()\n",
    "Hs2Train=Hs2Train.loc[X_train.index]\n",
    "Hs2Train[\"Id\"]=X_train[\"Id\"]"
   ]
  },
  {
   "cell_type": "code",
   "execution_count": 361,
   "metadata": {
    "ExecuteTime": {
     "end_time": "2021-08-23T13:51:18.193134Z",
     "start_time": "2021-08-23T13:51:14.739475Z"
    }
   },
   "outputs": [
    {
     "name": "stdout",
     "output_type": "stream",
     "text": [
      "RUS +++++++++++++++++++++++++\n",
      "RUS dt ==========\n",
      "0.0 0\n",
      "RUS mlp ==========\n",
      "0.5932203389830508 0\n",
      "RUS knn ==========\n",
      "0.1694915254237288 0\n",
      "RUS lr ==========\n",
      "0.6610169491525424 0\n",
      "RUS gnb ==========\n",
      "0.559322033898305 0\n",
      "RUS rf ==========\n",
      "0.6779661016949152 0\n",
      "RUS svm ==========\n",
      "0.711864406779661 0\n"
     ]
    }
   ],
   "source": [
    "models=reset()\n",
    "for stratname,sampler in [(\"RUS\",RandomUnderSampler(sampling_strategy='not minority', random_state=0))]:\n",
    "    print(stratname,\"+++++++++++++++++++++++++\")\n",
    "    avg=0\n",
    "    train_idx, test_idx = groupTTsplit(Hs2Train, y_train,Hs2Train[\"Id\"].unique(),ratio=0.2)\n",
    "    XS_train, XS_test, ys_train, ys_test = Hs2Train.loc[train_idx].drop(\"Id\",axis=1),Hs2Train.loc[test_idx], y_train.loc[train_idx], y_train.loc[test_idx]\n",
    "    XS_train, ys_train=sampler.fit_resample(XS_train, ys_train)\n",
    "    for n in models:\n",
    "        m=models[n]\n",
    "        print(stratname, n, \"==========\")\n",
    "        m.fit(XS_train,ys_train)\n",
    "        #scores=scoringF1(m, XS_test, ys_test,Class=0,MultiClass=False)\n",
    "        y_pred=m.predict_proba(XS_test.drop(\"Id\",axis=1))\n",
    "        y_pred=mindex(y_pred,ys_test)\n",
    "        #print(resolve(y_pred,XS_test,ys_test,theta=0.5),0.5)\n",
    "        print(resolve(y_pred,XS_test,ys_test,theta=0),0)"
   ]
  },
  {
   "cell_type": "markdown",
   "metadata": {},
   "source": [
    "## Hyper Parameters Optimization"
   ]
  },
  {
   "cell_type": "markdown",
   "metadata": {
    "ExecuteTime": {
     "end_time": "2021-08-23T13:59:52.807724Z",
     "start_time": "2021-08-23T13:59:52.776473Z"
    }
   },
   "source": [
    "### LF"
   ]
  },
  {
   "cell_type": "code",
   "execution_count": 384,
   "metadata": {
    "ExecuteTime": {
     "end_time": "2021-08-23T14:40:25.452184Z",
     "start_time": "2021-08-23T14:01:27.874558Z"
    }
   },
   "outputs": [
    {
     "name": "stdout",
     "output_type": "stream",
     "text": [
      "svm  ==========\n",
      "{'C': 50, 'gamma': 0.001, 'kernel': 'poly'}\n",
      "0.8125\n"
     ]
    }
   ],
   "source": [
    "XS_train,ys_train=RandomUnderSampler(sampling_strategy='not minority', random_state=0).fit_resample(X_train,y_train)\n",
    "m=models['svm']\n",
    "cv=StratifiedKFold(n_splits=10)\n",
    "grid_search = GridSearchCV(estimator=m, \n",
    "              param_grid=grids['svm'], n_jobs=-1, cv=cv,  \n",
    "              scoring=ftwo_scorer)\n",
    "print(\"svm  ==========\")\n",
    "grid_search.fit(XS_train.drop(\"Id\",axis=1),ys_train)\n",
    "bp=grid_search.best_params_\n",
    "print(bp)\n",
    "y_pred=grid_search.best_estimator_.predict_proba(X_test.drop(\"Id\",axis=1))\n",
    "y_pred=mindex(y_pred,y_test)\n",
    "test_scores=resolve(y_pred,X_test.drop([1159,3530]),y_test.drop([1159,3530]),theta=0)\n",
    "print(test_scores)"
   ]
  },
  {
   "cell_type": "code",
   "execution_count": 388,
   "metadata": {
    "ExecuteTime": {
     "end_time": "2021-08-23T14:46:28.423747Z",
     "start_time": "2021-08-23T14:46:28.401656Z"
    }
   },
   "outputs": [
    {
     "data": {
      "text/plain": [
       "SVC(probability=True, random_state=0)"
      ]
     },
     "execution_count": 388,
     "metadata": {},
     "output_type": "execute_result"
    }
   ],
   "source": [
    "models['svm']"
   ]
  },
  {
   "cell_type": "code",
   "execution_count": 395,
   "metadata": {
    "ExecuteTime": {
     "end_time": "2021-08-23T14:47:49.368618Z",
     "start_time": "2021-08-23T14:47:44.732243Z"
    }
   },
   "outputs": [
    {
     "name": "stdout",
     "output_type": "stream",
     "text": [
      "0.8125\n"
     ]
    }
   ],
   "source": [
    "XS_train,ys_train=RandomUnderSampler(sampling_strategy='not minority', random_state=0).fit_resample(X_train,y_train)\n",
    "m=models['svm'].set_params(**{'C': 50, 'gamma': 0.001, 'kernel': 'poly'})\n",
    "m.fit(XS_train.drop(\"Id\",axis=1),ys_train)\n",
    "y_pred=m.predict_proba(X_test.drop(\"Id\",axis=1))\n",
    "y_pred=mindex(y_pred,y_test)\n",
    "test_scores=resolve(y_pred,X_test,y_test,theta=0)\n",
    "print(test_scores)"
   ]
  },
  {
   "cell_type": "code",
   "execution_count": 829,
   "metadata": {
    "ExecuteTime": {
     "end_time": "2021-08-27T13:28:35.036725Z",
     "start_time": "2021-08-27T13:28:30.326676Z"
    }
   },
   "outputs": [
    {
     "name": "stdout",
     "output_type": "stream",
     "text": [
      "0.574468085106383\n"
     ]
    }
   ],
   "source": [
    "models=reset()\n",
    "XS_train,ys_train=RandomUnderSampler(sampling_strategy='not minority', random_state=0).fit_resample(X_train,y_train)\n",
    "m=models['svm'].set_params(**{'C': 50, 'gamma': 0.001, 'kernel': 'poly'})\n",
    "m.fit(XS_train.drop(\"Id\",axis=1),ys_train)\n",
    "y_pred=m.predict_proba(X_2.drop(\"Id\",axis=1))\n",
    "y_pred=mindex(y_pred,y_2)\n",
    "test_scores=resolve(y_pred,X_2,y_2,theta=0)\n",
    "print(test_scores)"
   ]
  },
  {
   "cell_type": "code",
   "execution_count": 210,
   "metadata": {
    "ExecuteTime": {
     "end_time": "2021-09-01T15:35:22.139944Z",
     "start_time": "2021-09-01T15:35:17.332333Z"
    }
   },
   "outputs": [
    {
     "data": {
      "text/plain": [
       "SVC(C=50, gamma=0.001, kernel='poly', probability=True, random_state=0)"
      ]
     },
     "execution_count": 210,
     "metadata": {},
     "output_type": "execute_result"
    }
   ],
   "source": [
    "models=resetmodels()\n",
    "XS_train,ys_train=RandomUnderSampler(sampling_strategy='not minority', random_state=0).fit_resample(X_train,y_train)\n",
    "m=models['svm'].set_params(**{'C': 50, 'gamma': 0.001, 'kernel': 'poly'})\n",
    "m.fit(XS_train.drop(\"Id\",axis=1),ys_train)"
   ]
  },
  {
   "cell_type": "code",
   "execution_count": 211,
   "metadata": {
    "ExecuteTime": {
     "end_time": "2021-09-01T15:35:56.439559Z",
     "start_time": "2021-09-01T15:35:56.422560Z"
    }
   },
   "outputs": [],
   "source": [
    "saveObj(m,\"ML_LF-resolution.Anaphora\")"
   ]
  },
  {
   "cell_type": "markdown",
   "metadata": {},
   "source": [
    "### SBERT"
   ]
  },
  {
   "cell_type": "code",
   "execution_count": 172,
   "metadata": {
    "ExecuteTime": {
     "end_time": "2021-08-31T09:02:08.181833Z",
     "start_time": "2021-08-31T09:02:08.164833Z"
    }
   },
   "outputs": [],
   "source": [
    "sbtrain=sb.loc[X_train.index]\n",
    "sbtrain[\"Id\"]=X_train[\"Id\"]"
   ]
  },
  {
   "cell_type": "code",
   "execution_count": 170,
   "metadata": {
    "ExecuteTime": {
     "end_time": "2021-08-31T09:01:26.641116Z",
     "start_time": "2021-08-31T09:01:26.627117Z"
    }
   },
   "outputs": [],
   "source": [
    "sbtest=sb.loc[X_test.index]\n",
    "sbtest[\"Id\"]=X_test[\"Id\"]"
   ]
  },
  {
   "cell_type": "code",
   "execution_count": 177,
   "metadata": {
    "ExecuteTime": {
     "end_time": "2021-08-31T09:05:18.615150Z",
     "start_time": "2021-08-31T09:03:05.881368Z"
    }
   },
   "outputs": [
    {
     "name": "stdout",
     "output_type": "stream",
     "text": [
      "mlp  ==========\n",
      "{'activation': 'tanh', 'alpha': 0.0001, 'hidden_layer_sizes': (50, 50, 50), 'learning_rate': 'constant', 'solver': 'sgd'}\n"
     ]
    }
   ],
   "source": [
    "models=reset()\n",
    "XS_train,ys_train=RandomUnderSampler(sampling_strategy='not minority', random_state=0).fit_resample(sbtrain,y_train)\n",
    "m=models['mlp']\n",
    "cv=StratifiedKFold(n_splits=10)\n",
    "grid_search = GridSearchCV(estimator=m, \n",
    "              param_grid=grids['mlp'], n_jobs=-1, cv=cv,  \n",
    "              scoring=ftwo_scorer)\n",
    "print(\"mlp  ==========\")\n",
    "grid_search.fit(XS_train.drop(\"Id\",axis=1),ys_train)\n",
    "bp=grid_search.best_params_\n",
    "print(bp)"
   ]
  },
  {
   "cell_type": "code",
   "execution_count": 178,
   "metadata": {
    "ExecuteTime": {
     "end_time": "2021-08-31T09:05:18.815193Z",
     "start_time": "2021-08-31T09:05:18.616151Z"
    }
   },
   "outputs": [
    {
     "name": "stdout",
     "output_type": "stream",
     "text": [
      "0.5555555555555556\n"
     ]
    }
   ],
   "source": [
    "y_pred=grid_search.best_estimator_.predict_proba(sbtest.drop(\"Id\",axis=1))\n",
    "y_pred=mindex(y_pred,y_test)\n",
    "test_scores=resolve(y_pred,sbtest,y_test,theta=0)\n",
    "print(test_scores)"
   ]
  },
  {
   "cell_type": "code",
   "execution_count": 180,
   "metadata": {
    "ExecuteTime": {
     "end_time": "2021-08-31T09:05:35.152817Z",
     "start_time": "2021-08-31T09:05:34.582810Z"
    }
   },
   "outputs": [
    {
     "name": "stdout",
     "output_type": "stream",
     "text": [
      "0.652027027027027\n"
     ]
    }
   ],
   "source": [
    "y_pred=grid_search.best_estimator_.predict_proba(sbtrain.drop(\"Id\",axis=1))\n",
    "y_pred=mindex(y_pred,y_train)\n",
    "test_scores=resolve(y_pred,sbtrain,y_train,theta=0)\n",
    "print(test_scores)"
   ]
  },
  {
   "cell_type": "code",
   "execution_count": 188,
   "metadata": {
    "ExecuteTime": {
     "end_time": "2021-08-31T09:13:59.326636Z",
     "start_time": "2021-08-31T09:13:59.319638Z"
    }
   },
   "outputs": [],
   "source": [
    "models=reset()"
   ]
  },
  {
   "cell_type": "code",
   "execution_count": 182,
   "metadata": {
    "ExecuteTime": {
     "end_time": "2021-08-31T09:12:45.195854Z",
     "start_time": "2021-08-31T09:12:45.188854Z"
    }
   },
   "outputs": [],
   "source": [
    "e2sb[\"Id\"]=X_2[\"Id\"]"
   ]
  },
  {
   "cell_type": "code",
   "execution_count": 184,
   "metadata": {
    "ExecuteTime": {
     "end_time": "2021-08-31T09:13:03.197356Z",
     "start_time": "2021-08-31T09:13:01.085330Z"
    }
   },
   "outputs": [
    {
     "name": "stdout",
     "output_type": "stream",
     "text": [
      "0.9019607843137255\n"
     ]
    }
   ],
   "source": [
    "m=models['mlp'].set_params(**{'activation': 'tanh', 'alpha': 0.0001, 'hidden_layer_sizes': (50, 50, 50), 'learning_rate': 'constant', 'solver': 'sgd'})\n",
    "XS_train,ys_train=RandomUnderSampler(sampling_strategy='not minority', random_state=0).fit_resample(sbtrain,y_train)\n",
    "m.fit(XS_train.drop(\"Id\",axis=1),ys_train)\n",
    "y_pred=m.predict_proba(e2sb.loc[X_2.index].drop(\"Id\",axis=1))\n",
    "y_pred=mindex(y_pred,y_2)\n",
    "test_scores=resolve(y_pred,e2sb.loc[X_2.index],y_2,gt3=E2,theta=0)\n",
    "print(test_scores)"
   ]
  },
  {
   "cell_type": "code",
   "execution_count": 212,
   "metadata": {
    "ExecuteTime": {
     "end_time": "2021-09-01T15:36:21.415352Z",
     "start_time": "2021-09-01T15:36:19.443085Z"
    }
   },
   "outputs": [
    {
     "data": {
      "text/plain": [
       "MLPClassifier(activation='tanh', hidden_layer_sizes=(50, 50, 50), max_iter=100,\n",
       "              random_state=0, solver='sgd')"
      ]
     },
     "execution_count": 212,
     "metadata": {},
     "output_type": "execute_result"
    }
   ],
   "source": [
    "m=models['mlp'].set_params(**{'activation': 'tanh', 'alpha': 0.0001, 'hidden_layer_sizes': (50, 50, 50), 'learning_rate': 'constant', 'solver': 'sgd'})\n",
    "XS_train,ys_train=RandomUnderSampler(sampling_strategy='not minority', random_state=0).fit_resample(sbtrain,y_train)\n",
    "m.fit(XS_train.drop(\"Id\",axis=1),ys_train)"
   ]
  },
  {
   "cell_type": "code",
   "execution_count": 213,
   "metadata": {
    "ExecuteTime": {
     "end_time": "2021-09-01T15:36:35.459728Z",
     "start_time": "2021-09-01T15:36:35.444728Z"
    }
   },
   "outputs": [],
   "source": [
    "saveObj(m,\"ML_EF-resolution.Anaphora\")"
   ]
  },
  {
   "cell_type": "code",
   "execution_count": 192,
   "metadata": {
    "ExecuteTime": {
     "end_time": "2021-08-31T09:26:30.424471Z",
     "start_time": "2021-08-31T09:26:30.398471Z"
    }
   },
   "outputs": [
    {
     "data": {
      "text/html": [
       "<div>\n",
       "<style scoped>\n",
       "    .dataframe tbody tr th:only-of-type {\n",
       "        vertical-align: middle;\n",
       "    }\n",
       "\n",
       "    .dataframe tbody tr th {\n",
       "        vertical-align: top;\n",
       "    }\n",
       "\n",
       "    .dataframe thead th {\n",
       "        text-align: right;\n",
       "    }\n",
       "</style>\n",
       "<table border=\"1\" class=\"dataframe\">\n",
       "  <thead>\n",
       "    <tr style=\"text-align: right;\">\n",
       "      <th></th>\n",
       "      <th>Id</th>\n",
       "      <th>Position</th>\n",
       "      <th>Distance</th>\n",
       "      <th>sameGender</th>\n",
       "      <th>sameNumber</th>\n",
       "      <th>isPerson</th>\n",
       "      <th>isDefinite</th>\n",
       "      <th>isPrepositional</th>\n",
       "      <th>isSubject</th>\n",
       "      <th>isDirectObject</th>\n",
       "      <th>...</th>\n",
       "      <th>precedingPOS_CCONJ</th>\n",
       "      <th>precedingPOS_DET</th>\n",
       "      <th>precedingPOS_NOUN</th>\n",
       "      <th>precedingPOS_PART</th>\n",
       "      <th>precedingPOS_PRON</th>\n",
       "      <th>precedingPOS_PROPN</th>\n",
       "      <th>precedingPOS_PUNCT</th>\n",
       "      <th>precedingPOS_SCONJ</th>\n",
       "      <th>precedingPOS_VERB</th>\n",
       "      <th>precedingPOS_X</th>\n",
       "    </tr>\n",
       "  </thead>\n",
       "  <tbody>\n",
       "    <tr>\n",
       "      <th>0</th>\n",
       "      <td>2007-ertms#0</td>\n",
       "      <td>10.0</td>\n",
       "      <td>8</td>\n",
       "      <td>False</td>\n",
       "      <td>False</td>\n",
       "      <td>False</td>\n",
       "      <td>False</td>\n",
       "      <td>False</td>\n",
       "      <td>True</td>\n",
       "      <td>False</td>\n",
       "      <td>...</td>\n",
       "      <td>0</td>\n",
       "      <td>0</td>\n",
       "      <td>0</td>\n",
       "      <td>0</td>\n",
       "      <td>0</td>\n",
       "      <td>0</td>\n",
       "      <td>0</td>\n",
       "      <td>0</td>\n",
       "      <td>1</td>\n",
       "      <td>0</td>\n",
       "    </tr>\n",
       "    <tr>\n",
       "      <th>1</th>\n",
       "      <td>2007-ertms#0</td>\n",
       "      <td>10.0</td>\n",
       "      <td>4</td>\n",
       "      <td>False</td>\n",
       "      <td>True</td>\n",
       "      <td>False</td>\n",
       "      <td>True</td>\n",
       "      <td>False</td>\n",
       "      <td>False</td>\n",
       "      <td>True</td>\n",
       "      <td>...</td>\n",
       "      <td>0</td>\n",
       "      <td>0</td>\n",
       "      <td>0</td>\n",
       "      <td>0</td>\n",
       "      <td>0</td>\n",
       "      <td>0</td>\n",
       "      <td>0</td>\n",
       "      <td>0</td>\n",
       "      <td>1</td>\n",
       "      <td>0</td>\n",
       "    </tr>\n",
       "    <tr>\n",
       "      <th>2</th>\n",
       "      <td>2007-ertms#0</td>\n",
       "      <td>10.0</td>\n",
       "      <td>2</td>\n",
       "      <td>False</td>\n",
       "      <td>True</td>\n",
       "      <td>False</td>\n",
       "      <td>False</td>\n",
       "      <td>False</td>\n",
       "      <td>False</td>\n",
       "      <td>False</td>\n",
       "      <td>...</td>\n",
       "      <td>0</td>\n",
       "      <td>0</td>\n",
       "      <td>0</td>\n",
       "      <td>0</td>\n",
       "      <td>0</td>\n",
       "      <td>0</td>\n",
       "      <td>0</td>\n",
       "      <td>0</td>\n",
       "      <td>1</td>\n",
       "      <td>0</td>\n",
       "    </tr>\n",
       "    <tr>\n",
       "      <th>3</th>\n",
       "      <td>2007-ertms#1b</td>\n",
       "      <td>31.0</td>\n",
       "      <td>30</td>\n",
       "      <td>True</td>\n",
       "      <td>False</td>\n",
       "      <td>False</td>\n",
       "      <td>False</td>\n",
       "      <td>False</td>\n",
       "      <td>True</td>\n",
       "      <td>False</td>\n",
       "      <td>...</td>\n",
       "      <td>0</td>\n",
       "      <td>0</td>\n",
       "      <td>0</td>\n",
       "      <td>0</td>\n",
       "      <td>0</td>\n",
       "      <td>0</td>\n",
       "      <td>0</td>\n",
       "      <td>0</td>\n",
       "      <td>0</td>\n",
       "      <td>0</td>\n",
       "    </tr>\n",
       "    <tr>\n",
       "      <th>4</th>\n",
       "      <td>2007-ertms#1b</td>\n",
       "      <td>31.0</td>\n",
       "      <td>21</td>\n",
       "      <td>True</td>\n",
       "      <td>True</td>\n",
       "      <td>False</td>\n",
       "      <td>False</td>\n",
       "      <td>False</td>\n",
       "      <td>False</td>\n",
       "      <td>True</td>\n",
       "      <td>...</td>\n",
       "      <td>0</td>\n",
       "      <td>0</td>\n",
       "      <td>0</td>\n",
       "      <td>0</td>\n",
       "      <td>0</td>\n",
       "      <td>0</td>\n",
       "      <td>0</td>\n",
       "      <td>0</td>\n",
       "      <td>0</td>\n",
       "      <td>0</td>\n",
       "    </tr>\n",
       "    <tr>\n",
       "      <th>...</th>\n",
       "      <td>...</td>\n",
       "      <td>...</td>\n",
       "      <td>...</td>\n",
       "      <td>...</td>\n",
       "      <td>...</td>\n",
       "      <td>...</td>\n",
       "      <td>...</td>\n",
       "      <td>...</td>\n",
       "      <td>...</td>\n",
       "      <td>...</td>\n",
       "      <td>...</td>\n",
       "      <td>...</td>\n",
       "      <td>...</td>\n",
       "      <td>...</td>\n",
       "      <td>...</td>\n",
       "      <td>...</td>\n",
       "      <td>...</td>\n",
       "      <td>...</td>\n",
       "      <td>...</td>\n",
       "      <td>...</td>\n",
       "      <td>...</td>\n",
       "    </tr>\n",
       "    <tr>\n",
       "      <th>6661</th>\n",
       "      <td>EDRS_MOCReqs#711</td>\n",
       "      <td>29.0</td>\n",
       "      <td>19</td>\n",
       "      <td>True</td>\n",
       "      <td>False</td>\n",
       "      <td>False</td>\n",
       "      <td>True</td>\n",
       "      <td>False</td>\n",
       "      <td>False</td>\n",
       "      <td>False</td>\n",
       "      <td>...</td>\n",
       "      <td>0</td>\n",
       "      <td>0</td>\n",
       "      <td>0</td>\n",
       "      <td>0</td>\n",
       "      <td>0</td>\n",
       "      <td>0</td>\n",
       "      <td>0</td>\n",
       "      <td>0</td>\n",
       "      <td>0</td>\n",
       "      <td>0</td>\n",
       "    </tr>\n",
       "    <tr>\n",
       "      <th>6662</th>\n",
       "      <td>EDRS_MOCReqs#711</td>\n",
       "      <td>29.0</td>\n",
       "      <td>13</td>\n",
       "      <td>True</td>\n",
       "      <td>False</td>\n",
       "      <td>False</td>\n",
       "      <td>True</td>\n",
       "      <td>False</td>\n",
       "      <td>True</td>\n",
       "      <td>False</td>\n",
       "      <td>...</td>\n",
       "      <td>0</td>\n",
       "      <td>0</td>\n",
       "      <td>0</td>\n",
       "      <td>0</td>\n",
       "      <td>0</td>\n",
       "      <td>0</td>\n",
       "      <td>0</td>\n",
       "      <td>0</td>\n",
       "      <td>0</td>\n",
       "      <td>0</td>\n",
       "    </tr>\n",
       "    <tr>\n",
       "      <th>6663</th>\n",
       "      <td>EDRS_MOCReqs#711</td>\n",
       "      <td>29.0</td>\n",
       "      <td>4</td>\n",
       "      <td>True</td>\n",
       "      <td>True</td>\n",
       "      <td>False</td>\n",
       "      <td>False</td>\n",
       "      <td>False</td>\n",
       "      <td>False</td>\n",
       "      <td>False</td>\n",
       "      <td>...</td>\n",
       "      <td>0</td>\n",
       "      <td>0</td>\n",
       "      <td>0</td>\n",
       "      <td>0</td>\n",
       "      <td>0</td>\n",
       "      <td>0</td>\n",
       "      <td>0</td>\n",
       "      <td>0</td>\n",
       "      <td>0</td>\n",
       "      <td>0</td>\n",
       "    </tr>\n",
       "    <tr>\n",
       "      <th>6664</th>\n",
       "      <td>EDRS_MOCReqs#711</td>\n",
       "      <td>29.0</td>\n",
       "      <td>1</td>\n",
       "      <td>True</td>\n",
       "      <td>False</td>\n",
       "      <td>False</td>\n",
       "      <td>True</td>\n",
       "      <td>False</td>\n",
       "      <td>False</td>\n",
       "      <td>False</td>\n",
       "      <td>...</td>\n",
       "      <td>0</td>\n",
       "      <td>0</td>\n",
       "      <td>0</td>\n",
       "      <td>0</td>\n",
       "      <td>0</td>\n",
       "      <td>0</td>\n",
       "      <td>0</td>\n",
       "      <td>0</td>\n",
       "      <td>0</td>\n",
       "      <td>0</td>\n",
       "    </tr>\n",
       "    <tr>\n",
       "      <th>6665</th>\n",
       "      <td>MHP#657</td>\n",
       "      <td>65.0</td>\n",
       "      <td>12</td>\n",
       "      <td>True</td>\n",
       "      <td>True</td>\n",
       "      <td>False</td>\n",
       "      <td>False</td>\n",
       "      <td>False</td>\n",
       "      <td>False</td>\n",
       "      <td>False</td>\n",
       "      <td>...</td>\n",
       "      <td>0</td>\n",
       "      <td>0</td>\n",
       "      <td>0</td>\n",
       "      <td>0</td>\n",
       "      <td>0</td>\n",
       "      <td>0</td>\n",
       "      <td>0</td>\n",
       "      <td>0</td>\n",
       "      <td>1</td>\n",
       "      <td>0</td>\n",
       "    </tr>\n",
       "  </tbody>\n",
       "</table>\n",
       "<p>4782 rows × 75 columns</p>\n",
       "</div>"
      ],
      "text/plain": [
       "                    Id  Position  Distance  sameGender  sameNumber  isPerson  \\\n",
       "0         2007-ertms#0      10.0         8       False       False     False   \n",
       "1         2007-ertms#0      10.0         4       False        True     False   \n",
       "2         2007-ertms#0      10.0         2       False        True     False   \n",
       "3        2007-ertms#1b      31.0        30        True       False     False   \n",
       "4        2007-ertms#1b      31.0        21        True        True     False   \n",
       "...                ...       ...       ...         ...         ...       ...   \n",
       "6661  EDRS_MOCReqs#711      29.0        19        True       False     False   \n",
       "6662  EDRS_MOCReqs#711      29.0        13        True       False     False   \n",
       "6663  EDRS_MOCReqs#711      29.0         4        True        True     False   \n",
       "6664  EDRS_MOCReqs#711      29.0         1        True       False     False   \n",
       "6665           MHP#657      65.0        12        True        True     False   \n",
       "\n",
       "      isDefinite  isPrepositional  isSubject  isDirectObject  ...  \\\n",
       "0          False            False       True           False  ...   \n",
       "1           True            False      False            True  ...   \n",
       "2          False            False      False           False  ...   \n",
       "3          False            False       True           False  ...   \n",
       "4          False            False      False            True  ...   \n",
       "...          ...              ...        ...             ...  ...   \n",
       "6661        True            False      False           False  ...   \n",
       "6662        True            False       True           False  ...   \n",
       "6663       False            False      False           False  ...   \n",
       "6664        True            False      False           False  ...   \n",
       "6665       False            False      False           False  ...   \n",
       "\n",
       "      precedingPOS_CCONJ  precedingPOS_DET  precedingPOS_NOUN  \\\n",
       "0                      0                 0                  0   \n",
       "1                      0                 0                  0   \n",
       "2                      0                 0                  0   \n",
       "3                      0                 0                  0   \n",
       "4                      0                 0                  0   \n",
       "...                  ...               ...                ...   \n",
       "6661                   0                 0                  0   \n",
       "6662                   0                 0                  0   \n",
       "6663                   0                 0                  0   \n",
       "6664                   0                 0                  0   \n",
       "6665                   0                 0                  0   \n",
       "\n",
       "      precedingPOS_PART  precedingPOS_PRON  precedingPOS_PROPN  \\\n",
       "0                     0                  0                   0   \n",
       "1                     0                  0                   0   \n",
       "2                     0                  0                   0   \n",
       "3                     0                  0                   0   \n",
       "4                     0                  0                   0   \n",
       "...                 ...                ...                 ...   \n",
       "6661                  0                  0                   0   \n",
       "6662                  0                  0                   0   \n",
       "6663                  0                  0                   0   \n",
       "6664                  0                  0                   0   \n",
       "6665                  0                  0                   0   \n",
       "\n",
       "      precedingPOS_PUNCT  precedingPOS_SCONJ  precedingPOS_VERB  \\\n",
       "0                      0                   0                  1   \n",
       "1                      0                   0                  1   \n",
       "2                      0                   0                  1   \n",
       "3                      0                   0                  0   \n",
       "4                      0                   0                  0   \n",
       "...                  ...                 ...                ...   \n",
       "6661                   0                   0                  0   \n",
       "6662                   0                   0                  0   \n",
       "6663                   0                   0                  0   \n",
       "6664                   0                   0                  0   \n",
       "6665                   0                   0                  1   \n",
       "\n",
       "      precedingPOS_X  \n",
       "0                  0  \n",
       "1                  0  \n",
       "2                  0  \n",
       "3                  0  \n",
       "4                  0  \n",
       "...              ...  \n",
       "6661               0  \n",
       "6662               0  \n",
       "6663               0  \n",
       "6664               0  \n",
       "6665               0  \n",
       "\n",
       "[4782 rows x 75 columns]"
      ]
     },
     "execution_count": 192,
     "metadata": {},
     "output_type": "execute_result"
    }
   ],
   "source": [
    "X_train"
   ]
  },
  {
   "cell_type": "markdown",
   "metadata": {},
   "source": [
    "### Ensemble"
   ]
  },
  {
   "cell_type": "markdown",
   "metadata": {},
   "source": [
    "#### E1 "
   ]
  },
  {
   "cell_type": "code",
   "execution_count": 185,
   "metadata": {
    "ExecuteTime": {
     "end_time": "2021-08-31T09:13:31.675973Z",
     "start_time": "2021-08-31T09:13:31.658972Z"
    }
   },
   "outputs": [],
   "source": [
    "def ensembleprobas(y1,y2):\n",
    "    y=[]\n",
    "    for p1,p2 in zip(y1,y2):\n",
    "        y.append(list(np.maximum(p1,p2)))\n",
    "    return np.array(y)"
   ]
  },
  {
   "cell_type": "code",
   "execution_count": 201,
   "metadata": {
    "ExecuteTime": {
     "end_time": "2021-09-01T14:56:38.056119Z",
     "start_time": "2021-09-01T14:56:38.028122Z"
    }
   },
   "outputs": [
    {
     "data": {
      "text/html": [
       "<div>\n",
       "<style scoped>\n",
       "    .dataframe tbody tr th:only-of-type {\n",
       "        vertical-align: middle;\n",
       "    }\n",
       "\n",
       "    .dataframe tbody tr th {\n",
       "        vertical-align: top;\n",
       "    }\n",
       "\n",
       "    .dataframe thead th {\n",
       "        text-align: right;\n",
       "    }\n",
       "</style>\n",
       "<table border=\"1\" class=\"dataframe\">\n",
       "  <thead>\n",
       "    <tr style=\"text-align: right;\">\n",
       "      <th></th>\n",
       "      <th>0</th>\n",
       "      <th>1</th>\n",
       "      <th>2</th>\n",
       "      <th>3</th>\n",
       "      <th>4</th>\n",
       "      <th>5</th>\n",
       "      <th>6</th>\n",
       "      <th>7</th>\n",
       "      <th>8</th>\n",
       "      <th>9</th>\n",
       "      <th>...</th>\n",
       "      <th>759</th>\n",
       "      <th>760</th>\n",
       "      <th>761</th>\n",
       "      <th>762</th>\n",
       "      <th>763</th>\n",
       "      <th>764</th>\n",
       "      <th>765</th>\n",
       "      <th>766</th>\n",
       "      <th>767</th>\n",
       "      <th>Id</th>\n",
       "    </tr>\n",
       "  </thead>\n",
       "  <tbody>\n",
       "    <tr>\n",
       "      <th>0</th>\n",
       "      <td>-0.048113</td>\n",
       "      <td>0.043173</td>\n",
       "      <td>-0.063797</td>\n",
       "      <td>0.006073</td>\n",
       "      <td>0.086657</td>\n",
       "      <td>0.084457</td>\n",
       "      <td>0.002498</td>\n",
       "      <td>-0.050632</td>\n",
       "      <td>0.052499</td>\n",
       "      <td>-0.040694</td>\n",
       "      <td>...</td>\n",
       "      <td>0.131097</td>\n",
       "      <td>-0.104955</td>\n",
       "      <td>0.052170</td>\n",
       "      <td>-0.049510</td>\n",
       "      <td>-0.044114</td>\n",
       "      <td>-0.075946</td>\n",
       "      <td>0.009304</td>\n",
       "      <td>-0.339129</td>\n",
       "      <td>-0.062229</td>\n",
       "      <td>HalifaxCombatSystems#36</td>\n",
       "    </tr>\n",
       "    <tr>\n",
       "      <th>1</th>\n",
       "      <td>0.049636</td>\n",
       "      <td>0.044323</td>\n",
       "      <td>-0.073470</td>\n",
       "      <td>0.003373</td>\n",
       "      <td>-0.030021</td>\n",
       "      <td>0.044301</td>\n",
       "      <td>0.258999</td>\n",
       "      <td>0.033152</td>\n",
       "      <td>-0.104710</td>\n",
       "      <td>-0.105360</td>\n",
       "      <td>...</td>\n",
       "      <td>0.095254</td>\n",
       "      <td>0.021843</td>\n",
       "      <td>0.120270</td>\n",
       "      <td>-0.016417</td>\n",
       "      <td>0.042146</td>\n",
       "      <td>0.093104</td>\n",
       "      <td>-0.004239</td>\n",
       "      <td>-0.099170</td>\n",
       "      <td>0.023432</td>\n",
       "      <td>MHP#601</td>\n",
       "    </tr>\n",
       "    <tr>\n",
       "      <th>2</th>\n",
       "      <td>-0.030563</td>\n",
       "      <td>0.080678</td>\n",
       "      <td>-0.020354</td>\n",
       "      <td>-0.031524</td>\n",
       "      <td>0.048193</td>\n",
       "      <td>-0.056459</td>\n",
       "      <td>0.161643</td>\n",
       "      <td>-0.067842</td>\n",
       "      <td>0.062557</td>\n",
       "      <td>-0.012022</td>\n",
       "      <td>...</td>\n",
       "      <td>0.118148</td>\n",
       "      <td>0.189792</td>\n",
       "      <td>0.207768</td>\n",
       "      <td>-0.046313</td>\n",
       "      <td>-0.089502</td>\n",
       "      <td>-0.008265</td>\n",
       "      <td>0.038456</td>\n",
       "      <td>-0.063006</td>\n",
       "      <td>-0.050217</td>\n",
       "      <td>HalifaxCombatSystems#51</td>\n",
       "    </tr>\n",
       "    <tr>\n",
       "      <th>3</th>\n",
       "      <td>-0.171972</td>\n",
       "      <td>0.020777</td>\n",
       "      <td>-0.054643</td>\n",
       "      <td>-0.004264</td>\n",
       "      <td>-0.038089</td>\n",
       "      <td>0.110683</td>\n",
       "      <td>0.074297</td>\n",
       "      <td>0.055485</td>\n",
       "      <td>0.166338</td>\n",
       "      <td>-0.005048</td>\n",
       "      <td>...</td>\n",
       "      <td>0.050840</td>\n",
       "      <td>0.018475</td>\n",
       "      <td>0.000695</td>\n",
       "      <td>-0.098547</td>\n",
       "      <td>-0.212068</td>\n",
       "      <td>0.078286</td>\n",
       "      <td>0.126326</td>\n",
       "      <td>-0.221011</td>\n",
       "      <td>-0.108689</td>\n",
       "      <td>MHP#665</td>\n",
       "    </tr>\n",
       "    <tr>\n",
       "      <th>4</th>\n",
       "      <td>-0.031382</td>\n",
       "      <td>0.110554</td>\n",
       "      <td>-0.014402</td>\n",
       "      <td>-0.081880</td>\n",
       "      <td>0.024107</td>\n",
       "      <td>-0.035577</td>\n",
       "      <td>0.138535</td>\n",
       "      <td>-0.074464</td>\n",
       "      <td>-0.001880</td>\n",
       "      <td>0.100875</td>\n",
       "      <td>...</td>\n",
       "      <td>0.058033</td>\n",
       "      <td>-0.019035</td>\n",
       "      <td>0.108372</td>\n",
       "      <td>0.000335</td>\n",
       "      <td>-0.178427</td>\n",
       "      <td>0.041503</td>\n",
       "      <td>0.054729</td>\n",
       "      <td>-0.203780</td>\n",
       "      <td>-0.008174</td>\n",
       "      <td>HalifaxCombatSystems#29</td>\n",
       "    </tr>\n",
       "    <tr>\n",
       "      <th>...</th>\n",
       "      <td>...</td>\n",
       "      <td>...</td>\n",
       "      <td>...</td>\n",
       "      <td>...</td>\n",
       "      <td>...</td>\n",
       "      <td>...</td>\n",
       "      <td>...</td>\n",
       "      <td>...</td>\n",
       "      <td>...</td>\n",
       "      <td>...</td>\n",
       "      <td>...</td>\n",
       "      <td>...</td>\n",
       "      <td>...</td>\n",
       "      <td>...</td>\n",
       "      <td>...</td>\n",
       "      <td>...</td>\n",
       "      <td>...</td>\n",
       "      <td>...</td>\n",
       "      <td>...</td>\n",
       "      <td>...</td>\n",
       "      <td>...</td>\n",
       "    </tr>\n",
       "    <tr>\n",
       "      <th>910</th>\n",
       "      <td>0.026663</td>\n",
       "      <td>-0.170309</td>\n",
       "      <td>-0.009495</td>\n",
       "      <td>-0.023062</td>\n",
       "      <td>0.158943</td>\n",
       "      <td>-0.114369</td>\n",
       "      <td>0.042996</td>\n",
       "      <td>0.022335</td>\n",
       "      <td>0.130810</td>\n",
       "      <td>0.116944</td>\n",
       "      <td>...</td>\n",
       "      <td>0.148863</td>\n",
       "      <td>-0.040215</td>\n",
       "      <td>-0.012318</td>\n",
       "      <td>-0.102754</td>\n",
       "      <td>-0.154815</td>\n",
       "      <td>0.141562</td>\n",
       "      <td>0.161547</td>\n",
       "      <td>0.027399</td>\n",
       "      <td>-0.107627</td>\n",
       "      <td>0000 - cctns#159c</td>\n",
       "    </tr>\n",
       "    <tr>\n",
       "      <th>911</th>\n",
       "      <td>-0.047608</td>\n",
       "      <td>-0.070171</td>\n",
       "      <td>-0.038540</td>\n",
       "      <td>-0.109307</td>\n",
       "      <td>-0.109680</td>\n",
       "      <td>0.126709</td>\n",
       "      <td>0.031687</td>\n",
       "      <td>0.142502</td>\n",
       "      <td>0.270887</td>\n",
       "      <td>-0.017102</td>\n",
       "      <td>...</td>\n",
       "      <td>0.098071</td>\n",
       "      <td>0.068358</td>\n",
       "      <td>0.100297</td>\n",
       "      <td>0.000776</td>\n",
       "      <td>-0.206153</td>\n",
       "      <td>0.038407</td>\n",
       "      <td>0.054824</td>\n",
       "      <td>-0.251801</td>\n",
       "      <td>-0.057734</td>\n",
       "      <td>MHP#649</td>\n",
       "    </tr>\n",
       "    <tr>\n",
       "      <th>912</th>\n",
       "      <td>-0.039843</td>\n",
       "      <td>-0.069113</td>\n",
       "      <td>-0.044555</td>\n",
       "      <td>-0.024401</td>\n",
       "      <td>0.098632</td>\n",
       "      <td>-0.034412</td>\n",
       "      <td>0.293480</td>\n",
       "      <td>-0.020448</td>\n",
       "      <td>0.104377</td>\n",
       "      <td>-0.006379</td>\n",
       "      <td>...</td>\n",
       "      <td>0.088783</td>\n",
       "      <td>0.147551</td>\n",
       "      <td>0.058875</td>\n",
       "      <td>-0.111616</td>\n",
       "      <td>-0.079004</td>\n",
       "      <td>0.010577</td>\n",
       "      <td>0.076072</td>\n",
       "      <td>-0.011267</td>\n",
       "      <td>-0.178669</td>\n",
       "      <td>2007-eirene_fun_7-2#61</td>\n",
       "    </tr>\n",
       "    <tr>\n",
       "      <th>913</th>\n",
       "      <td>0.009572</td>\n",
       "      <td>0.283225</td>\n",
       "      <td>-0.080852</td>\n",
       "      <td>-0.036663</td>\n",
       "      <td>0.041891</td>\n",
       "      <td>0.037788</td>\n",
       "      <td>0.148302</td>\n",
       "      <td>-0.091053</td>\n",
       "      <td>0.053559</td>\n",
       "      <td>-0.057665</td>\n",
       "      <td>...</td>\n",
       "      <td>0.067896</td>\n",
       "      <td>0.051746</td>\n",
       "      <td>0.170741</td>\n",
       "      <td>0.002853</td>\n",
       "      <td>-0.135354</td>\n",
       "      <td>0.078806</td>\n",
       "      <td>0.090891</td>\n",
       "      <td>-0.077461</td>\n",
       "      <td>-0.026161</td>\n",
       "      <td>HalifaxCombatSystems#2</td>\n",
       "    </tr>\n",
       "    <tr>\n",
       "      <th>914</th>\n",
       "      <td>-0.016421</td>\n",
       "      <td>-0.148592</td>\n",
       "      <td>-0.008722</td>\n",
       "      <td>-0.083394</td>\n",
       "      <td>0.102109</td>\n",
       "      <td>-0.137349</td>\n",
       "      <td>0.121397</td>\n",
       "      <td>-0.040908</td>\n",
       "      <td>0.120984</td>\n",
       "      <td>0.172847</td>\n",
       "      <td>...</td>\n",
       "      <td>0.120601</td>\n",
       "      <td>-0.021089</td>\n",
       "      <td>0.019689</td>\n",
       "      <td>-0.106825</td>\n",
       "      <td>-0.131126</td>\n",
       "      <td>0.073504</td>\n",
       "      <td>0.127832</td>\n",
       "      <td>0.067700</td>\n",
       "      <td>-0.120313</td>\n",
       "      <td>0000 - cctns#159b</td>\n",
       "    </tr>\n",
       "  </tbody>\n",
       "</table>\n",
       "<p>915 rows × 769 columns</p>\n",
       "</div>"
      ],
      "text/plain": [
       "            0         1         2         3         4         5         6  \\\n",
       "0   -0.048113  0.043173 -0.063797  0.006073  0.086657  0.084457  0.002498   \n",
       "1    0.049636  0.044323 -0.073470  0.003373 -0.030021  0.044301  0.258999   \n",
       "2   -0.030563  0.080678 -0.020354 -0.031524  0.048193 -0.056459  0.161643   \n",
       "3   -0.171972  0.020777 -0.054643 -0.004264 -0.038089  0.110683  0.074297   \n",
       "4   -0.031382  0.110554 -0.014402 -0.081880  0.024107 -0.035577  0.138535   \n",
       "..        ...       ...       ...       ...       ...       ...       ...   \n",
       "910  0.026663 -0.170309 -0.009495 -0.023062  0.158943 -0.114369  0.042996   \n",
       "911 -0.047608 -0.070171 -0.038540 -0.109307 -0.109680  0.126709  0.031687   \n",
       "912 -0.039843 -0.069113 -0.044555 -0.024401  0.098632 -0.034412  0.293480   \n",
       "913  0.009572  0.283225 -0.080852 -0.036663  0.041891  0.037788  0.148302   \n",
       "914 -0.016421 -0.148592 -0.008722 -0.083394  0.102109 -0.137349  0.121397   \n",
       "\n",
       "            7         8         9  ...       759       760       761  \\\n",
       "0   -0.050632  0.052499 -0.040694  ...  0.131097 -0.104955  0.052170   \n",
       "1    0.033152 -0.104710 -0.105360  ...  0.095254  0.021843  0.120270   \n",
       "2   -0.067842  0.062557 -0.012022  ...  0.118148  0.189792  0.207768   \n",
       "3    0.055485  0.166338 -0.005048  ...  0.050840  0.018475  0.000695   \n",
       "4   -0.074464 -0.001880  0.100875  ...  0.058033 -0.019035  0.108372   \n",
       "..        ...       ...       ...  ...       ...       ...       ...   \n",
       "910  0.022335  0.130810  0.116944  ...  0.148863 -0.040215 -0.012318   \n",
       "911  0.142502  0.270887 -0.017102  ...  0.098071  0.068358  0.100297   \n",
       "912 -0.020448  0.104377 -0.006379  ...  0.088783  0.147551  0.058875   \n",
       "913 -0.091053  0.053559 -0.057665  ...  0.067896  0.051746  0.170741   \n",
       "914 -0.040908  0.120984  0.172847  ...  0.120601 -0.021089  0.019689   \n",
       "\n",
       "          762       763       764       765       766       767  \\\n",
       "0   -0.049510 -0.044114 -0.075946  0.009304 -0.339129 -0.062229   \n",
       "1   -0.016417  0.042146  0.093104 -0.004239 -0.099170  0.023432   \n",
       "2   -0.046313 -0.089502 -0.008265  0.038456 -0.063006 -0.050217   \n",
       "3   -0.098547 -0.212068  0.078286  0.126326 -0.221011 -0.108689   \n",
       "4    0.000335 -0.178427  0.041503  0.054729 -0.203780 -0.008174   \n",
       "..        ...       ...       ...       ...       ...       ...   \n",
       "910 -0.102754 -0.154815  0.141562  0.161547  0.027399 -0.107627   \n",
       "911  0.000776 -0.206153  0.038407  0.054824 -0.251801 -0.057734   \n",
       "912 -0.111616 -0.079004  0.010577  0.076072 -0.011267 -0.178669   \n",
       "913  0.002853 -0.135354  0.078806  0.090891 -0.077461 -0.026161   \n",
       "914 -0.106825 -0.131126  0.073504  0.127832  0.067700 -0.120313   \n",
       "\n",
       "                          Id  \n",
       "0    HalifaxCombatSystems#36  \n",
       "1                    MHP#601  \n",
       "2    HalifaxCombatSystems#51  \n",
       "3                    MHP#665  \n",
       "4    HalifaxCombatSystems#29  \n",
       "..                       ...  \n",
       "910        0000 - cctns#159c  \n",
       "911                  MHP#649  \n",
       "912   2007-eirene_fun_7-2#61  \n",
       "913   HalifaxCombatSystems#2  \n",
       "914        0000 - cctns#159b  \n",
       "\n",
       "[915 rows x 769 columns]"
      ]
     },
     "execution_count": 201,
     "metadata": {},
     "output_type": "execute_result"
    }
   ],
   "source": [
    "XS_train"
   ]
  },
  {
   "cell_type": "code",
   "execution_count": 453,
   "metadata": {
    "ExecuteTime": {
     "end_time": "2021-08-23T15:38:43.610050Z",
     "start_time": "2021-08-23T15:38:37.391410Z"
    }
   },
   "outputs": [],
   "source": [
    "models=reset()\n",
    "XS_train,ys_train=RandomUnderSampler(sampling_strategy='not minority', random_state=0).fit_resample(X_train,y_train)\n",
    "svm=models['svm'].set_params(**{'C': 50, 'gamma': 0.001, 'kernel': 'poly'})\n",
    "svm.fit(XS_train.drop(\"Id\",axis=1),ys_train)\n",
    "y_pred1=svm.predict_proba(X_test.drop(\"Id\",axis=1))\n",
    "\n",
    "XS_train,ys_train=RandomUnderSampler(sampling_strategy='not minority', random_state=0).fit_resample(sbtrain,y_train)\n",
    "m=models['mlp'].set_params(**{'activation': 'tanh', 'alpha': 0.0001, 'hidden_layer_sizes': (50, 50, 50), 'learning_rate': 'constant', 'solver': 'sgd'})\n",
    "m.fit(XS_train.drop(\"Id\",axis=1),ys_train)\n",
    "y_pred2=m.predict_proba(sbtest.drop(\"Id\",axis=1))\n"
   ]
  },
  {
   "cell_type": "code",
   "execution_count": 464,
   "metadata": {
    "ExecuteTime": {
     "end_time": "2021-08-23T15:43:20.852824Z",
     "start_time": "2021-08-23T15:43:20.652721Z"
    }
   },
   "outputs": [
    {
     "name": "stdout",
     "output_type": "stream",
     "text": [
      "0.8229166666666666\n"
     ]
    }
   ],
   "source": [
    "y_pred=ensembleprobas(y_pred1,y_pred2)\n",
    "y_pred=mindex(y_pred,y_test)\n",
    "test_scores=resolve(y_pred,X_test,y_test,theta=0)\n",
    "print(test_scores)"
   ]
  },
  {
   "cell_type": "markdown",
   "metadata": {},
   "source": [
    "#### E2"
   ]
  },
  {
   "cell_type": "code",
   "execution_count": 827,
   "metadata": {
    "ExecuteTime": {
     "end_time": "2021-08-27T13:27:43.797395Z",
     "start_time": "2021-08-27T13:27:37.338225Z"
    }
   },
   "outputs": [],
   "source": [
    "models=reset()\n",
    "XS_train,ys_train=RandomUnderSampler(sampling_strategy='not minority', random_state=0).fit_resample(X_train,y_train)\n",
    "svm=models['svm'].set_params(**{'C': 50, 'gamma': 0.001, 'kernel': 'poly'})\n",
    "svm.fit(XS_train.drop(\"Id\",axis=1),ys_train)\n",
    "y_pred1=svm.predict_proba(X_2.drop(\"Id\",axis=1))\n",
    "\n",
    "XS_train,ys_train=RandomUnderSampler(sampling_strategy='not minority', random_state=0).fit_resample(sbtrain,y_train)\n",
    "m=models['mlp'].set_params(**{'activation': 'tanh', 'alpha': 0.0001, 'hidden_layer_sizes': (50, 50, 50), 'learning_rate': 'constant', 'solver': 'sgd'})\n",
    "m.fit(XS_train.drop(\"Id\",axis=1),ys_train)\n",
    "y_pred2=m.predict_proba(e2sb.drop(\"Id\",axis=1))"
   ]
  },
  {
   "cell_type": "code",
   "execution_count": 828,
   "metadata": {
    "ExecuteTime": {
     "end_time": "2021-08-27T13:27:43.908396Z",
     "start_time": "2021-08-27T13:27:43.798395Z"
    }
   },
   "outputs": [
    {
     "name": "stdout",
     "output_type": "stream",
     "text": [
      "0.574468085106383\n"
     ]
    }
   ],
   "source": [
    "y_pred=ensembleprobas(y_pred1,y_pred2)\n",
    "y_pred=mindex(y_pred,y_2)\n",
    "test_scores=resolve(y_pred,X_2,y_2,theta=0)\n",
    "print(test_scores)"
   ]
  },
  {
   "cell_type": "markdown",
   "metadata": {},
   "source": [
    "## Baseline"
   ]
  },
  {
   "cell_type": "code",
   "execution_count": 538,
   "metadata": {
    "ExecuteTime": {
     "end_time": "2021-08-24T14:46:34.742742Z",
     "start_time": "2021-08-24T14:46:34.731741Z"
    }
   },
   "outputs": [],
   "source": [
    "def baselineResolve(xx,context=0):\n",
    "    ci=[0,0]\n",
    "    for Id in xx.Id.unique():\n",
    "        CAs=xx[xx.Id==Id][\"Candidate Antecedent\"].unique()\n",
    "        if context==0:\n",
    "            if len(CAs)>1:\n",
    "                ci[1]+=1\n",
    "            elif xx[xx.Id==Id][xx[\"Candidate Antecedent\"]==CAs[0]].Answer.unique()[0]==1:\n",
    "                ci[0]+=1\n",
    "            else:\n",
    "                ci[1]+=1\n",
    "        elif context==1:\n",
    "            c=xx[xx.Id==Id].Context.unique()[0]\n",
    "            sents=sent_tokenize(c.text)\n",
    "            CIS=[]\n",
    "            for CA in CAs:\n",
    "                if CA.text in sents[-1]:\n",
    "                    CIS.append(CA)\n",
    "            if len(CIS)!=1:\n",
    "                ci[1]+=1\n",
    "            elif xx[xx.Id==Id][xx[\"Candidate Antecedent\"]==CIS[0]].Answer.unique()[0]==1:\n",
    "                ci[0]+=1\n",
    "            else:\n",
    "                ci[1]+=1\n",
    "    return ci[0]/(ci[0]+ci[1])"
   ]
  },
  {
   "cell_type": "markdown",
   "metadata": {},
   "source": [
    "### Context"
   ]
  },
  {
   "cell_type": "code",
   "execution_count": 540,
   "metadata": {
    "ExecuteTime": {
     "end_time": "2021-08-24T14:47:51.748293Z",
     "start_time": "2021-08-24T14:47:51.655289Z"
    }
   },
   "outputs": [
    {
     "data": {
      "text/plain": [
       "0.00980392156862745"
      ]
     },
     "execution_count": 540,
     "metadata": {},
     "output_type": "execute_result"
    }
   ],
   "source": [
    "baselineResolve(gt3[gt3.Id.isin(X_test.Id.unique())])"
   ]
  },
  {
   "cell_type": "code",
   "execution_count": 531,
   "metadata": {
    "ExecuteTime": {
     "end_time": "2021-08-24T14:44:38.959952Z",
     "start_time": "2021-08-24T14:44:38.902950Z"
    }
   },
   "outputs": [
    {
     "data": {
      "text/plain": [
       "0.05172413793103448"
      ]
     },
     "execution_count": 531,
     "metadata": {},
     "output_type": "execute_result"
    }
   ],
   "source": [
    "baselineResolve(E2)"
   ]
  },
  {
   "cell_type": "markdown",
   "metadata": {},
   "source": [
    "### One-Sentence"
   ]
  },
  {
   "cell_type": "code",
   "execution_count": 541,
   "metadata": {
    "ExecuteTime": {
     "end_time": "2021-08-24T14:48:05.044520Z",
     "start_time": "2021-08-24T14:48:04.840514Z"
    }
   },
   "outputs": [
    {
     "data": {
      "text/plain": [
       "0.058823529411764705"
      ]
     },
     "execution_count": 541,
     "metadata": {},
     "output_type": "execute_result"
    }
   ],
   "source": [
    "baselineResolve(gt3[gt3.Id.isin(X_test.Id.unique())],context=1)"
   ]
  },
  {
   "cell_type": "code",
   "execution_count": 542,
   "metadata": {
    "ExecuteTime": {
     "end_time": "2021-08-24T16:20:43.002966Z",
     "start_time": "2021-08-24T16:20:42.960966Z"
    }
   },
   "outputs": [
    {
     "ename": "TypeError",
     "evalue": "can only concatenate str (not \"int\") to str",
     "output_type": "error",
     "traceback": [
      "\u001b[1;31m---------------------------------------------------------------------------\u001b[0m",
      "\u001b[1;31mTypeError\u001b[0m                                 Traceback (most recent call last)",
      "\u001b[1;32mC:\\ProgramData\\Anaconda3\\lib\\site-packages\\pandas\\core\\ops\\array_ops.py\u001b[0m in \u001b[0;36m_na_arithmetic_op\u001b[1;34m(left, right, op, is_cmp)\u001b[0m\n\u001b[0;32m    141\u001b[0m     \u001b[1;32mtry\u001b[0m\u001b[1;33m:\u001b[0m\u001b[1;33m\u001b[0m\u001b[1;33m\u001b[0m\u001b[0m\n\u001b[1;32m--> 142\u001b[1;33m         \u001b[0mresult\u001b[0m \u001b[1;33m=\u001b[0m \u001b[0mexpressions\u001b[0m\u001b[1;33m.\u001b[0m\u001b[0mevaluate\u001b[0m\u001b[1;33m(\u001b[0m\u001b[0mop\u001b[0m\u001b[1;33m,\u001b[0m \u001b[0mleft\u001b[0m\u001b[1;33m,\u001b[0m \u001b[0mright\u001b[0m\u001b[1;33m)\u001b[0m\u001b[1;33m\u001b[0m\u001b[1;33m\u001b[0m\u001b[0m\n\u001b[0m\u001b[0;32m    143\u001b[0m     \u001b[1;32mexcept\u001b[0m \u001b[0mTypeError\u001b[0m\u001b[1;33m:\u001b[0m\u001b[1;33m\u001b[0m\u001b[1;33m\u001b[0m\u001b[0m\n",
      "\u001b[1;32mC:\\ProgramData\\Anaconda3\\lib\\site-packages\\pandas\\core\\computation\\expressions.py\u001b[0m in \u001b[0;36mevaluate\u001b[1;34m(op, a, b, use_numexpr)\u001b[0m\n\u001b[0;32m    234\u001b[0m             \u001b[1;31m# error: \"None\" not callable\u001b[0m\u001b[1;33m\u001b[0m\u001b[1;33m\u001b[0m\u001b[1;33m\u001b[0m\u001b[0m\n\u001b[1;32m--> 235\u001b[1;33m             \u001b[1;32mreturn\u001b[0m \u001b[0m_evaluate\u001b[0m\u001b[1;33m(\u001b[0m\u001b[0mop\u001b[0m\u001b[1;33m,\u001b[0m \u001b[0mop_str\u001b[0m\u001b[1;33m,\u001b[0m \u001b[0ma\u001b[0m\u001b[1;33m,\u001b[0m \u001b[0mb\u001b[0m\u001b[1;33m)\u001b[0m  \u001b[1;31m# type: ignore[misc]\u001b[0m\u001b[1;33m\u001b[0m\u001b[1;33m\u001b[0m\u001b[0m\n\u001b[0m\u001b[0;32m    236\u001b[0m     \u001b[1;32mreturn\u001b[0m \u001b[0m_evaluate_standard\u001b[0m\u001b[1;33m(\u001b[0m\u001b[0mop\u001b[0m\u001b[1;33m,\u001b[0m \u001b[0mop_str\u001b[0m\u001b[1;33m,\u001b[0m \u001b[0ma\u001b[0m\u001b[1;33m,\u001b[0m \u001b[0mb\u001b[0m\u001b[1;33m)\u001b[0m\u001b[1;33m\u001b[0m\u001b[1;33m\u001b[0m\u001b[0m\n",
      "\u001b[1;32mC:\\ProgramData\\Anaconda3\\lib\\site-packages\\pandas\\core\\computation\\expressions.py\u001b[0m in \u001b[0;36m_evaluate_standard\u001b[1;34m(op, op_str, a, b)\u001b[0m\n\u001b[0;32m     68\u001b[0m     \u001b[1;32mwith\u001b[0m \u001b[0mnp\u001b[0m\u001b[1;33m.\u001b[0m\u001b[0merrstate\u001b[0m\u001b[1;33m(\u001b[0m\u001b[0mall\u001b[0m\u001b[1;33m=\u001b[0m\u001b[1;34m\"ignore\"\u001b[0m\u001b[1;33m)\u001b[0m\u001b[1;33m:\u001b[0m\u001b[1;33m\u001b[0m\u001b[1;33m\u001b[0m\u001b[0m\n\u001b[1;32m---> 69\u001b[1;33m         \u001b[1;32mreturn\u001b[0m \u001b[0mop\u001b[0m\u001b[1;33m(\u001b[0m\u001b[0ma\u001b[0m\u001b[1;33m,\u001b[0m \u001b[0mb\u001b[0m\u001b[1;33m)\u001b[0m\u001b[1;33m\u001b[0m\u001b[1;33m\u001b[0m\u001b[0m\n\u001b[0m\u001b[0;32m     70\u001b[0m \u001b[1;33m\u001b[0m\u001b[0m\n",
      "\u001b[1;31mTypeError\u001b[0m: can only concatenate str (not \"int\") to str",
      "\nDuring handling of the above exception, another exception occurred:\n",
      "\u001b[1;31mTypeError\u001b[0m                                 Traceback (most recent call last)",
      "\u001b[1;32m<ipython-input-542-bf00d44ccf84>\u001b[0m in \u001b[0;36m<module>\u001b[1;34m\u001b[0m\n\u001b[1;32m----> 1\u001b[1;33m \u001b[0mbaselineResolve\u001b[0m\u001b[1;33m(\u001b[0m\u001b[0mE2\u001b[0m\u001b[1;33m+\u001b[0m\u001b[1;36m0\u001b[0m\u001b[1;33m)\u001b[0m\u001b[1;33m\u001b[0m\u001b[1;33m\u001b[0m\u001b[0m\n\u001b[0m",
      "\u001b[1;32mC:\\ProgramData\\Anaconda3\\lib\\site-packages\\pandas\\core\\ops\\common.py\u001b[0m in \u001b[0;36mnew_method\u001b[1;34m(self, other)\u001b[0m\n\u001b[0;32m     63\u001b[0m         \u001b[0mother\u001b[0m \u001b[1;33m=\u001b[0m \u001b[0mitem_from_zerodim\u001b[0m\u001b[1;33m(\u001b[0m\u001b[0mother\u001b[0m\u001b[1;33m)\u001b[0m\u001b[1;33m\u001b[0m\u001b[1;33m\u001b[0m\u001b[0m\n\u001b[0;32m     64\u001b[0m \u001b[1;33m\u001b[0m\u001b[0m\n\u001b[1;32m---> 65\u001b[1;33m         \u001b[1;32mreturn\u001b[0m \u001b[0mmethod\u001b[0m\u001b[1;33m(\u001b[0m\u001b[0mself\u001b[0m\u001b[1;33m,\u001b[0m \u001b[0mother\u001b[0m\u001b[1;33m)\u001b[0m\u001b[1;33m\u001b[0m\u001b[1;33m\u001b[0m\u001b[0m\n\u001b[0m\u001b[0;32m     66\u001b[0m \u001b[1;33m\u001b[0m\u001b[0m\n\u001b[0;32m     67\u001b[0m     \u001b[1;32mreturn\u001b[0m \u001b[0mnew_method\u001b[0m\u001b[1;33m\u001b[0m\u001b[1;33m\u001b[0m\u001b[0m\n",
      "\u001b[1;32mC:\\ProgramData\\Anaconda3\\lib\\site-packages\\pandas\\core\\arraylike.py\u001b[0m in \u001b[0;36m__add__\u001b[1;34m(self, other)\u001b[0m\n\u001b[0;32m     87\u001b[0m     \u001b[1;33m@\u001b[0m\u001b[0munpack_zerodim_and_defer\u001b[0m\u001b[1;33m(\u001b[0m\u001b[1;34m\"__add__\"\u001b[0m\u001b[1;33m)\u001b[0m\u001b[1;33m\u001b[0m\u001b[1;33m\u001b[0m\u001b[0m\n\u001b[0;32m     88\u001b[0m     \u001b[1;32mdef\u001b[0m \u001b[0m__add__\u001b[0m\u001b[1;33m(\u001b[0m\u001b[0mself\u001b[0m\u001b[1;33m,\u001b[0m \u001b[0mother\u001b[0m\u001b[1;33m)\u001b[0m\u001b[1;33m:\u001b[0m\u001b[1;33m\u001b[0m\u001b[1;33m\u001b[0m\u001b[0m\n\u001b[1;32m---> 89\u001b[1;33m         \u001b[1;32mreturn\u001b[0m \u001b[0mself\u001b[0m\u001b[1;33m.\u001b[0m\u001b[0m_arith_method\u001b[0m\u001b[1;33m(\u001b[0m\u001b[0mother\u001b[0m\u001b[1;33m,\u001b[0m \u001b[0moperator\u001b[0m\u001b[1;33m.\u001b[0m\u001b[0madd\u001b[0m\u001b[1;33m)\u001b[0m\u001b[1;33m\u001b[0m\u001b[1;33m\u001b[0m\u001b[0m\n\u001b[0m\u001b[0;32m     90\u001b[0m \u001b[1;33m\u001b[0m\u001b[0m\n\u001b[0;32m     91\u001b[0m     \u001b[1;33m@\u001b[0m\u001b[0munpack_zerodim_and_defer\u001b[0m\u001b[1;33m(\u001b[0m\u001b[1;34m\"__radd__\"\u001b[0m\u001b[1;33m)\u001b[0m\u001b[1;33m\u001b[0m\u001b[1;33m\u001b[0m\u001b[0m\n",
      "\u001b[1;32mC:\\ProgramData\\Anaconda3\\lib\\site-packages\\pandas\\core\\frame.py\u001b[0m in \u001b[0;36m_arith_method\u001b[1;34m(self, other, op)\u001b[0m\n\u001b[0;32m   5980\u001b[0m         \u001b[0mself\u001b[0m\u001b[1;33m,\u001b[0m \u001b[0mother\u001b[0m \u001b[1;33m=\u001b[0m \u001b[0mops\u001b[0m\u001b[1;33m.\u001b[0m\u001b[0malign_method_FRAME\u001b[0m\u001b[1;33m(\u001b[0m\u001b[0mself\u001b[0m\u001b[1;33m,\u001b[0m \u001b[0mother\u001b[0m\u001b[1;33m,\u001b[0m \u001b[0maxis\u001b[0m\u001b[1;33m,\u001b[0m \u001b[0mflex\u001b[0m\u001b[1;33m=\u001b[0m\u001b[1;32mTrue\u001b[0m\u001b[1;33m,\u001b[0m \u001b[0mlevel\u001b[0m\u001b[1;33m=\u001b[0m\u001b[1;32mNone\u001b[0m\u001b[1;33m)\u001b[0m\u001b[1;33m\u001b[0m\u001b[1;33m\u001b[0m\u001b[0m\n\u001b[0;32m   5981\u001b[0m \u001b[1;33m\u001b[0m\u001b[0m\n\u001b[1;32m-> 5982\u001b[1;33m         \u001b[0mnew_data\u001b[0m \u001b[1;33m=\u001b[0m \u001b[0mself\u001b[0m\u001b[1;33m.\u001b[0m\u001b[0m_dispatch_frame_op\u001b[0m\u001b[1;33m(\u001b[0m\u001b[0mother\u001b[0m\u001b[1;33m,\u001b[0m \u001b[0mop\u001b[0m\u001b[1;33m,\u001b[0m \u001b[0maxis\u001b[0m\u001b[1;33m=\u001b[0m\u001b[0maxis\u001b[0m\u001b[1;33m)\u001b[0m\u001b[1;33m\u001b[0m\u001b[1;33m\u001b[0m\u001b[0m\n\u001b[0m\u001b[0;32m   5983\u001b[0m         \u001b[1;32mreturn\u001b[0m \u001b[0mself\u001b[0m\u001b[1;33m.\u001b[0m\u001b[0m_construct_result\u001b[0m\u001b[1;33m(\u001b[0m\u001b[0mnew_data\u001b[0m\u001b[1;33m)\u001b[0m\u001b[1;33m\u001b[0m\u001b[1;33m\u001b[0m\u001b[0m\n\u001b[0;32m   5984\u001b[0m \u001b[1;33m\u001b[0m\u001b[0m\n",
      "\u001b[1;32mC:\\ProgramData\\Anaconda3\\lib\\site-packages\\pandas\\core\\frame.py\u001b[0m in \u001b[0;36m_dispatch_frame_op\u001b[1;34m(self, right, func, axis)\u001b[0m\n\u001b[0;32m   6006\u001b[0m         \u001b[1;32mif\u001b[0m \u001b[1;32mnot\u001b[0m \u001b[0mis_list_like\u001b[0m\u001b[1;33m(\u001b[0m\u001b[0mright\u001b[0m\u001b[1;33m)\u001b[0m\u001b[1;33m:\u001b[0m\u001b[1;33m\u001b[0m\u001b[1;33m\u001b[0m\u001b[0m\n\u001b[0;32m   6007\u001b[0m             \u001b[1;31m# i.e. scalar, faster than checking np.ndim(right) == 0\u001b[0m\u001b[1;33m\u001b[0m\u001b[1;33m\u001b[0m\u001b[1;33m\u001b[0m\u001b[0m\n\u001b[1;32m-> 6008\u001b[1;33m             \u001b[0mbm\u001b[0m \u001b[1;33m=\u001b[0m \u001b[0mself\u001b[0m\u001b[1;33m.\u001b[0m\u001b[0m_mgr\u001b[0m\u001b[1;33m.\u001b[0m\u001b[0mapply\u001b[0m\u001b[1;33m(\u001b[0m\u001b[0marray_op\u001b[0m\u001b[1;33m,\u001b[0m \u001b[0mright\u001b[0m\u001b[1;33m=\u001b[0m\u001b[0mright\u001b[0m\u001b[1;33m)\u001b[0m\u001b[1;33m\u001b[0m\u001b[1;33m\u001b[0m\u001b[0m\n\u001b[0m\u001b[0;32m   6009\u001b[0m             \u001b[1;32mreturn\u001b[0m \u001b[0mtype\u001b[0m\u001b[1;33m(\u001b[0m\u001b[0mself\u001b[0m\u001b[1;33m)\u001b[0m\u001b[1;33m(\u001b[0m\u001b[0mbm\u001b[0m\u001b[1;33m)\u001b[0m\u001b[1;33m\u001b[0m\u001b[1;33m\u001b[0m\u001b[0m\n\u001b[0;32m   6010\u001b[0m \u001b[1;33m\u001b[0m\u001b[0m\n",
      "\u001b[1;32mC:\\ProgramData\\Anaconda3\\lib\\site-packages\\pandas\\core\\internals\\managers.py\u001b[0m in \u001b[0;36mapply\u001b[1;34m(self, f, align_keys, ignore_failures, **kwargs)\u001b[0m\n\u001b[0;32m    423\u001b[0m             \u001b[1;32mtry\u001b[0m\u001b[1;33m:\u001b[0m\u001b[1;33m\u001b[0m\u001b[1;33m\u001b[0m\u001b[0m\n\u001b[0;32m    424\u001b[0m                 \u001b[1;32mif\u001b[0m \u001b[0mcallable\u001b[0m\u001b[1;33m(\u001b[0m\u001b[0mf\u001b[0m\u001b[1;33m)\u001b[0m\u001b[1;33m:\u001b[0m\u001b[1;33m\u001b[0m\u001b[1;33m\u001b[0m\u001b[0m\n\u001b[1;32m--> 425\u001b[1;33m                     \u001b[0mapplied\u001b[0m \u001b[1;33m=\u001b[0m \u001b[0mb\u001b[0m\u001b[1;33m.\u001b[0m\u001b[0mapply\u001b[0m\u001b[1;33m(\u001b[0m\u001b[0mf\u001b[0m\u001b[1;33m,\u001b[0m \u001b[1;33m**\u001b[0m\u001b[0mkwargs\u001b[0m\u001b[1;33m)\u001b[0m\u001b[1;33m\u001b[0m\u001b[1;33m\u001b[0m\u001b[0m\n\u001b[0m\u001b[0;32m    426\u001b[0m                 \u001b[1;32melse\u001b[0m\u001b[1;33m:\u001b[0m\u001b[1;33m\u001b[0m\u001b[1;33m\u001b[0m\u001b[0m\n\u001b[0;32m    427\u001b[0m                     \u001b[0mapplied\u001b[0m \u001b[1;33m=\u001b[0m \u001b[0mgetattr\u001b[0m\u001b[1;33m(\u001b[0m\u001b[0mb\u001b[0m\u001b[1;33m,\u001b[0m \u001b[0mf\u001b[0m\u001b[1;33m)\u001b[0m\u001b[1;33m(\u001b[0m\u001b[1;33m**\u001b[0m\u001b[0mkwargs\u001b[0m\u001b[1;33m)\u001b[0m\u001b[1;33m\u001b[0m\u001b[1;33m\u001b[0m\u001b[0m\n",
      "\u001b[1;32mC:\\ProgramData\\Anaconda3\\lib\\site-packages\\pandas\\core\\internals\\blocks.py\u001b[0m in \u001b[0;36mapply\u001b[1;34m(self, func, **kwargs)\u001b[0m\n\u001b[0;32m    376\u001b[0m         \"\"\"\n\u001b[0;32m    377\u001b[0m         \u001b[1;32mwith\u001b[0m \u001b[0mnp\u001b[0m\u001b[1;33m.\u001b[0m\u001b[0merrstate\u001b[0m\u001b[1;33m(\u001b[0m\u001b[0mall\u001b[0m\u001b[1;33m=\u001b[0m\u001b[1;34m\"ignore\"\u001b[0m\u001b[1;33m)\u001b[0m\u001b[1;33m:\u001b[0m\u001b[1;33m\u001b[0m\u001b[1;33m\u001b[0m\u001b[0m\n\u001b[1;32m--> 378\u001b[1;33m             \u001b[0mresult\u001b[0m \u001b[1;33m=\u001b[0m \u001b[0mfunc\u001b[0m\u001b[1;33m(\u001b[0m\u001b[0mself\u001b[0m\u001b[1;33m.\u001b[0m\u001b[0mvalues\u001b[0m\u001b[1;33m,\u001b[0m \u001b[1;33m**\u001b[0m\u001b[0mkwargs\u001b[0m\u001b[1;33m)\u001b[0m\u001b[1;33m\u001b[0m\u001b[1;33m\u001b[0m\u001b[0m\n\u001b[0m\u001b[0;32m    379\u001b[0m \u001b[1;33m\u001b[0m\u001b[0m\n\u001b[0;32m    380\u001b[0m         \u001b[1;32mreturn\u001b[0m \u001b[0mself\u001b[0m\u001b[1;33m.\u001b[0m\u001b[0m_split_op_result\u001b[0m\u001b[1;33m(\u001b[0m\u001b[0mresult\u001b[0m\u001b[1;33m)\u001b[0m\u001b[1;33m\u001b[0m\u001b[1;33m\u001b[0m\u001b[0m\n",
      "\u001b[1;32mC:\\ProgramData\\Anaconda3\\lib\\site-packages\\pandas\\core\\ops\\array_ops.py\u001b[0m in \u001b[0;36marithmetic_op\u001b[1;34m(left, right, op)\u001b[0m\n\u001b[0;32m    187\u001b[0m     \u001b[1;32melse\u001b[0m\u001b[1;33m:\u001b[0m\u001b[1;33m\u001b[0m\u001b[1;33m\u001b[0m\u001b[0m\n\u001b[0;32m    188\u001b[0m         \u001b[1;32mwith\u001b[0m \u001b[0mnp\u001b[0m\u001b[1;33m.\u001b[0m\u001b[0merrstate\u001b[0m\u001b[1;33m(\u001b[0m\u001b[0mall\u001b[0m\u001b[1;33m=\u001b[0m\u001b[1;34m\"ignore\"\u001b[0m\u001b[1;33m)\u001b[0m\u001b[1;33m:\u001b[0m\u001b[1;33m\u001b[0m\u001b[1;33m\u001b[0m\u001b[0m\n\u001b[1;32m--> 189\u001b[1;33m             \u001b[0mres_values\u001b[0m \u001b[1;33m=\u001b[0m \u001b[0m_na_arithmetic_op\u001b[0m\u001b[1;33m(\u001b[0m\u001b[0mlvalues\u001b[0m\u001b[1;33m,\u001b[0m \u001b[0mrvalues\u001b[0m\u001b[1;33m,\u001b[0m \u001b[0mop\u001b[0m\u001b[1;33m)\u001b[0m\u001b[1;33m\u001b[0m\u001b[1;33m\u001b[0m\u001b[0m\n\u001b[0m\u001b[0;32m    190\u001b[0m \u001b[1;33m\u001b[0m\u001b[0m\n\u001b[0;32m    191\u001b[0m     \u001b[1;32mreturn\u001b[0m \u001b[0mres_values\u001b[0m\u001b[1;33m\u001b[0m\u001b[1;33m\u001b[0m\u001b[0m\n",
      "\u001b[1;32mC:\\ProgramData\\Anaconda3\\lib\\site-packages\\pandas\\core\\ops\\array_ops.py\u001b[0m in \u001b[0;36m_na_arithmetic_op\u001b[1;34m(left, right, op, is_cmp)\u001b[0m\n\u001b[0;32m    147\u001b[0m             \u001b[1;31m#  will handle complex numbers incorrectly, see GH#32047\u001b[0m\u001b[1;33m\u001b[0m\u001b[1;33m\u001b[0m\u001b[1;33m\u001b[0m\u001b[0m\n\u001b[0;32m    148\u001b[0m             \u001b[1;32mraise\u001b[0m\u001b[1;33m\u001b[0m\u001b[1;33m\u001b[0m\u001b[0m\n\u001b[1;32m--> 149\u001b[1;33m         \u001b[0mresult\u001b[0m \u001b[1;33m=\u001b[0m \u001b[0m_masked_arith_op\u001b[0m\u001b[1;33m(\u001b[0m\u001b[0mleft\u001b[0m\u001b[1;33m,\u001b[0m \u001b[0mright\u001b[0m\u001b[1;33m,\u001b[0m \u001b[0mop\u001b[0m\u001b[1;33m)\u001b[0m\u001b[1;33m\u001b[0m\u001b[1;33m\u001b[0m\u001b[0m\n\u001b[0m\u001b[0;32m    150\u001b[0m \u001b[1;33m\u001b[0m\u001b[0m\n\u001b[0;32m    151\u001b[0m     \u001b[1;32mif\u001b[0m \u001b[0mis_cmp\u001b[0m \u001b[1;32mand\u001b[0m \u001b[1;33m(\u001b[0m\u001b[0mis_scalar\u001b[0m\u001b[1;33m(\u001b[0m\u001b[0mresult\u001b[0m\u001b[1;33m)\u001b[0m \u001b[1;32mor\u001b[0m \u001b[0mresult\u001b[0m \u001b[1;32mis\u001b[0m \u001b[0mNotImplemented\u001b[0m\u001b[1;33m)\u001b[0m\u001b[1;33m:\u001b[0m\u001b[1;33m\u001b[0m\u001b[1;33m\u001b[0m\u001b[0m\n",
      "\u001b[1;32mC:\\ProgramData\\Anaconda3\\lib\\site-packages\\pandas\\core\\ops\\array_ops.py\u001b[0m in \u001b[0;36m_masked_arith_op\u001b[1;34m(x, y, op)\u001b[0m\n\u001b[0;32m    109\u001b[0m         \u001b[1;32mif\u001b[0m \u001b[0mmask\u001b[0m\u001b[1;33m.\u001b[0m\u001b[0many\u001b[0m\u001b[1;33m(\u001b[0m\u001b[1;33m)\u001b[0m\u001b[1;33m:\u001b[0m\u001b[1;33m\u001b[0m\u001b[1;33m\u001b[0m\u001b[0m\n\u001b[0;32m    110\u001b[0m             \u001b[1;32mwith\u001b[0m \u001b[0mnp\u001b[0m\u001b[1;33m.\u001b[0m\u001b[0merrstate\u001b[0m\u001b[1;33m(\u001b[0m\u001b[0mall\u001b[0m\u001b[1;33m=\u001b[0m\u001b[1;34m\"ignore\"\u001b[0m\u001b[1;33m)\u001b[0m\u001b[1;33m:\u001b[0m\u001b[1;33m\u001b[0m\u001b[1;33m\u001b[0m\u001b[0m\n\u001b[1;32m--> 111\u001b[1;33m                 \u001b[0mresult\u001b[0m\u001b[1;33m[\u001b[0m\u001b[0mmask\u001b[0m\u001b[1;33m]\u001b[0m \u001b[1;33m=\u001b[0m \u001b[0mop\u001b[0m\u001b[1;33m(\u001b[0m\u001b[0mxrav\u001b[0m\u001b[1;33m[\u001b[0m\u001b[0mmask\u001b[0m\u001b[1;33m]\u001b[0m\u001b[1;33m,\u001b[0m \u001b[0my\u001b[0m\u001b[1;33m)\u001b[0m\u001b[1;33m\u001b[0m\u001b[1;33m\u001b[0m\u001b[0m\n\u001b[0m\u001b[0;32m    112\u001b[0m \u001b[1;33m\u001b[0m\u001b[0m\n\u001b[0;32m    113\u001b[0m     \u001b[0mresult\u001b[0m\u001b[1;33m,\u001b[0m \u001b[0m_\u001b[0m \u001b[1;33m=\u001b[0m \u001b[0mmaybe_upcast_putmask\u001b[0m\u001b[1;33m(\u001b[0m\u001b[0mresult\u001b[0m\u001b[1;33m,\u001b[0m \u001b[1;33m~\u001b[0m\u001b[0mmask\u001b[0m\u001b[1;33m,\u001b[0m \u001b[0mnp\u001b[0m\u001b[1;33m.\u001b[0m\u001b[0mnan\u001b[0m\u001b[1;33m)\u001b[0m\u001b[1;33m\u001b[0m\u001b[1;33m\u001b[0m\u001b[0m\n",
      "\u001b[1;31mTypeError\u001b[0m: can only concatenate str (not \"int\") to str"
     ]
    }
   ],
   "source": [
    "baselineResolve(E2)"
   ]
  },
  {
   "cell_type": "markdown",
   "metadata": {},
   "source": [
    "# SpanBERT"
   ]
  },
  {
   "cell_type": "code",
   "execution_count": null,
   "metadata": {},
   "outputs": [],
   "source": [
    "conll=pd.read_csv(\"CONLL.csv\",index_col=0)"
   ]
  },
  {
   "cell_type": "code",
   "execution_count": null,
   "metadata": {},
   "outputs": [],
   "source": [
    "# Load Pre_train Dataset\n",
    "df = pd.read_csv(\"Dspans_V21.7.19.csv\",sep=\";\",index_col=0)\n",
    "df.head()"
   ]
  },
  {
   "cell_type": "code",
   "execution_count": null,
   "metadata": {},
   "outputs": [],
   "source": [
    "E1_Ids=loadObj(\"E1_Ids.obj\")"
   ]
  },
  {
   "cell_type": "code",
   "execution_count": null,
   "metadata": {},
   "outputs": [],
   "source": [
    "for i in df.index:\n",
    "  if len(ast.literal_eval(df.spans[i]))>1:\n",
    "    maxspan=()\n",
    "    mindis=999\n",
    "    pi=df.context[i].find(df.pronoun[i])\n",
    "    for s in ast.literal_eval(df.spans[i]):\n",
    "      d=closest(range(s[0],s[1]+1),pi)\n",
    "      if d<mindis:\n",
    "        mindis=d\n",
    "        maxspan=s\n",
    "    df.schars[i]=str(list(range(maxspan[0],maxspan[1]+1)))\n",
    "    df.spans[i]=str([maxspan])"
   ]
  },
  {
   "cell_type": "code",
   "execution_count": null,
   "metadata": {},
   "outputs": [],
   "source": [
    "testdf=df[df.id.isin(E1_Ids)]\n",
    "traindf=df[~df.id.isin(E1_Ids)]"
   ]
  },
  {
   "cell_type": "code",
   "execution_count": null,
   "metadata": {},
   "outputs": [],
   "source": [
    "fast_tokenizer = BertTokenizerFast.from_pretrained('SpanBERT/spanbert-base-cased')\n",
    "model = BertForTokenClassification.from_pretrained('SpanBert20CONLLv10.8.21')\n",
    "tokenizer=fast_tokenizer"
   ]
  },
  {
   "cell_type": "code",
   "execution_count": null,
   "metadata": {},
   "outputs": [],
   "source": [
    "train_data = SpanDetectionData(traindf, fast_tokenizer)#,train=False)\n",
    "test_data = SpanDetectionData(testdf, fast_tokenizer,train=False)"
   ]
  },
  {
   "cell_type": "markdown",
   "metadata": {},
   "source": [
    "## SpanBERT NLP"
   ]
  },
  {
   "cell_type": "code",
   "execution_count": null,
   "metadata": {},
   "outputs": [],
   "source": [
    "for param in model.base_model.parameters():\n",
    "    param.requires_grad = False"
   ]
  },
  {
   "cell_type": "code",
   "execution_count": null,
   "metadata": {},
   "outputs": [],
   "source": [
    "training_args = TrainingArguments(\n",
    "    output_dir='./results',          # output directory\n",
    "    save_steps=200,\n",
    "    logging_steps= 200,          \n",
    "    save_total_limit = 5,\n",
    "    #evaluation_strategy=\"epoch\",     # Evaluation is done at the end of each epoch.\n",
    "    num_train_epochs=20,              # total number of training epochs\n",
    "    learning_rate = 2e-5,\n",
    "    per_device_train_batch_size=32,  # batch size per device during training\n",
    "    per_device_eval_batch_size=32,   # batch size for evaluation\n",
    "    warmup_steps=500,                # number of warmup steps for learning rate scheduler\n",
    "    weight_decay=0.01,               # strength of weight decay\n",
    "    logging_dir='./logs'\n",
    ")\n",
    "\n",
    "nlp_trainer = Trainer(\n",
    "    model=model,                         # the instantiated 🤗 Transformers model to be trained\n",
    "    args=training_args,                  # training arguments, defined above\n",
    "    #train_dataset=pretrain_data,         # training dataset\n",
    "    #eval_dataset=test_data             # evaluation dataset\n",
    ")\n",
    "\n"
   ]
  },
  {
   "cell_type": "code",
   "execution_count": null,
   "metadata": {},
   "outputs": [],
   "source": [
    "nlp_predictions=nlp_trainer.predict(test_data)"
   ]
  },
  {
   "cell_type": "code",
   "execution_count": null,
   "metadata": {},
   "outputs": [],
   "source": [
    "ttruncated_predictions,tpredicted_spans=processPred(nlp_predictions,test_data,testdf)"
   ]
  },
  {
   "cell_type": "code",
   "execution_count": null,
   "metadata": {},
   "outputs": [],
   "source": [
    "tests=[]\n",
    "for t in testdf.schars:\n",
    "  tests.append(ast.literal_eval(str(t)))"
   ]
  },
  {
   "cell_type": "code",
   "execution_count": null,
   "metadata": {},
   "outputs": [],
   "source": [
    "ddf=df[df.id.isin(loadObj(\"Dev_Ids.obj\"))]\n",
    "d_data = SpanDetectionData(devdf, fast_tokenizer,train=False)\n",
    "dpredictions=nlp_trainer.predict(d_data)\n",
    "truncated_predictions = []\n",
    "for k in range(len(d_data)):\n",
    "  inputs_ids = d_data[k]['input_ids']\n",
    "  truncated_predictions.append(dpredictions.predictions[k][:len(inputs_ids)])\n",
    "predicted_spans = predict_spans(truncated_predictions, ddf,fast_tokenizer)\n",
    "ds=[]\n",
    "for t in ddf.schars:\n",
    "  devs.append(ast.literal_eval(str(t)))"
   ]
  },
  {
   "cell_type": "code",
   "execution_count": null,
   "metadata": {},
   "outputs": [],
   "source": [
    "X=2\n",
    "threshold=0.9\n",
    "tp=0\n",
    "tn=0\n",
    "fp=0\n",
    "fn=0\n",
    "FPs=[]\n",
    "for i,p,t,k in zip(ddf.index,truncated_predictions,ds,range(len(d_data))):\n",
    "    p=list(np.where(softmax(p)[:,1]>0.99)[0])\n",
    "    c=ddf.context[i]\n",
    "    nbrS=nbrSpansX(p,x=X)\n",
    "    if (nbrS==0 or nbrS>1) and not t:\n",
    "      tp+=1\n",
    "    elif (nbrS==0 or nbrS>1) and t:\n",
    "        fp+=1\n",
    "        ss=findWspans(c,p)\n",
    "        FPs.append([ddf.id[i],c,ss,findspans(c,t)])\n",
    "    elif not t and (nbrS==1):\n",
    "      fn+=1\n",
    "    else:\n",
    "    # elif is_slice_in_list(p,t):\n",
    "      tn+=1\n",
    "printMetrics(tp,tn,fp,fn)"
   ]
  },
  {
   "cell_type": "markdown",
   "metadata": {},
   "source": [
    "### Resolution"
   ]
  },
  {
   "cell_type": "markdown",
   "metadata": {},
   "source": [
    "#### Full match"
   ]
  },
  {
   "cell_type": "code",
   "execution_count": null,
   "metadata": {},
   "outputs": [],
   "source": [
    "ci=[0,0]\n",
    "for i,p,t in zip(testdf.index, tpredicted_spans,tests):\n",
    "    if t:\n",
    "        c=testdf.context[i]\n",
    "        preds=findspans(c,p)\n",
    "        true=findspans(c,t)[0].strip()\n",
    "        print(preds,true)\n",
    "        if true in preds:\n",
    "            ci[0]+=1\n",
    "        else:\n",
    "            \n",
    "            ci[1]+=1\n",
    "print(ci[0]/(ci[0]+ci[1]))"
   ]
  },
  {
   "cell_type": "markdown",
   "metadata": {},
   "source": [
    "#### Partial match"
   ]
  },
  {
   "cell_type": "code",
   "execution_count": null,
   "metadata": {},
   "outputs": [],
   "source": [
    "ci=[0,0]\n",
    "for i,p,t in zip(testdf.index, tpredicted_spans,tests):\n",
    "    if t:\n",
    "        c=testdf.context[i]\n",
    "        preds=findspans(c,p)\n",
    "        true=findspans(c,t)[0].strip()\n",
    "        if true in preds:\n",
    "            ci[0]+=1\n",
    "        else:\n",
    "            f=False\n",
    "            for pred in preds:\n",
    "                if true in pred:\n",
    "                    ci[0]+=1\n",
    "                    f=True\n",
    "                    break\n",
    "            if not f:\n",
    "                ci[1]+=1\n",
    "print(ci[0]/(ci[0]+ci[1]))"
   ]
  },
  {
   "cell_type": "markdown",
   "metadata": {},
   "source": [
    "### E2"
   ]
  },
  {
   "cell_type": "code",
   "execution_count": null,
   "metadata": {},
   "outputs": [],
   "source": [
    "E2df=pd.read_csv(\"E2-spanBert.csv\",sep=\";\")"
   ]
  },
  {
   "cell_type": "code",
   "execution_count": null,
   "metadata": {},
   "outputs": [],
   "source": [
    "E2df=E2df[~E2df.id.isin([\"railway#41\",\"railway#42\",\"railway#43-b\",\"railway#44\",\"railway#45\",\"railway#46-b\",\"railway#47\"])]"
   ]
  },
  {
   "cell_type": "code",
   "execution_count": null,
   "metadata": {},
   "outputs": [],
   "source": [
    "E2_data = SpanDetectionData(E2df, fast_tokenizer,train=False)"
   ]
  },
  {
   "cell_type": "code",
   "execution_count": null,
   "metadata": {},
   "outputs": [],
   "source": [
    "e2_nlp_predictions=nlp_trainer.predict(E2_data)"
   ]
  },
  {
   "cell_type": "code",
   "execution_count": null,
   "metadata": {},
   "outputs": [],
   "source": [
    "e2s=[]\n",
    "for t in E2df.schars:\n",
    "  e2s.append(ast.literal_eval(str(t)))"
   ]
  },
  {
   "cell_type": "code",
   "execution_count": null,
   "metadata": {},
   "outputs": [],
   "source": [
    "e2truncated_predictions,e2predicted_spans=processPred(e2_nlp_predictions,E2_data,E2df)"
   ]
  },
  {
   "cell_type": "code",
   "execution_count": null,
   "metadata": {},
   "outputs": [],
   "source": [
    "evaluateST(e2truncated_predictions,e2s,X=2,threshold=0.9)"
   ]
  },
  {
   "cell_type": "markdown",
   "metadata": {},
   "source": [
    "### Resolution"
   ]
  },
  {
   "cell_type": "markdown",
   "metadata": {},
   "source": [
    "full match"
   ]
  },
  {
   "cell_type": "code",
   "execution_count": null,
   "metadata": {},
   "outputs": [],
   "source": [
    "ci=[0,0]\n",
    "for i,p,t in zip(E2df.index, e2predicted_spans,e2s):\n",
    "    if t:\n",
    "        c=E2df.context[i]\n",
    "        preds=findspans(c,p)\n",
    "        true=findspans(c,t)[0].strip()\n",
    "        if true in preds:\n",
    "            ci[0]+=1\n",
    "        else:\n",
    "            ci[1]+=1\n",
    "print(ci[0]/(ci[0]+ci[1]))"
   ]
  },
  {
   "cell_type": "markdown",
   "metadata": {},
   "source": [
    "partial match"
   ]
  },
  {
   "cell_type": "code",
   "execution_count": null,
   "metadata": {},
   "outputs": [],
   "source": [
    "ci=[0,0]\n",
    "for i,p,t in zip(E2df.index, e2predicted_spans,e2s):\n",
    "    if t:\n",
    "        c=E2df.context[i]\n",
    "        preds=findspans(c,p)\n",
    "        true=findspans(c,t)[0].strip()\n",
    "        if true in preds:\n",
    "            ci[0]+=1\n",
    "        else:\n",
    "            f=False\n",
    "            for pred in preds:\n",
    "                if true in pred:\n",
    "                    ci[0]+=1\n",
    "                    f=True\n",
    "                    break\n",
    "            if not f:\n",
    "                ci[1]+=1\n",
    "print(ci[0]/(ci[0]+ci[1]))"
   ]
  },
  {
   "cell_type": "markdown",
   "metadata": {},
   "source": [
    "## SpanBERT RE"
   ]
  },
  {
   "cell_type": "code",
   "execution_count": null,
   "metadata": {},
   "outputs": [],
   "source": [
    "from transformers import Trainer, TrainingArguments\n",
    "\n",
    "training_args = TrainingArguments(\n",
    "    output_dir='./results',          # output directory\n",
    "    save_steps=200,\n",
    "    logging_steps= 200,          \n",
    "    save_total_limit = 5,\n",
    "    #evaluation_strategy=\"epoch\",     # Evaluation is done at the end of each epoch.\n",
    "    num_train_epochs=3,              # total number of training epochs\n",
    "    learning_rate = 2e-5,\n",
    "    per_device_train_batch_size=32,  # batch size per device during training\n",
    "    per_device_eval_batch_size=32,   # batch size for evaluation\n",
    "    warmup_steps=500,                # number of warmup steps for learning rate scheduler\n",
    "    weight_decay=0.01,               # strength of weight decay\n",
    "    logging_dir='./logs'\n",
    ")\n",
    "\n",
    "retrainer = Trainer(\n",
    "    model=model,                         # the instantiated 🤗 Transformers model to be trained\n",
    "    args=training_args,                  # training arguments, defined above\n",
    "    train_dataset=train_data,         # training dataset\n",
    "    #eval_dataset=test_data             # evaluation dataset\n",
    ")\n",
    "\n",
    "retrainer.train()"
   ]
  },
  {
   "cell_type": "code",
   "execution_count": null,
   "metadata": {},
   "outputs": [],
   "source": [
    "testpredictions=retrainer.predict(test_data)\n",
    "tests=[]\n",
    "for t in testdf.schars:\n",
    "  tests.append(ast.literal_eval(str(t)))\n",
    "test_truncated_predictions = []\n",
    "for k in range(len(test_data)):\n",
    "  inputs_ids = test_data[k]['input_ids']\n",
    "  test_truncated_predictions.append(testpredictions.predictions[k][:len(inputs_ids)])\n",
    "test_predicted_spans = predict_spans(test_truncated_predictions, testdf,fast_tokenizer)"
   ]
  },
  {
   "cell_type": "code",
   "execution_count": null,
   "metadata": {},
   "outputs": [],
   "source": [
    "X=2\n",
    "threshold=0.9\n",
    "tp=0\n",
    "tn=0\n",
    "fp=0\n",
    "fn=0\n",
    "#FPs=[]\n",
    "for i,p,t,k in zip(testdf.index,test_truncated_predictions,tests,range(len(test_data))):\n",
    "    p=list(np.where(softmax(p)[:,1]>threshold)[0])\n",
    "    nbrS=nbrSpansX(p,x=X)\n",
    "    if (nbrS==0 or nbrS>1) and not t:\n",
    "      tp+=1\n",
    "    elif (nbrS==0 or nbrS>1) and t:\n",
    "        fp+=1\n",
    "        #c=testdf.context[i]\n",
    "#        tokens_info = fast_tokenizer(c, return_offsets_mapping=True)\n",
    "#        one_idx = np.where(np.argmax(predictions.predictions[k],1)==1)[0]\n",
    "#        yoyo = [tokens_info['offset_mapping'][j] for j in one_idx if j<len(tokens_info['offset_mapping'])]\n",
    "#        pred = []\n",
    "#        for p in yoyo:\n",
    "#          pred += list(range(p[0],p[1]))\n",
    "#        FPs.append([testdf.id[i],c,pred,findspans(c,pred),findspans(c,t)])\n",
    "    elif not t and (nbrS==1):\n",
    "      fn+=1\n",
    "    else:\n",
    "    # elif is_slice_in_list(p,t):\n",
    "      tn+=1\n",
    "printMetrics(tp,tn,fp,fn)"
   ]
  },
  {
   "cell_type": "markdown",
   "metadata": {},
   "source": [
    "### Resoltion"
   ]
  },
  {
   "cell_type": "markdown",
   "metadata": {},
   "source": [
    "Full match"
   ]
  },
  {
   "cell_type": "code",
   "execution_count": null,
   "metadata": {},
   "outputs": [],
   "source": [
    "ci=[0,0]\n",
    "for i,p,t in zip(testdf.index, test_predicted_spans,tests):\n",
    "    if t:\n",
    "        c=testdf.context[i]\n",
    "        preds=findspans(c,p)\n",
    "        true=findspans(c,t)[0].strip()\n",
    "        if true in preds:\n",
    "            ci[0]+=1\n",
    "        else:\n",
    "            ci[1]+=1\n",
    "print(ci[0]/(ci[0]+ci[1]))"
   ]
  },
  {
   "cell_type": "markdown",
   "metadata": {},
   "source": [
    "Partial Match"
   ]
  },
  {
   "cell_type": "code",
   "execution_count": null,
   "metadata": {},
   "outputs": [],
   "source": [
    "ci=[0,0]\n",
    "for i,p,t in zip(testdf.index, test_predicted_spans,tests):\n",
    "    if t:\n",
    "        c=testdf.context[i]\n",
    "        preds=findspans(c,p)\n",
    "        true=findspans(c,t)[0].strip()\n",
    "        if true in preds:\n",
    "            ci[0]+=1\n",
    "        else:\n",
    "            f=False\n",
    "            for pred in preds:\n",
    "                if true in pred:\n",
    "                    ci[0]+=1\n",
    "                    f=True\n",
    "                    break\n",
    "            if not f:\n",
    "                ci[1]+=1\n",
    "print(ci[0]/(ci[0]+ci[1]))"
   ]
  },
  {
   "cell_type": "markdown",
   "metadata": {},
   "source": [
    "### E2"
   ]
  },
  {
   "cell_type": "code",
   "execution_count": null,
   "metadata": {},
   "outputs": [],
   "source": [
    "e2_re_predictions=retrainer.predict(E2_data)\n",
    "e2truncated_predictions,e2_predicted_spans=processPred(e2_re_predictions,E2_data,E2df)\n",
    "e2_predicted_spans_T = predict_spans_T(e2truncated_predictions, E2df,fast_tokenizer,0.9)"
   ]
  },
  {
   "cell_type": "code",
   "execution_count": null,
   "metadata": {},
   "outputs": [],
   "source": [
    "evaluateST(e2truncated_predictions,e2s,X=2,threshold=0.9)"
   ]
  },
  {
   "cell_type": "code",
   "execution_count": null,
   "metadata": {},
   "outputs": [],
   "source": [
    "ci=[0,0]\n",
    "for i,p,t in zip(E2df.index, e2_predicted_spans,e2s):\n",
    "    if t:\n",
    "        c=E2df.context[i]\n",
    "        preds=findspans(c,p)\n",
    "        true=findspans(c,t)[0].strip()\n",
    "        if len(preds)==1:\n",
    "            if true in preds:\n",
    "                ci[0]+=1\n",
    "            else:\n",
    "                f=False\n",
    "                for pred in preds:\n",
    "                    if true in pred:\n",
    "                        ci[0]+=1\n",
    "                        f=True\n",
    "                        break\n",
    "                if not f:\n",
    "                    ci[1]+=1\n",
    "print(ci[0]/(ci[0]+ci[1]))"
   ]
  },
  {
   "cell_type": "code",
   "execution_count": null,
   "metadata": {},
   "outputs": [],
   "source": [
    "ci=[0,0]\n",
    "for i,p,t in zip(E2df.index, e2_predicted_spans,e2s):\n",
    "    if t:\n",
    "        c=E2df.context[i]\n",
    "        preds=findspans(c,p)\n",
    "        true=findspans(c,t)[0].strip()\n",
    "        if true in preds:\n",
    "            ci[0]+=1\n",
    "        else:\n",
    "            ci[1]+=1\n",
    "print(ci[0]/(ci[0]+ci[1]))"
   ]
  }
 ],
 "metadata": {
  "kernelspec": {
   "display_name": "Python 3 (ipykernel)",
   "language": "python",
   "name": "python3"
  },
  "language_info": {
   "codemirror_mode": {
    "name": "ipython",
    "version": 3
   },
   "file_extension": ".py",
   "mimetype": "text/x-python",
   "name": "python",
   "nbconvert_exporter": "python",
   "pygments_lexer": "ipython3",
   "version": "3.8.11"
  },
  "toc": {
   "base_numbering": 1,
   "nav_menu": {},
   "number_sections": true,
   "sideBar": true,
   "skip_h1_title": false,
   "title_cell": "Table of Contents",
   "title_sidebar": "Contents",
   "toc_cell": false,
   "toc_position": {
    "height": "1110px",
    "left": "418px",
    "top": "110.233px",
    "width": "274.667px"
   },
   "toc_section_display": true,
   "toc_window_display": true
  },
  "varInspector": {
   "cols": {
    "lenName": 16,
    "lenType": 16,
    "lenVar": 40
   },
   "kernels_config": {
    "python": {
     "delete_cmd_postfix": "",
     "delete_cmd_prefix": "del ",
     "library": "var_list.py",
     "varRefreshCmd": "print(var_dic_list())"
    },
    "r": {
     "delete_cmd_postfix": ") ",
     "delete_cmd_prefix": "rm(",
     "library": "var_list.r",
     "varRefreshCmd": "cat(var_dic_list()) "
    }
   },
   "types_to_exclude": [
    "module",
    "function",
    "builtin_function_or_method",
    "instance",
    "_Feature"
   ],
   "window_display": false
  }
 },
 "nbformat": 4,
 "nbformat_minor": 4
}
